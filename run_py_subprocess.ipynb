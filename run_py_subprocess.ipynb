{
 "cells": [
  {
   "cell_type": "markdown",
   "source": [
    "<h3>1. Próba uruchomienia skryptu do pomiarowego</h3>\n"
   ],
   "metadata": {
    "collapsed": false,
    "pycharm": {
     "name": "#%% md\n"
    }
   }
  },
  {
   "cell_type": "markdown",
   "source": [
    "<h4>1.1 Import bibliotek</h4>"
   ],
   "metadata": {
    "collapsed": false,
    "pycharm": {
     "name": "#%% md\n"
    }
   }
  },
  {
   "cell_type": "code",
   "execution_count": 6,
   "outputs": [],
   "source": [
    "from constants import ArgNames\n",
    "from constants import AlgNames\n",
    "from builders.ArgsBuilder import ArgsBuilder\n",
    "import subprocess\n",
    "import logging"
   ],
   "metadata": {
    "collapsed": false,
    "pycharm": {
     "name": "#%%\n"
    }
   }
  },
  {
   "cell_type": "markdown",
   "source": [
    "<h4>1.2 Przygotowanie argumentów do uruchomienia skryptu</h4>"
   ],
   "metadata": {
    "collapsed": false,
    "pycharm": {
     "name": "#%% md\n"
    }
   }
  },
  {
   "cell_type": "code",
   "execution_count": 7,
   "outputs": [],
   "source": [
    "args_builder = ArgsBuilder()\n",
    "args_builder.add_arg(ArgNames.NAME_OF_ALGORITHM,AlgNames.ASTAR)\\\n",
    "    .add_arg(ArgNames.NUMBER_OF_CITIES, 5)\\\n",
    "    .add_arg(ArgNames.NUMBER_OF_SAMPLE, 0)\\\n",
    "    .add_arg(ArgNames.NUMBER_OF_ALL_SAMPLES,100)\n",
    "\n",
    "args = args_builder.build()\n",
    "\n",
    "python_file_name_to_execute = \"make_meassurement.py\"\n",
    "python_command = \"python %s %s\" % ( python_file_name_to_execute, args)\n",
    "\n"
   ],
   "metadata": {
    "collapsed": false,
    "pycharm": {
     "name": "#%%\n"
    }
   }
  },
  {
   "cell_type": "markdown",
   "source": [
    "<h4>1.3 Uruchomienie skryptu</h4>"
   ],
   "metadata": {
    "collapsed": false,
    "pycharm": {
     "name": "#%% md\n"
    }
   }
  },
  {
   "cell_type": "code",
   "execution_count": 11,
   "outputs": [
    {
     "name": "stdout",
     "output_type": "stream",
     "text": [
      "Execute command: python make_meassurement.py --name_of_algorithm Astar --number_of_cities 5 --number_of_sample 0 --number_of_all_samples 100 \n",
      "b''\n",
      "b'usage: scalene.profile [-h] [--pid PID] (--on | --off)\\r\\nscalene.profile: error: one of the arguments --on --off is required\\r\\n'\n"
     ]
    }
   ],
   "source": [
    "logging.info(\"Execute command: %s\" % python_command)\n",
    "p = subprocess.Popen(python_command, stdout=subprocess.PIPE,stderr=subprocess.PIPE, shell=True)\n",
    "out, err = p.communicate()\n",
    "logging.info(\"Output from subprocess\")\n",
    "logging.info(out)\n",
    "logging.info(\"======================\")\n",
    "logging.info(\"Errors from subprocess\")\n",
    "logging.error(err)\n",
    "logging.info(\"======================\")"
   ],
   "metadata": {
    "collapsed": false,
    "pycharm": {
     "name": "#%%\n"
    }
   }
  },
  {
   "cell_type": "code",
   "execution_count": 8,
   "outputs": [],
   "source": [],
   "metadata": {
    "collapsed": false,
    "pycharm": {
     "name": "#%%\n"
    }
   }
  }
 ],
 "metadata": {
  "kernelspec": {
   "name": "pycharm-ac97db8",
   "language": "python",
   "display_name": "PyCharm (TSP_magistery_pl_job)"
  },
  "language_info": {
   "codemirror_mode": {
    "name": "ipython",
    "version": 2
   },
   "file_extension": ".py",
   "mimetype": "text/x-python",
   "name": "python",
   "nbconvert_exporter": "python",
   "pygments_lexer": "ipython2",
   "version": "2.7.6"
  }
 },
 "nbformat": 4,
 "nbformat_minor": 0
}
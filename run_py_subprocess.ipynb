{
 "cells": [
  {
   "cell_type": "markdown",
   "source": [
    "<h3>1. Próba uruchomienia skryptu do pomiarowego</h3>\n"
   ],
   "metadata": {
    "collapsed": false,
    "pycharm": {
     "name": "#%% md\n"
    }
   }
  },
  {
   "cell_type": "markdown",
   "source": [
    "<h4>1.1 Import bibliotek</h4>"
   ],
   "metadata": {
    "collapsed": false,
    "pycharm": {
     "name": "#%% md\n"
    }
   }
  },
  {
   "cell_type": "code",
   "execution_count": 37,
   "outputs": [],
   "source": [
    "from constants import ArgNames\n",
    "from builders.ArgsBuilder import ArgsBuilder\n",
    "import subprocess"
   ],
   "metadata": {
    "collapsed": false,
    "pycharm": {
     "name": "#%%\n"
    }
   }
  },
  {
   "cell_type": "markdown",
   "source": [
    "<h4>1.2 Przygotowanie argumentów do uruchomienia skryptu</h4>"
   ],
   "metadata": {
    "collapsed": false,
    "pycharm": {
     "name": "#%% md\n"
    }
   }
  },
  {
   "cell_type": "code",
   "execution_count": 38,
   "outputs": [
    {
     "name": "stdout",
     "output_type": "stream",
     "text": [
      "ALG: Astar | N: 3 | ns: 4 | measure:       CPU       | is in progress: [>                   ] 0.034392 %"
     ]
    },
    {
     "ename": "KeyboardInterrupt",
     "evalue": "",
     "output_type": "error",
     "traceback": [
      "\u001B[1;31m---------------------------------------------------------------------------\u001B[0m",
      "\u001B[1;31mKeyboardInterrupt\u001B[0m                         Traceback (most recent call last)",
      "\u001B[1;32m~\\AppData\\Local\\Temp/ipykernel_7292/513491740.py\u001B[0m in \u001B[0;36m<module>\u001B[1;34m\u001B[0m\n\u001B[0;32m     24\u001B[0m                 \u001B[1;31m# print(\"Execute command: %s\" % python_command)\u001B[0m\u001B[1;33m\u001B[0m\u001B[1;33m\u001B[0m\u001B[1;33m\u001B[0m\u001B[0m\n\u001B[0;32m     25\u001B[0m                 \u001B[0mp\u001B[0m \u001B[1;33m=\u001B[0m \u001B[0msubprocess\u001B[0m\u001B[1;33m.\u001B[0m\u001B[0mPopen\u001B[0m\u001B[1;33m(\u001B[0m\u001B[0mpython_command\u001B[0m\u001B[1;33m,\u001B[0m \u001B[0mstdout\u001B[0m\u001B[1;33m=\u001B[0m\u001B[0msubprocess\u001B[0m\u001B[1;33m.\u001B[0m\u001B[0mPIPE\u001B[0m\u001B[1;33m,\u001B[0m\u001B[0mstderr\u001B[0m\u001B[1;33m=\u001B[0m\u001B[0msubprocess\u001B[0m\u001B[1;33m.\u001B[0m\u001B[0mPIPE\u001B[0m\u001B[1;33m,\u001B[0m \u001B[0mshell\u001B[0m\u001B[1;33m=\u001B[0m\u001B[1;32mTrue\u001B[0m\u001B[1;33m)\u001B[0m\u001B[1;33m\u001B[0m\u001B[1;33m\u001B[0m\u001B[0m\n\u001B[1;32m---> 26\u001B[1;33m                 \u001B[0mout\u001B[0m\u001B[1;33m,\u001B[0m \u001B[0merr\u001B[0m \u001B[1;33m=\u001B[0m \u001B[0mp\u001B[0m\u001B[1;33m.\u001B[0m\u001B[0mcommunicate\u001B[0m\u001B[1;33m(\u001B[0m\u001B[1;33m)\u001B[0m\u001B[1;33m\u001B[0m\u001B[1;33m\u001B[0m\u001B[0m\n\u001B[0m\u001B[0;32m     27\u001B[0m                 \u001B[0mcurrent\u001B[0m \u001B[1;33m+=\u001B[0m \u001B[1;36m1\u001B[0m\u001B[1;33m\u001B[0m\u001B[1;33m\u001B[0m\u001B[0m\n\u001B[0;32m     28\u001B[0m                 \u001B[0mmeasure\u001B[0m \u001B[1;33m=\u001B[0m \u001B[1;34m\"{0:^15s}\"\u001B[0m\u001B[1;33m.\u001B[0m\u001B[0mformat\u001B[0m\u001B[1;33m(\u001B[0m\u001B[0mtype_of_measure\u001B[0m\u001B[1;33m)\u001B[0m\u001B[1;33m\u001B[0m\u001B[1;33m\u001B[0m\u001B[0m\n",
      "\u001B[1;32mE:\\PROGRAMY\\Anaconda3\\lib\\subprocess.py\u001B[0m in \u001B[0;36mcommunicate\u001B[1;34m(self, input, timeout)\u001B[0m\n\u001B[0;32m    962\u001B[0m \u001B[1;33m\u001B[0m\u001B[0m\n\u001B[0;32m    963\u001B[0m             \u001B[1;32mtry\u001B[0m\u001B[1;33m:\u001B[0m\u001B[1;33m\u001B[0m\u001B[1;33m\u001B[0m\u001B[0m\n\u001B[1;32m--> 964\u001B[1;33m                 \u001B[0mstdout\u001B[0m\u001B[1;33m,\u001B[0m \u001B[0mstderr\u001B[0m \u001B[1;33m=\u001B[0m \u001B[0mself\u001B[0m\u001B[1;33m.\u001B[0m\u001B[0m_communicate\u001B[0m\u001B[1;33m(\u001B[0m\u001B[0minput\u001B[0m\u001B[1;33m,\u001B[0m \u001B[0mendtime\u001B[0m\u001B[1;33m,\u001B[0m \u001B[0mtimeout\u001B[0m\u001B[1;33m)\u001B[0m\u001B[1;33m\u001B[0m\u001B[1;33m\u001B[0m\u001B[0m\n\u001B[0m\u001B[0;32m    965\u001B[0m             \u001B[1;32mexcept\u001B[0m \u001B[0mKeyboardInterrupt\u001B[0m\u001B[1;33m:\u001B[0m\u001B[1;33m\u001B[0m\u001B[1;33m\u001B[0m\u001B[0m\n\u001B[0;32m    966\u001B[0m                 \u001B[1;31m# https://bugs.python.org/issue25942\u001B[0m\u001B[1;33m\u001B[0m\u001B[1;33m\u001B[0m\u001B[1;33m\u001B[0m\u001B[0m\n",
      "\u001B[1;32mE:\\PROGRAMY\\Anaconda3\\lib\\subprocess.py\u001B[0m in \u001B[0;36m_communicate\u001B[1;34m(self, input, endtime, orig_timeout)\u001B[0m\n\u001B[0;32m   1294\u001B[0m             \u001B[1;31m# calls communicate again.\u001B[0m\u001B[1;33m\u001B[0m\u001B[1;33m\u001B[0m\u001B[1;33m\u001B[0m\u001B[0m\n\u001B[0;32m   1295\u001B[0m             \u001B[1;32mif\u001B[0m \u001B[0mself\u001B[0m\u001B[1;33m.\u001B[0m\u001B[0mstdout\u001B[0m \u001B[1;32mis\u001B[0m \u001B[1;32mnot\u001B[0m \u001B[1;32mNone\u001B[0m\u001B[1;33m:\u001B[0m\u001B[1;33m\u001B[0m\u001B[1;33m\u001B[0m\u001B[0m\n\u001B[1;32m-> 1296\u001B[1;33m                 \u001B[0mself\u001B[0m\u001B[1;33m.\u001B[0m\u001B[0mstdout_thread\u001B[0m\u001B[1;33m.\u001B[0m\u001B[0mjoin\u001B[0m\u001B[1;33m(\u001B[0m\u001B[0mself\u001B[0m\u001B[1;33m.\u001B[0m\u001B[0m_remaining_time\u001B[0m\u001B[1;33m(\u001B[0m\u001B[0mendtime\u001B[0m\u001B[1;33m)\u001B[0m\u001B[1;33m)\u001B[0m\u001B[1;33m\u001B[0m\u001B[1;33m\u001B[0m\u001B[0m\n\u001B[0m\u001B[0;32m   1297\u001B[0m                 \u001B[1;32mif\u001B[0m \u001B[0mself\u001B[0m\u001B[1;33m.\u001B[0m\u001B[0mstdout_thread\u001B[0m\u001B[1;33m.\u001B[0m\u001B[0mis_alive\u001B[0m\u001B[1;33m(\u001B[0m\u001B[1;33m)\u001B[0m\u001B[1;33m:\u001B[0m\u001B[1;33m\u001B[0m\u001B[1;33m\u001B[0m\u001B[0m\n\u001B[0;32m   1298\u001B[0m                     \u001B[1;32mraise\u001B[0m \u001B[0mTimeoutExpired\u001B[0m\u001B[1;33m(\u001B[0m\u001B[0mself\u001B[0m\u001B[1;33m.\u001B[0m\u001B[0margs\u001B[0m\u001B[1;33m,\u001B[0m \u001B[0morig_timeout\u001B[0m\u001B[1;33m)\u001B[0m\u001B[1;33m\u001B[0m\u001B[1;33m\u001B[0m\u001B[0m\n",
      "\u001B[1;32mE:\\PROGRAMY\\Anaconda3\\lib\\threading.py\u001B[0m in \u001B[0;36mjoin\u001B[1;34m(self, timeout)\u001B[0m\n\u001B[0;32m   1042\u001B[0m \u001B[1;33m\u001B[0m\u001B[0m\n\u001B[0;32m   1043\u001B[0m         \u001B[1;32mif\u001B[0m \u001B[0mtimeout\u001B[0m \u001B[1;32mis\u001B[0m \u001B[1;32mNone\u001B[0m\u001B[1;33m:\u001B[0m\u001B[1;33m\u001B[0m\u001B[1;33m\u001B[0m\u001B[0m\n\u001B[1;32m-> 1044\u001B[1;33m             \u001B[0mself\u001B[0m\u001B[1;33m.\u001B[0m\u001B[0m_wait_for_tstate_lock\u001B[0m\u001B[1;33m(\u001B[0m\u001B[1;33m)\u001B[0m\u001B[1;33m\u001B[0m\u001B[1;33m\u001B[0m\u001B[0m\n\u001B[0m\u001B[0;32m   1045\u001B[0m         \u001B[1;32melse\u001B[0m\u001B[1;33m:\u001B[0m\u001B[1;33m\u001B[0m\u001B[1;33m\u001B[0m\u001B[0m\n\u001B[0;32m   1046\u001B[0m             \u001B[1;31m# the behavior of a negative timeout isn't documented, but\u001B[0m\u001B[1;33m\u001B[0m\u001B[1;33m\u001B[0m\u001B[1;33m\u001B[0m\u001B[0m\n",
      "\u001B[1;32mE:\\PROGRAMY\\Anaconda3\\lib\\threading.py\u001B[0m in \u001B[0;36m_wait_for_tstate_lock\u001B[1;34m(self, block, timeout)\u001B[0m\n\u001B[0;32m   1058\u001B[0m         \u001B[1;32mif\u001B[0m \u001B[0mlock\u001B[0m \u001B[1;32mis\u001B[0m \u001B[1;32mNone\u001B[0m\u001B[1;33m:\u001B[0m  \u001B[1;31m# already determined that the C code is done\u001B[0m\u001B[1;33m\u001B[0m\u001B[1;33m\u001B[0m\u001B[0m\n\u001B[0;32m   1059\u001B[0m             \u001B[1;32massert\u001B[0m \u001B[0mself\u001B[0m\u001B[1;33m.\u001B[0m\u001B[0m_is_stopped\u001B[0m\u001B[1;33m\u001B[0m\u001B[1;33m\u001B[0m\u001B[0m\n\u001B[1;32m-> 1060\u001B[1;33m         \u001B[1;32melif\u001B[0m \u001B[0mlock\u001B[0m\u001B[1;33m.\u001B[0m\u001B[0macquire\u001B[0m\u001B[1;33m(\u001B[0m\u001B[0mblock\u001B[0m\u001B[1;33m,\u001B[0m \u001B[0mtimeout\u001B[0m\u001B[1;33m)\u001B[0m\u001B[1;33m:\u001B[0m\u001B[1;33m\u001B[0m\u001B[1;33m\u001B[0m\u001B[0m\n\u001B[0m\u001B[0;32m   1061\u001B[0m             \u001B[0mlock\u001B[0m\u001B[1;33m.\u001B[0m\u001B[0mrelease\u001B[0m\u001B[1;33m(\u001B[0m\u001B[1;33m)\u001B[0m\u001B[1;33m\u001B[0m\u001B[1;33m\u001B[0m\u001B[0m\n\u001B[0;32m   1062\u001B[0m             \u001B[0mself\u001B[0m\u001B[1;33m.\u001B[0m\u001B[0m_stop\u001B[0m\u001B[1;33m(\u001B[0m\u001B[1;33m)\u001B[0m\u001B[1;33m\u001B[0m\u001B[1;33m\u001B[0m\u001B[0m\n",
      "\u001B[1;31mKeyboardInterrupt\u001B[0m: "
     ]
    }
   ],
   "source": [
    "from progress.progress import progress_bar\n",
    "\n",
    "NUMBER_OF_CITIES = list(range(3,51))\n",
    "INDEXES_OF_SAMPLES = list(range(0, 100))\n",
    "NAMES_OF_ALGORITHMS = [\"Astar\", \"BrutalForceTsp\", \"DynamicProgramingHeldKarpTsp\", \"GeneticAlgorithmMlroseTsp\",\n",
    "                             \"GreedySearchTsp\", \"LocalSearchTsp\", \"SimulatedAnnealingTsp\"]\n",
    "TYPE_OF_MEASUREMENT = [ \"CPU\", \"TIME_AND_DATA\", \"TIME_AND_MEMORY\"]\n",
    "total = len(NUMBER_OF_CITIES) * len(INDEXES_OF_SAMPLES) * len(NAMES_OF_ALGORITHMS) * len(TYPE_OF_MEASUREMENT)\n",
    "current = 0\n",
    "for alg in NAMES_OF_ALGORITHMS:\n",
    "    for n_cites in NUMBER_OF_CITIES:\n",
    "        for index_of_sample in INDEXES_OF_SAMPLES:\n",
    "            for type_of_measure in TYPE_OF_MEASUREMENT:\n",
    "                args_builder = ArgsBuilder()\n",
    "                args_builder.add_arg(ArgNames.NAME_OF_ALGORITHM,alg)\\\n",
    "                    .add_arg(ArgNames.NUMBER_OF_CITIES, n_cites)\\\n",
    "                    .add_arg(ArgNames.NUMBER_OF_SAMPLE, index_of_sample)\\\n",
    "                    .add_arg(ArgNames.TYPE_OF_MEASUREMENT,type_of_measure)\n",
    "\n",
    "                args = args_builder.build()\n",
    "\n",
    "                python_file_name_to_execute = \"make_meassurement.py\"\n",
    "                python_command = \"python %s %s\" % ( python_file_name_to_execute, args)\n",
    "                # print(\"Execute command: %s\" % python_command)\n",
    "                p = subprocess.Popen(python_command, stdout=subprocess.PIPE,stderr=subprocess.PIPE, shell=True)\n",
    "                out, err = p.communicate()\n",
    "                current += 1\n",
    "                measure = \"{0:^15s}\".format(type_of_measure)\n",
    "                title = \"ALG: %s | N: %d | ns: %d | measure: %s |\" % ( alg, n_cites, index_of_sample, measure)\n",
    "                progress_bar(current, total, title)\n",
    "\n"
   ],
   "metadata": {
    "collapsed": false,
    "pycharm": {
     "name": "#%%\n"
    }
   }
  },
  {
   "cell_type": "code",
   "execution_count": null,
   "outputs": [],
   "source": [],
   "metadata": {
    "collapsed": false,
    "pycharm": {
     "name": "#%%\n"
    }
   }
  }
 ],
 "metadata": {
  "kernelspec": {
   "name": "pycharm-ac97db8",
   "language": "python",
   "display_name": "PyCharm (TSP_magistery_pl_job)"
  },
  "language_info": {
   "codemirror_mode": {
    "name": "ipython",
    "version": 2
   },
   "file_extension": ".py",
   "mimetype": "text/x-python",
   "name": "python",
   "nbconvert_exporter": "python",
   "pygments_lexer": "ipython2",
   "version": "2.7.6"
  }
 },
 "nbformat": 4,
 "nbformat_minor": 0
}
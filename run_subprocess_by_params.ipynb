{
 "cells": [
  {
   "cell_type": "markdown",
   "source": [
    "<h3>1. Próba uruchomienia skryptu do pomiarowego</h3>\n"
   ],
   "metadata": {
    "collapsed": false,
    "pycharm": {
     "name": "#%% md\n"
    }
   }
  },
  {
   "cell_type": "markdown",
   "source": [
    "<h4>1.1 Import bibliotek</h4>"
   ],
   "metadata": {
    "collapsed": false,
    "pycharm": {
     "name": "#%% md\n"
    }
   }
  },
  {
   "cell_type": "code",
   "execution_count": 37,
   "outputs": [],
   "source": [
    "import subprocess\n",
    "\n",
    "from builders.ArgsBuilder import ArgsBuilder\n",
    "from constants import ArgNames"
   ],
   "metadata": {
    "collapsed": false,
    "pycharm": {
     "name": "#%%\n"
    }
   }
  },
  {
   "cell_type": "markdown",
   "source": [
    "<h4>1.2 Przygotowanie argumentów do uruchomienia skryptu</h4>"
   ],
   "metadata": {
    "collapsed": false,
    "pycharm": {
     "name": "#%% md\n"
    }
   }
  },
  {
   "cell_type": "code",
   "execution_count": 1,
   "outputs": [
    {
     "ename": "SyntaxError",
     "evalue": "invalid syntax (Temp/ipykernel_7096/1581805933.py, line 18)",
     "output_type": "error",
     "traceback": [
      "\u001B[1;36m  File \u001B[1;32m\"C:\\Users\\lukas\\AppData\\Local\\Temp/ipykernel_7096/1581805933.py\"\u001B[1;36m, line \u001B[1;32m18\u001B[0m\n\u001B[1;33m    args = args_builder.build()\u001B[0m\n\u001B[1;37m       ^\u001B[0m\n\u001B[1;31mSyntaxError\u001B[0m\u001B[1;31m:\u001B[0m invalid syntax\n"
     ]
    }
   ],
   "source": [
    "from progress.progress import progress_bar\n",
    "\n",
    "import subprocess\n",
    "\n",
    "from builders.ArgsBuilder import ArgsBuilder\n",
    "from constants import ArgNames\n",
    "NUMBER_OF_CITIES = list(range(3, 51))\n",
    "INDEXES_OF_SAMPLES = list(range(0, 100))\n",
    "NAMES_OF_ALGORITHMS = [\"Astar\", \"BrutalForceTsp\", \"DynamicProgramingHeldKarpTsp\", \"GeneticAlgorithmMlroseTsp\",\n",
    "                       \"GreedySearchTsp\", \"LocalSearchTsp\", \"SimulatedAnnealingTsp\"]\n",
    "TYPE_OF_MEASUREMENTS = [\"CPU\", \"TIME_AND_DATA\", \"TIME_AND_MEMORY\"]\n",
    "\n",
    "alg = \"Astar\"\n",
    "index_of_sample = 0\n",
    "n_cites = 35\n",
    "type_of_measure = \"CPU\"\n",
    "args_builder = ArgsBuilder()\n",
    "args_builder.add_arg(ArgNames.NAME_OF_ALGORITHM, alg)\\\n",
    "    .add_arg(ArgNames.NUMBER_OF_CITIES, n_cites)\\\n",
    "    .add_arg(ArgNames.NUMBER_OF_SAMPLE, index_of_sample)\\\n",
    "    .add_arg(ArgNames.TYPE_OF_MEASUREMENT, type_of_measure)\\\n",
    "args = args_builder.build()\n",
    "\n",
    "python_file_name_to_execute = \"make_meassurement.py\"\n",
    "python_command = \"python %s %s\" % (python_file_name_to_execute, args)\n",
    "# print(\"Execute command: %s\" % python_command)\n",
    "p = subprocess.Popen(python_command, stdout=subprocess.PIPE, stderr=subprocess.PIPE, shell=True)\n",
    "out, err = p.communicate()\n",
    "\n"
   ],
   "metadata": {
    "collapsed": false,
    "pycharm": {
     "name": "#%%\n"
    }
   }
  },
  {
   "cell_type": "code",
   "execution_count": null,
   "outputs": [],
   "source": [],
   "metadata": {
    "collapsed": false,
    "pycharm": {
     "name": "#%%\n"
    }
   }
  }
 ],
 "metadata": {
  "kernelspec": {
   "name": "pycharm-ac97db8",
   "language": "python",
   "display_name": "PyCharm (TSP_magistery_pl_job)"
  },
  "language_info": {
   "codemirror_mode": {
    "name": "ipython",
    "version": 2
   },
   "file_extension": ".py",
   "mimetype": "text/x-python",
   "name": "python",
   "nbconvert_exporter": "python",
   "pygments_lexer": "ipython2",
   "version": "2.7.6"
  }
 },
 "nbformat": 4,
 "nbformat_minor": 0
}
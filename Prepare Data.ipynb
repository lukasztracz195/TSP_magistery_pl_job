{
 "cells": [
  {
   "cell_type": "markdown",
   "source": [
    "<h3>1. Przygotowanie zestawu danych do pracy magisterskiej</h3>"
   ],
   "metadata": {
    "collapsed": false,
    "pycharm": {
     "name": "#%% md\n"
    }
   }
  },
  {
   "cell_type": "code",
   "execution_count": 1,
   "outputs": [],
   "source": [
    "from data_generator.CityGenerator import CityGenerator\n",
    "from models.City import City\n",
    "from linq import Flow\n",
    "import pandas as pd\n",
    "import numpy as np"
   ],
   "metadata": {
    "collapsed": false,
    "pycharm": {
     "name": "#%%\n"
    }
   }
  },
  {
   "cell_type": "code",
   "execution_count": 19,
   "outputs": [
    {
     "data": {
      "text/plain": "    NUMBER_OF_CITY    X    Y\n0                0  893  743\n1                1 -341 -725\n2                2  824 -677\n3                3  -73 -503\n4                4 -634   94\n..             ...  ...  ...\n95              95  968 -277\n96              96  -56 -108\n97              97  425  823\n98              98  980 -963\n99             100 -993 -157\n\n[100 rows x 3 columns]",
      "text/html": "<div>\n<style scoped>\n    .dataframe tbody tr th:only-of-type {\n        vertical-align: middle;\n    }\n\n    .dataframe tbody tr th {\n        vertical-align: top;\n    }\n\n    .dataframe thead th {\n        text-align: right;\n    }\n</style>\n<table border=\"1\" class=\"dataframe\">\n  <thead>\n    <tr style=\"text-align: right;\">\n      <th></th>\n      <th>NUMBER_OF_CITY</th>\n      <th>X</th>\n      <th>Y</th>\n    </tr>\n  </thead>\n  <tbody>\n    <tr>\n      <th>0</th>\n      <td>0</td>\n      <td>893</td>\n      <td>743</td>\n    </tr>\n    <tr>\n      <th>1</th>\n      <td>1</td>\n      <td>-341</td>\n      <td>-725</td>\n    </tr>\n    <tr>\n      <th>2</th>\n      <td>2</td>\n      <td>824</td>\n      <td>-677</td>\n    </tr>\n    <tr>\n      <th>3</th>\n      <td>3</td>\n      <td>-73</td>\n      <td>-503</td>\n    </tr>\n    <tr>\n      <th>4</th>\n      <td>4</td>\n      <td>-634</td>\n      <td>94</td>\n    </tr>\n    <tr>\n      <th>...</th>\n      <td>...</td>\n      <td>...</td>\n      <td>...</td>\n    </tr>\n    <tr>\n      <th>95</th>\n      <td>95</td>\n      <td>968</td>\n      <td>-277</td>\n    </tr>\n    <tr>\n      <th>96</th>\n      <td>96</td>\n      <td>-56</td>\n      <td>-108</td>\n    </tr>\n    <tr>\n      <th>97</th>\n      <td>97</td>\n      <td>425</td>\n      <td>823</td>\n    </tr>\n    <tr>\n      <th>98</th>\n      <td>98</td>\n      <td>980</td>\n      <td>-963</td>\n    </tr>\n    <tr>\n      <th>99</th>\n      <td>100</td>\n      <td>-993</td>\n      <td>-157</td>\n    </tr>\n  </tbody>\n</table>\n<p>100 rows × 3 columns</p>\n</div>"
     },
     "execution_count": 19,
     "metadata": {},
     "output_type": "execute_result"
    }
   ],
   "source": [
    "NUMBER_OF_SETS = 1000\n",
    "NUMBER_OF_CITIES_IN_SET_WITHOUT_START_CITY = 100\n",
    "NUMBER_OF_CITIES_WITH_START_CITY = NUMBER_OF_CITIES_IN_SET_WITHOUT_START_CITY + 1\n",
    "CSV_FILE_NAME_WITH_CITIES = \"TSP_%s_CITIES.csv\"\n",
    "CSV_FILE_NAME_WITH_SET_X_DATA = \"TSP_X_DETAILS.csv\"\n",
    "CSV_FILE_NAME_WITH_SET_Y_DATA = \"TSP_Y_DETAILS.csv\"\n",
    "DIRECTORY_ON_CITIES = \"./dataset/cities\"\n",
    "COLUMNS_IN_CITIES_CSV = [\"NUMBER_OF_CITY\", \"X\", \"Y\"]\n",
    "COLUMNS_IN_X_Y_CSV = [\"NUMBER_OF_SET\", \"ABUNDANCE\",\"MEDIAN\", \"AVG\", \"STDEV\",\"Q1\", \"Q3\", \"IQR\"]\n",
    "NUMBER_OF_SET = 0\n",
    "path_to_csv = DIRECTORY_ON_CITIES +\"/\"+ CSV_FILE_NAME_WITH_CITIES % NUMBER_OF_SET\n",
    "pd_cities = pd.read_csv(path_to_csv)\n",
    "pd_cities"
   ],
   "metadata": {
    "collapsed": false,
    "pycharm": {
     "name": "#%%\n"
    }
   }
  },
  {
   "cell_type": "code",
   "execution_count": 32,
   "outputs": [
    {
     "name": "stdout",
     "output_type": "stream",
     "text": [
      "87\n"
     ]
    }
   ],
   "source": [
    "condition = (pd_cities['X'] == 0) & (pd_cities['Y'] == 0)\n",
    "index_start_city = pd_cities.loc[condition][\"NUMBER_OF_CITY\"].values[0]\n",
    "print(index_start_city)"
   ],
   "metadata": {
    "collapsed": false,
    "pycharm": {
     "name": "#%%\n"
    }
   }
  },
  {
   "cell_type": "code",
   "execution_count": 3,
   "outputs": [],
   "source": [
    "list_city = []\n",
    "for row in pd_cities.iterrows():\n",
    "    row = row[1]\n",
    "    city = City(row[\"NUMBER_OF_CITY\"], row[\"X\"], row[\"Y\"])\n",
    "    list_city.append(city)\n",
    "\n",
    "distance_matrix = np.zeros((len(list_city), len(list_city)))\n",
    "\n",
    "for row in range(0, len(list_city)):\n",
    "    for col in range(0, len(list_city)):\n",
    "        if row == col:\n",
    "            distance_matrix[row][col] = float('nan')\n",
    "        else:\n",
    "            distance_matrix[row][col] = City.count_distance(list_city[row], list_city[col])"
   ],
   "metadata": {
    "collapsed": false,
    "pycharm": {
     "name": "#%%\n"
    }
   }
  },
  {
   "cell_type": "code",
   "execution_count": 4,
   "outputs": [
    {
     "data": {
      "text/plain": "array([[          nan, 1917.75389453, 1421.67542006, ...,  474.78837391,\n        1708.2169066 , 2089.73586848],\n       [1917.75389453,           nan, 1165.9884219 , ..., 1727.15372796,\n        1342.26860203,  864.71266904],\n       [1421.67542006, 1165.9884219 ,           nan, ..., 1552.16010772,\n         325.77906624, 1889.94417907],\n       ...,\n       [ 474.78837391, 1727.15372796, 1552.16010772, ...,           nan,\n        1870.24624047, 1723.69486859],\n       [1708.2169066 , 1342.26860203,  325.77906624, ..., 1870.24624047,\n                  nan, 2131.28247776],\n       [2089.73586848,  864.71266904, 1889.94417907, ..., 1723.69486859,\n        2131.28247776,           nan]])"
     },
     "execution_count": 4,
     "metadata": {},
     "output_type": "execute_result"
    }
   ],
   "source": [
    "distance_matrix"
   ],
   "metadata": {
    "collapsed": false,
    "pycharm": {
     "name": "#%%\n"
    }
   }
  },
  {
   "cell_type": "code",
   "execution_count": null,
   "outputs": [],
   "source": [],
   "metadata": {
    "collapsed": false,
    "pycharm": {
     "name": "#%%\n"
    }
   }
  }
 ],
 "metadata": {
  "kernelspec": {
   "display_name": "Python 3",
   "language": "python",
   "name": "python3"
  },
  "language_info": {
   "codemirror_mode": {
    "name": "ipython",
    "version": 2
   },
   "file_extension": ".py",
   "mimetype": "text/x-python",
   "name": "python",
   "nbconvert_exporter": "python",
   "pygments_lexer": "ipython2",
   "version": "2.7.6"
  }
 },
 "nbformat": 4,
 "nbformat_minor": 0
}
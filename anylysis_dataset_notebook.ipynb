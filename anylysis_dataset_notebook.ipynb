{
 "cells": [
  {
   "cell_type": "markdown",
   "metadata": {
    "collapsed": true,
    "pycharm": {
     "name": "#%% md\n"
    }
   },
   "source": [
    "<h2>Notebook prezentujący analizę dotyczącą wygenerowanego datasetu</h2>\n"
   ]
  },
  {
   "cell_type": "markdown",
   "source": [
    "<h3>1. Import bibliotek</h3>\n"
   ],
   "metadata": {
    "collapsed": false,
    "pycharm": {
     "name": "#%% md\n"
    }
   }
  },
  {
   "cell_type": "code",
   "execution_count": 1,
   "outputs": [],
   "source": [
    "import pandas as pd\n",
    "import numpy as np\n",
    "import matplotlib.pyplot as plt"
   ],
   "metadata": {
    "collapsed": false,
    "pycharm": {
     "name": "#%%\n"
    }
   }
  },
  {
   "cell_type": "markdown",
   "source": [
    "<h3>2. Wczytanie CSV z danymi statystycznymi datasetów</h3>\n"
   ],
   "metadata": {
    "collapsed": false,
    "pycharm": {
     "name": "#%% md\n"
    }
   }
  },
  {
   "cell_type": "code",
   "execution_count": 4,
   "outputs": [
    {
     "name": "stdout",
     "output_type": "stream",
     "text": [
      "D:\\STUDIA\\Studia_magisterskie\\SEM_3\\praca_magisterska\\TSP_magistery_pl_job/dataset_csv/dataset_stats.csv\n"
     ]
    },
    {
     "data": {
      "text/plain": "      Unnamed: 0  number_of_cities  index_of_sample  x_min       x_avg  \\\n0              0                 4                1    -34  290.500000   \n1              1                 4                2   -939 -325.000000   \n2              2                 4                3   -239  263.250000   \n3              3                 4                4      0  418.000000   \n4              4                 4                5   -881 -277.500000   \n...          ...               ...              ...    ...         ...   \n1194        1194                15               95   -763  -62.333333   \n1195        1195                15               96   -926 -227.066667   \n1196        1196                15               97   -971  -50.800000   \n1197        1197                15               98   -886 -139.866667   \n1198        1198                15               99   -937  -68.933333   \n\n         x_stdev  x_median    x_q1    x_q3  x_max  y_min       y_avg  \\\n0     368.386120     239.5   -8.50  538.50    717   -982 -442.500000   \n1     597.325707    -351.5 -762.00   85.50    342   -155   -2.500000   \n2     454.227825     299.5  -59.75  622.50    693      0  129.250000   \n3     293.774290     521.5  319.50  620.00    629      0  485.250000   \n4     576.587952    -308.0 -682.25   96.75    387   -799 -282.750000   \n...          ...       ...     ...     ...    ...    ...         ...   \n1194  481.846992       0.0 -515.50  239.50    727   -686  254.800000   \n1195  451.644055    -321.0 -560.00   77.00    717   -789  -52.800000   \n1196  645.197777     -35.0 -681.50  446.00    946   -971 -233.333333   \n1197  536.363931    -238.0 -563.00  138.00    925   -355  237.066667   \n1198  647.348820       0.0 -592.00  214.50    978   -699  178.266667   \n\n         y_stdev  y_median    y_q1    y_q3  y_max  \n0     456.325542    -394.0 -734.50 -102.00      0  \n1     107.741976      30.0  -38.75   66.25     85  \n2     132.038820     118.5   29.25  218.50    280  \n3     378.431302     548.5  284.25  749.50    844  \n4     370.252504    -166.0 -427.00  -21.75      0  \n...          ...       ...     ...     ...    ...  \n1194  550.620974     182.0   -4.00  804.00    924  \n1195  512.931936    -133.0 -305.50  293.50    888  \n1196  505.570070    -168.0 -688.50  114.00    688  \n1197  403.308189     185.0  -15.50  487.00    947  \n1198  551.334805     295.0 -288.50  688.00    916  \n\n[1199 rows x 17 columns]",
      "text/html": "<div>\n<style scoped>\n    .dataframe tbody tr th:only-of-type {\n        vertical-align: middle;\n    }\n\n    .dataframe tbody tr th {\n        vertical-align: top;\n    }\n\n    .dataframe thead th {\n        text-align: right;\n    }\n</style>\n<table border=\"1\" class=\"dataframe\">\n  <thead>\n    <tr style=\"text-align: right;\">\n      <th></th>\n      <th>Unnamed: 0</th>\n      <th>number_of_cities</th>\n      <th>index_of_sample</th>\n      <th>x_min</th>\n      <th>x_avg</th>\n      <th>x_stdev</th>\n      <th>x_median</th>\n      <th>x_q1</th>\n      <th>x_q3</th>\n      <th>x_max</th>\n      <th>y_min</th>\n      <th>y_avg</th>\n      <th>y_stdev</th>\n      <th>y_median</th>\n      <th>y_q1</th>\n      <th>y_q3</th>\n      <th>y_max</th>\n    </tr>\n  </thead>\n  <tbody>\n    <tr>\n      <th>0</th>\n      <td>0</td>\n      <td>4</td>\n      <td>1</td>\n      <td>-34</td>\n      <td>290.500000</td>\n      <td>368.386120</td>\n      <td>239.5</td>\n      <td>-8.50</td>\n      <td>538.50</td>\n      <td>717</td>\n      <td>-982</td>\n      <td>-442.500000</td>\n      <td>456.325542</td>\n      <td>-394.0</td>\n      <td>-734.50</td>\n      <td>-102.00</td>\n      <td>0</td>\n    </tr>\n    <tr>\n      <th>1</th>\n      <td>1</td>\n      <td>4</td>\n      <td>2</td>\n      <td>-939</td>\n      <td>-325.000000</td>\n      <td>597.325707</td>\n      <td>-351.5</td>\n      <td>-762.00</td>\n      <td>85.50</td>\n      <td>342</td>\n      <td>-155</td>\n      <td>-2.500000</td>\n      <td>107.741976</td>\n      <td>30.0</td>\n      <td>-38.75</td>\n      <td>66.25</td>\n      <td>85</td>\n    </tr>\n    <tr>\n      <th>2</th>\n      <td>2</td>\n      <td>4</td>\n      <td>3</td>\n      <td>-239</td>\n      <td>263.250000</td>\n      <td>454.227825</td>\n      <td>299.5</td>\n      <td>-59.75</td>\n      <td>622.50</td>\n      <td>693</td>\n      <td>0</td>\n      <td>129.250000</td>\n      <td>132.038820</td>\n      <td>118.5</td>\n      <td>29.25</td>\n      <td>218.50</td>\n      <td>280</td>\n    </tr>\n    <tr>\n      <th>3</th>\n      <td>3</td>\n      <td>4</td>\n      <td>4</td>\n      <td>0</td>\n      <td>418.000000</td>\n      <td>293.774290</td>\n      <td>521.5</td>\n      <td>319.50</td>\n      <td>620.00</td>\n      <td>629</td>\n      <td>0</td>\n      <td>485.250000</td>\n      <td>378.431302</td>\n      <td>548.5</td>\n      <td>284.25</td>\n      <td>749.50</td>\n      <td>844</td>\n    </tr>\n    <tr>\n      <th>4</th>\n      <td>4</td>\n      <td>4</td>\n      <td>5</td>\n      <td>-881</td>\n      <td>-277.500000</td>\n      <td>576.587952</td>\n      <td>-308.0</td>\n      <td>-682.25</td>\n      <td>96.75</td>\n      <td>387</td>\n      <td>-799</td>\n      <td>-282.750000</td>\n      <td>370.252504</td>\n      <td>-166.0</td>\n      <td>-427.00</td>\n      <td>-21.75</td>\n      <td>0</td>\n    </tr>\n    <tr>\n      <th>...</th>\n      <td>...</td>\n      <td>...</td>\n      <td>...</td>\n      <td>...</td>\n      <td>...</td>\n      <td>...</td>\n      <td>...</td>\n      <td>...</td>\n      <td>...</td>\n      <td>...</td>\n      <td>...</td>\n      <td>...</td>\n      <td>...</td>\n      <td>...</td>\n      <td>...</td>\n      <td>...</td>\n      <td>...</td>\n    </tr>\n    <tr>\n      <th>1194</th>\n      <td>1194</td>\n      <td>15</td>\n      <td>95</td>\n      <td>-763</td>\n      <td>-62.333333</td>\n      <td>481.846992</td>\n      <td>0.0</td>\n      <td>-515.50</td>\n      <td>239.50</td>\n      <td>727</td>\n      <td>-686</td>\n      <td>254.800000</td>\n      <td>550.620974</td>\n      <td>182.0</td>\n      <td>-4.00</td>\n      <td>804.00</td>\n      <td>924</td>\n    </tr>\n    <tr>\n      <th>1195</th>\n      <td>1195</td>\n      <td>15</td>\n      <td>96</td>\n      <td>-926</td>\n      <td>-227.066667</td>\n      <td>451.644055</td>\n      <td>-321.0</td>\n      <td>-560.00</td>\n      <td>77.00</td>\n      <td>717</td>\n      <td>-789</td>\n      <td>-52.800000</td>\n      <td>512.931936</td>\n      <td>-133.0</td>\n      <td>-305.50</td>\n      <td>293.50</td>\n      <td>888</td>\n    </tr>\n    <tr>\n      <th>1196</th>\n      <td>1196</td>\n      <td>15</td>\n      <td>97</td>\n      <td>-971</td>\n      <td>-50.800000</td>\n      <td>645.197777</td>\n      <td>-35.0</td>\n      <td>-681.50</td>\n      <td>446.00</td>\n      <td>946</td>\n      <td>-971</td>\n      <td>-233.333333</td>\n      <td>505.570070</td>\n      <td>-168.0</td>\n      <td>-688.50</td>\n      <td>114.00</td>\n      <td>688</td>\n    </tr>\n    <tr>\n      <th>1197</th>\n      <td>1197</td>\n      <td>15</td>\n      <td>98</td>\n      <td>-886</td>\n      <td>-139.866667</td>\n      <td>536.363931</td>\n      <td>-238.0</td>\n      <td>-563.00</td>\n      <td>138.00</td>\n      <td>925</td>\n      <td>-355</td>\n      <td>237.066667</td>\n      <td>403.308189</td>\n      <td>185.0</td>\n      <td>-15.50</td>\n      <td>487.00</td>\n      <td>947</td>\n    </tr>\n    <tr>\n      <th>1198</th>\n      <td>1198</td>\n      <td>15</td>\n      <td>99</td>\n      <td>-937</td>\n      <td>-68.933333</td>\n      <td>647.348820</td>\n      <td>0.0</td>\n      <td>-592.00</td>\n      <td>214.50</td>\n      <td>978</td>\n      <td>-699</td>\n      <td>178.266667</td>\n      <td>551.334805</td>\n      <td>295.0</td>\n      <td>-288.50</td>\n      <td>688.00</td>\n      <td>916</td>\n    </tr>\n  </tbody>\n</table>\n<p>1199 rows × 17 columns</p>\n</div>"
     },
     "execution_count": 4,
     "metadata": {},
     "output_type": "execute_result"
    }
   ],
   "source": [
    "from builders.PathBuilder import PathBuilder\n",
    "\n",
    "class NamesOfColumns:\n",
    "    number_of_cities = \"number_of_cities\"\n",
    "    index_of_sample = \"index_of_sample\"\n",
    "    x_min = \"x_min\"\n",
    "    x_avg = \"x_avg\"\n",
    "    x_stdev = \"x_stdev\"\n",
    "    x_median = \"x_median\"\n",
    "    x_q1 = \"x_q1\"\n",
    "    x_q3 = \"x_q3\"\n",
    "    x_max = \"x_max\"\n",
    "    y_min = \"y_min\"\n",
    "    y_avg = \"y_avg\"\n",
    "    y_stdev = \"y_stdev\"\n",
    "    y_median = \"y_median\"\n",
    "    y_q1 = \"y_q1\"\n",
    "    y_q3 = \"q_q3\"\n",
    "    y_max = \"y_max\"\n",
    "    xy_stdev = \"xy_sdev\"\n",
    "\n",
    "path_to_csv = PathBuilder()\\\n",
    ".add_dir(\"dataset_csv\")\\\n",
    ".add_file_with_extension(\"dataset_stats.csv\")\\\n",
    ".build()\n",
    "print(path_to_csv)\n",
    "df = pd.read_csv(path_to_csv)\n",
    "df"
   ],
   "metadata": {
    "collapsed": false,
    "pycharm": {
     "name": "#%%\n"
    }
   }
  },
  {
   "cell_type": "code",
   "execution_count": 7,
   "outputs": [
    {
     "name": "stdout",
     "output_type": "stream",
     "text": [
      "Index(['Unnamed: 0', 'number_of_cities', 'index_of_sample', 'x_min', 'x_avg',\n",
      "       'x_stdev', 'x_median', 'x_q1', 'x_q3', 'x_max', 'y_min', 'y_avg',\n",
      "       'y_stdev', 'y_median', 'y_q1', 'y_q3', 'y_max'],\n",
      "      dtype='object')\n"
     ]
    }
   ],
   "source": [
    "BASIC_NAMES = [NamesOfColumns.number_of_cities, NamesOfColumns.index_of_sample]\n",
    "VALUES_COLUMN_NAMES = [NamesOfColumns.x_min,\n",
    "                       NamesOfColumns.x_avg,\n",
    "                       NamesOfColumns.x_stdev,\n",
    "                       NamesOfColumns.x_median,\n",
    "                       NamesOfColumns.x_q1,\n",
    "                       NamesOfColumns.x_q3,\n",
    "                       NamesOfColumns.x_max,\n",
    "                       NamesOfColumns.y_min,\n",
    "                       NamesOfColumns.y_avg,\n",
    "                       NamesOfColumns.y_stdev,\n",
    "                       NamesOfColumns.y_median,\n",
    "                       NamesOfColumns.y_q1,\n",
    "                       NamesOfColumns.y_q3,\n",
    "                       NamesOfColumns.y_max,]\n",
    "column_names = df.columns\n",
    "print(column_names)"
   ],
   "metadata": {
    "collapsed": false,
    "pycharm": {
     "name": "#%%\n"
    }
   }
  },
  {
   "cell_type": "code",
   "execution_count": 9,
   "outputs": [
    {
     "ename": "KeyError",
     "evalue": "\"['q_q3'] not in index\"",
     "output_type": "error",
     "traceback": [
      "\u001B[1;31m---------------------------------------------------------------------------\u001B[0m",
      "\u001B[1;31mKeyError\u001B[0m                                  Traceback (most recent call last)",
      "\u001B[1;32m~\\AppData\\Local\\Temp/ipykernel_1072/3716685203.py\u001B[0m in \u001B[0;36m<module>\u001B[1;34m\u001B[0m\n\u001B[0;32m      1\u001B[0m \u001B[0mdf_dict\u001B[0m \u001B[1;33m=\u001B[0m \u001B[0mdict\u001B[0m\u001B[1;33m(\u001B[0m\u001B[1;33m)\u001B[0m\u001B[1;33m\u001B[0m\u001B[1;33m\u001B[0m\u001B[0m\n\u001B[0;32m      2\u001B[0m \u001B[1;32mfor\u001B[0m \u001B[0mcolumn_value_name\u001B[0m \u001B[1;32min\u001B[0m \u001B[0mVALUES_COLUMN_NAMES\u001B[0m\u001B[1;33m:\u001B[0m\u001B[1;33m\u001B[0m\u001B[1;33m\u001B[0m\u001B[0m\n\u001B[1;32m----> 3\u001B[1;33m     \u001B[0mdf_dict\u001B[0m\u001B[1;33m[\u001B[0m\u001B[0mcolumn_value_name\u001B[0m\u001B[1;33m]\u001B[0m \u001B[1;33m=\u001B[0m \u001B[0mdf\u001B[0m\u001B[1;33m[\u001B[0m\u001B[1;33m[\u001B[0m\u001B[0mNamesOfColumns\u001B[0m\u001B[1;33m.\u001B[0m\u001B[0mnumber_of_cities\u001B[0m\u001B[1;33m,\u001B[0m \u001B[0mcolumn_value_name\u001B[0m\u001B[1;33m]\u001B[0m\u001B[1;33m]\u001B[0m\u001B[1;33m\u001B[0m\u001B[1;33m\u001B[0m\u001B[0m\n\u001B[0m",
      "\u001B[1;32mE:\\PROGRAMY\\Anaconda3\\lib\\site-packages\\pandas\\core\\frame.py\u001B[0m in \u001B[0;36m__getitem__\u001B[1;34m(self, key)\u001B[0m\n\u001B[0;32m   3462\u001B[0m             \u001B[1;32mif\u001B[0m \u001B[0mis_iterator\u001B[0m\u001B[1;33m(\u001B[0m\u001B[0mkey\u001B[0m\u001B[1;33m)\u001B[0m\u001B[1;33m:\u001B[0m\u001B[1;33m\u001B[0m\u001B[1;33m\u001B[0m\u001B[0m\n\u001B[0;32m   3463\u001B[0m                 \u001B[0mkey\u001B[0m \u001B[1;33m=\u001B[0m \u001B[0mlist\u001B[0m\u001B[1;33m(\u001B[0m\u001B[0mkey\u001B[0m\u001B[1;33m)\u001B[0m\u001B[1;33m\u001B[0m\u001B[1;33m\u001B[0m\u001B[0m\n\u001B[1;32m-> 3464\u001B[1;33m             \u001B[0mindexer\u001B[0m \u001B[1;33m=\u001B[0m \u001B[0mself\u001B[0m\u001B[1;33m.\u001B[0m\u001B[0mloc\u001B[0m\u001B[1;33m.\u001B[0m\u001B[0m_get_listlike_indexer\u001B[0m\u001B[1;33m(\u001B[0m\u001B[0mkey\u001B[0m\u001B[1;33m,\u001B[0m \u001B[0maxis\u001B[0m\u001B[1;33m=\u001B[0m\u001B[1;36m1\u001B[0m\u001B[1;33m)\u001B[0m\u001B[1;33m[\u001B[0m\u001B[1;36m1\u001B[0m\u001B[1;33m]\u001B[0m\u001B[1;33m\u001B[0m\u001B[1;33m\u001B[0m\u001B[0m\n\u001B[0m\u001B[0;32m   3465\u001B[0m \u001B[1;33m\u001B[0m\u001B[0m\n\u001B[0;32m   3466\u001B[0m         \u001B[1;31m# take() does not accept boolean indexers\u001B[0m\u001B[1;33m\u001B[0m\u001B[1;33m\u001B[0m\u001B[1;33m\u001B[0m\u001B[0m\n",
      "\u001B[1;32mE:\\PROGRAMY\\Anaconda3\\lib\\site-packages\\pandas\\core\\indexing.py\u001B[0m in \u001B[0;36m_get_listlike_indexer\u001B[1;34m(self, key, axis)\u001B[0m\n\u001B[0;32m   1312\u001B[0m             \u001B[0mkeyarr\u001B[0m\u001B[1;33m,\u001B[0m \u001B[0mindexer\u001B[0m\u001B[1;33m,\u001B[0m \u001B[0mnew_indexer\u001B[0m \u001B[1;33m=\u001B[0m \u001B[0max\u001B[0m\u001B[1;33m.\u001B[0m\u001B[0m_reindex_non_unique\u001B[0m\u001B[1;33m(\u001B[0m\u001B[0mkeyarr\u001B[0m\u001B[1;33m)\u001B[0m\u001B[1;33m\u001B[0m\u001B[1;33m\u001B[0m\u001B[0m\n\u001B[0;32m   1313\u001B[0m \u001B[1;33m\u001B[0m\u001B[0m\n\u001B[1;32m-> 1314\u001B[1;33m         \u001B[0mself\u001B[0m\u001B[1;33m.\u001B[0m\u001B[0m_validate_read_indexer\u001B[0m\u001B[1;33m(\u001B[0m\u001B[0mkeyarr\u001B[0m\u001B[1;33m,\u001B[0m \u001B[0mindexer\u001B[0m\u001B[1;33m,\u001B[0m \u001B[0maxis\u001B[0m\u001B[1;33m)\u001B[0m\u001B[1;33m\u001B[0m\u001B[1;33m\u001B[0m\u001B[0m\n\u001B[0m\u001B[0;32m   1315\u001B[0m \u001B[1;33m\u001B[0m\u001B[0m\n\u001B[0;32m   1316\u001B[0m         if needs_i8_conversion(ax.dtype) or isinstance(\n",
      "\u001B[1;32mE:\\PROGRAMY\\Anaconda3\\lib\\site-packages\\pandas\\core\\indexing.py\u001B[0m in \u001B[0;36m_validate_read_indexer\u001B[1;34m(self, key, indexer, axis)\u001B[0m\n\u001B[0;32m   1375\u001B[0m \u001B[1;33m\u001B[0m\u001B[0m\n\u001B[0;32m   1376\u001B[0m             \u001B[0mnot_found\u001B[0m \u001B[1;33m=\u001B[0m \u001B[0mlist\u001B[0m\u001B[1;33m(\u001B[0m\u001B[0mensure_index\u001B[0m\u001B[1;33m(\u001B[0m\u001B[0mkey\u001B[0m\u001B[1;33m)\u001B[0m\u001B[1;33m[\u001B[0m\u001B[0mmissing_mask\u001B[0m\u001B[1;33m.\u001B[0m\u001B[0mnonzero\u001B[0m\u001B[1;33m(\u001B[0m\u001B[1;33m)\u001B[0m\u001B[1;33m[\u001B[0m\u001B[1;36m0\u001B[0m\u001B[1;33m]\u001B[0m\u001B[1;33m]\u001B[0m\u001B[1;33m.\u001B[0m\u001B[0munique\u001B[0m\u001B[1;33m(\u001B[0m\u001B[1;33m)\u001B[0m\u001B[1;33m)\u001B[0m\u001B[1;33m\u001B[0m\u001B[1;33m\u001B[0m\u001B[0m\n\u001B[1;32m-> 1377\u001B[1;33m             \u001B[1;32mraise\u001B[0m \u001B[0mKeyError\u001B[0m\u001B[1;33m(\u001B[0m\u001B[1;34mf\"{not_found} not in index\"\u001B[0m\u001B[1;33m)\u001B[0m\u001B[1;33m\u001B[0m\u001B[1;33m\u001B[0m\u001B[0m\n\u001B[0m\u001B[0;32m   1378\u001B[0m \u001B[1;33m\u001B[0m\u001B[0m\n\u001B[0;32m   1379\u001B[0m \u001B[1;33m\u001B[0m\u001B[0m\n",
      "\u001B[1;31mKeyError\u001B[0m: \"['q_q3'] not in index\""
     ]
    }
   ],
   "source": [
    "df_dict = dict()\n",
    "for column_value_name in VALUES_COLUMN_NAMES:\n",
    "    df_dict[column_value_name] = df[[NamesOfColumns.number_of_cities, column_value_name]]"
   ],
   "metadata": {
    "collapsed": false,
    "pycharm": {
     "name": "#%%\n"
    }
   }
  },
  {
   "cell_type": "code",
   "execution_count": null,
   "outputs": [],
   "source": [
    "df_dict[NamesOfColumns.x_stdev]\n"
   ],
   "metadata": {
    "collapsed": false,
    "pycharm": {
     "name": "#%%\n"
    }
   }
  },
  {
   "cell_type": "code",
   "execution_count": 18,
   "outputs": [
    {
     "data": {
      "text/plain": "array([[<matplotlib.axes._subplots.AxesSubplot object at 0x000001FF3D1F6FC8>,\n        <matplotlib.axes._subplots.AxesSubplot object at 0x000001FF3D1F3248>]],\n      dtype=object)"
     },
     "execution_count": 18,
     "metadata": {},
     "output_type": "execute_result"
    },
    {
     "data": {
      "text/plain": "<Figure size 432x288 with 2 Axes>",
      "image/png": "[encoded data removed]"
     },
     "metadata": {
      "needs_background": "light"
     },
     "output_type": "display_data"
    }
   ],
   "source": [
    "# df[[NamesOfColumns.number_of_cities, NamesOfColumns.x_avg]].groupby([NamesOfColumns.number_of_cities]).mean().hist()\n",
    "df[[NamesOfColumns.number_of_cities, NamesOfColumns.x_avg]].hist()"
   ],
   "metadata": {
    "collapsed": false,
    "pycharm": {
     "name": "#%%\n"
    }
   }
  },
  {
   "cell_type": "code",
   "execution_count": null,
   "outputs": [],
   "source": [],
   "metadata": {
    "collapsed": false,
    "pycharm": {
     "name": "#%%\n"
    }
   }
  }
 ],
 "metadata": {
  "kernelspec": {
   "name": "pycharm-ac97db8",
   "language": "python",
   "display_name": "PyCharm (TSP_magistery_pl_job)"
  },
  "language_info": {
   "codemirror_mode": {
    "name": "ipython",
    "version": 2
   },
   "file_extension": ".py",
   "mimetype": "text/x-python",
   "name": "python",
   "nbconvert_exporter": "python",
   "pygments_lexer": "ipython2",
   "version": "2.7.6"
  }
 },
 "nbformat": 4,
 "nbformat_minor": 0
}
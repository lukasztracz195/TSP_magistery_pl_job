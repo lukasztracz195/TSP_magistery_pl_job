{
 "cells": [
  {
   "cell_type": "markdown",
   "metadata": {
    "collapsed": true,
    "pycharm": {
     "name": "#%% md\n"
    }
   },
   "source": [
    "<h2>Analiza rozkładu zagęszczenie punktów w przestrzeni 2D bazując na analizie rozkładu długości krawędzi w grafie dla TSP</h2>\n"
   ]
  },
  {
   "cell_type": "markdown",
   "metadata": {
    "pycharm": {
     "name": "#%% md\n"
    }
   },
   "source": [
    "<h3>1. Import bibliotek i zdefiniowanie patternów </h3>"
   ]
  },
  {
   "cell_type": "code",
   "execution_count": 1,
   "metadata": {
    "pycharm": {
     "name": "#%%\n"
    }
   },
   "outputs": [],
   "source": [
    "import math\n",
    "\n",
    "PATTERN_TO_DIRECTORY_FROM_DATASET = \"TSP_DIST_1000_N_%d\"\n",
    "PATTERN_TO_FILE_NAME_OF_SAMPLE = \"TSP_CITIES_SET_%d_N_%d.json\"\n",
    "DIRECTORY_NAME_WITH_INPUT_DATA = \"dataset\"\n",
    "from input.TspInputData import TspInputData\n",
    "from builders.PathBuilder import PathBuilder\n",
    "from data_reader import JsonTspReader\n",
    "import pandas as pd\n",
    "import numpy as np\n",
    "import math\n",
    "import matplotlib.pyplot as plt"
   ]
  },
  {
   "cell_type": "markdown",
   "metadata": {
    "pycharm": {
     "name": "#%% md\n"
    }
   },
   "source": [
    "<h3>2. Wczytanie danych z o krawędziach z pliku wejściowego</h3>"
   ]
  },
  {
   "cell_type": "code",
   "execution_count": 2,
   "metadata": {
    "pycharm": {
     "name": "#%%\n"
    }
   },
   "outputs": [],
   "source": [
    "NUMBER_OF_CITIES = list(range(4, 16))\n",
    "INDEX_OF_SAMPLES = list(range(0, 100))\n",
    "\n",
    "def get_tsp_input_data(number_of_cities, index_of_sample):\n",
    "    name_of_directory_from_dataset = PATTERN_TO_DIRECTORY_FROM_DATASET % number_of_cities\n",
    "    name_of_sample_file = PATTERN_TO_FILE_NAME_OF_SAMPLE % (index_of_sample, number_of_cities)\n",
    "    path_to_input_data = PathBuilder()\\\n",
    "                        .add_dir(DIRECTORY_NAME_WITH_INPUT_DATA)\\\n",
    "                        .add_dir(name_of_directory_from_dataset)\\\n",
    "                        .add_file_with_extension(name_of_sample_file)\\\n",
    "                        .build()\n",
    "    json_data = JsonTspReader.read_json_from_path(path_to_input_data)\n",
    "    return TspInputData(json_data)\n",
    "\n",
    "def preapre_tsp_indpu_data_directory(list_number_of_cities, list_indexes_of_samples):\n",
    "    tsp_inpu_data_dictionary = dict()\n",
    "    for number_of_cities_in_samples in list_number_of_cities:\n",
    "        tsp_inpu_data_dictionary[number_of_cities_in_samples] = dict()\n",
    "        for index_of_sample in list_indexes_of_samples:\n",
    "            tsp_input_data = get_tsp_input_data(number_of_cities_in_samples, index_of_sample)\n",
    "            tsp_inpu_data_dictionary[number_of_cities_in_samples][index_of_sample] = tsp_input_data\n",
    "    return tsp_inpu_data_dictionary\n",
    "\n",
    "#     TSP_INPU_DATA_DICT[number_of_cities] = {index_of_sample: tsp_input_data}\n",
    "#     distances = list(map(lambda item: item[2], tsp_input_data.dist_list))\n",
    "#     distances.sort()\n",
    "#     distances_as_series_with_duplicates = pd.Series(distances)\n",
    "#     distances_as_series_without_duplicates = distances_as_series_with_duplicates.copy()\n",
    "#     distances_as_series_without_duplicates.drop_duplicates(inplace=True)\n",
    "#     return index_of_sample\n",
    "TSP_INPU_DATA_DICT = preapre_tsp_indpu_data_directory(NUMBER_OF_CITIES, INDEX_OF_SAMPLES)\n",
    "\n",
    "\n",
    "# for index_of_sample in INDEX_OF_SAMPLES:\n",
    "#     tmp_dictionary = dict()\n",
    "#     for number_of_cities_in_samples in NUMBER_OF_CITIES:\n",
    "#         tsp_input_data = get_tsp_input_data(number_of_cities_in_samples, index_of_sample)\n",
    "#         TSP_INPU_DATA_DICT[number_of_cities] = {index_of_sample: tsp_input_data}\n",
    "#     GENERAL_TABLE_LIST.append(tmp_dictionary)\n",
    "# df = pd.DataFrame.from_dict(GENERAL_TABLE_LIST)\n",
    "# df"
   ]
  },
  {
   "cell_type": "code",
   "execution_count": 7,
   "metadata": {},
   "outputs": [
    {
     "data": {
      "text/html": [
       "<div>\n",
       "<style scoped>\n",
       "    .dataframe tbody tr th:only-of-type {\n",
       "        vertical-align: middle;\n",
       "    }\n",
       "\n",
       "    .dataframe tbody tr th {\n",
       "        vertical-align: top;\n",
       "    }\n",
       "\n",
       "    .dataframe thead th {\n",
       "        text-align: right;\n",
       "    }\n",
       "</style>\n",
       "<table border=\"1\" class=\"dataframe\">\n",
       "  <thead>\n",
       "    <tr style=\"text-align: right;\">\n",
       "      <th></th>\n",
       "      <th>4</th>\n",
       "      <th>5</th>\n",
       "      <th>6</th>\n",
       "      <th>7</th>\n",
       "      <th>8</th>\n",
       "      <th>9</th>\n",
       "      <th>10</th>\n",
       "      <th>11</th>\n",
       "      <th>12</th>\n",
       "      <th>13</th>\n",
       "      <th>14</th>\n",
       "      <th>15</th>\n",
       "    </tr>\n",
       "  </thead>\n",
       "  <tbody>\n",
       "    <tr>\n",
       "      <th>0</th>\n",
       "      <td>0</td>\n",
       "      <td>0</td>\n",
       "      <td>0</td>\n",
       "      <td>0</td>\n",
       "      <td>0</td>\n",
       "      <td>0</td>\n",
       "      <td>0</td>\n",
       "      <td>0</td>\n",
       "      <td>0</td>\n",
       "      <td>0</td>\n",
       "      <td>0</td>\n",
       "      <td>0</td>\n",
       "    </tr>\n",
       "    <tr>\n",
       "      <th>1</th>\n",
       "      <td>0</td>\n",
       "      <td>0</td>\n",
       "      <td>0</td>\n",
       "      <td>0</td>\n",
       "      <td>0</td>\n",
       "      <td>0</td>\n",
       "      <td>0</td>\n",
       "      <td>0</td>\n",
       "      <td>0</td>\n",
       "      <td>0</td>\n",
       "      <td>0</td>\n",
       "      <td>0</td>\n",
       "    </tr>\n",
       "    <tr>\n",
       "      <th>2</th>\n",
       "      <td>0</td>\n",
       "      <td>0</td>\n",
       "      <td>0</td>\n",
       "      <td>0</td>\n",
       "      <td>0</td>\n",
       "      <td>0</td>\n",
       "      <td>0</td>\n",
       "      <td>0</td>\n",
       "      <td>0</td>\n",
       "      <td>0</td>\n",
       "      <td>0</td>\n",
       "      <td>0</td>\n",
       "    </tr>\n",
       "    <tr>\n",
       "      <th>3</th>\n",
       "      <td>0</td>\n",
       "      <td>0</td>\n",
       "      <td>0</td>\n",
       "      <td>0</td>\n",
       "      <td>0</td>\n",
       "      <td>0</td>\n",
       "      <td>0</td>\n",
       "      <td>0</td>\n",
       "      <td>0</td>\n",
       "      <td>0</td>\n",
       "      <td>0</td>\n",
       "      <td>0</td>\n",
       "    </tr>\n",
       "    <tr>\n",
       "      <th>4</th>\n",
       "      <td>0</td>\n",
       "      <td>0</td>\n",
       "      <td>0</td>\n",
       "      <td>0</td>\n",
       "      <td>0</td>\n",
       "      <td>0</td>\n",
       "      <td>0</td>\n",
       "      <td>0</td>\n",
       "      <td>0</td>\n",
       "      <td>0</td>\n",
       "      <td>0</td>\n",
       "      <td>0</td>\n",
       "    </tr>\n",
       "    <tr>\n",
       "      <th>...</th>\n",
       "      <td>...</td>\n",
       "      <td>...</td>\n",
       "      <td>...</td>\n",
       "      <td>...</td>\n",
       "      <td>...</td>\n",
       "      <td>...</td>\n",
       "      <td>...</td>\n",
       "      <td>...</td>\n",
       "      <td>...</td>\n",
       "      <td>...</td>\n",
       "      <td>...</td>\n",
       "      <td>...</td>\n",
       "    </tr>\n",
       "    <tr>\n",
       "      <th>95</th>\n",
       "      <td>0</td>\n",
       "      <td>0</td>\n",
       "      <td>0</td>\n",
       "      <td>0</td>\n",
       "      <td>0</td>\n",
       "      <td>0</td>\n",
       "      <td>0</td>\n",
       "      <td>0</td>\n",
       "      <td>0</td>\n",
       "      <td>0</td>\n",
       "      <td>0</td>\n",
       "      <td>0</td>\n",
       "    </tr>\n",
       "    <tr>\n",
       "      <th>96</th>\n",
       "      <td>0</td>\n",
       "      <td>0</td>\n",
       "      <td>0</td>\n",
       "      <td>0</td>\n",
       "      <td>0</td>\n",
       "      <td>0</td>\n",
       "      <td>0</td>\n",
       "      <td>0</td>\n",
       "      <td>0</td>\n",
       "      <td>0</td>\n",
       "      <td>0</td>\n",
       "      <td>0</td>\n",
       "    </tr>\n",
       "    <tr>\n",
       "      <th>97</th>\n",
       "      <td>0</td>\n",
       "      <td>0</td>\n",
       "      <td>0</td>\n",
       "      <td>0</td>\n",
       "      <td>0</td>\n",
       "      <td>0</td>\n",
       "      <td>0</td>\n",
       "      <td>0</td>\n",
       "      <td>0</td>\n",
       "      <td>0</td>\n",
       "      <td>0</td>\n",
       "      <td>0</td>\n",
       "    </tr>\n",
       "    <tr>\n",
       "      <th>98</th>\n",
       "      <td>0</td>\n",
       "      <td>0</td>\n",
       "      <td>0</td>\n",
       "      <td>0</td>\n",
       "      <td>0</td>\n",
       "      <td>0</td>\n",
       "      <td>0</td>\n",
       "      <td>0</td>\n",
       "      <td>0</td>\n",
       "      <td>0</td>\n",
       "      <td>0</td>\n",
       "      <td>0</td>\n",
       "    </tr>\n",
       "    <tr>\n",
       "      <th>99</th>\n",
       "      <td>0</td>\n",
       "      <td>0</td>\n",
       "      <td>0</td>\n",
       "      <td>0</td>\n",
       "      <td>0</td>\n",
       "      <td>0</td>\n",
       "      <td>0</td>\n",
       "      <td>0</td>\n",
       "      <td>0</td>\n",
       "      <td>0</td>\n",
       "      <td>0</td>\n",
       "      <td>0</td>\n",
       "    </tr>\n",
       "  </tbody>\n",
       "</table>\n",
       "<p>100 rows × 12 columns</p>\n",
       "</div>"
      ],
      "text/plain": [
       "    4   5   6   7   8   9   10  11  12  13  14  15\n",
       "0    0   0   0   0   0   0   0   0   0   0   0   0\n",
       "1    0   0   0   0   0   0   0   0   0   0   0   0\n",
       "2    0   0   0   0   0   0   0   0   0   0   0   0\n",
       "3    0   0   0   0   0   0   0   0   0   0   0   0\n",
       "4    0   0   0   0   0   0   0   0   0   0   0   0\n",
       "..  ..  ..  ..  ..  ..  ..  ..  ..  ..  ..  ..  ..\n",
       "95   0   0   0   0   0   0   0   0   0   0   0   0\n",
       "96   0   0   0   0   0   0   0   0   0   0   0   0\n",
       "97   0   0   0   0   0   0   0   0   0   0   0   0\n",
       "98   0   0   0   0   0   0   0   0   0   0   0   0\n",
       "99   0   0   0   0   0   0   0   0   0   0   0   0\n",
       "\n",
       "[100 rows x 12 columns]"
      ]
     },
     "execution_count": 7,
     "metadata": {},
     "output_type": "execute_result"
    }
   ],
   "source": [
    "def get_distances_as_series(tsp_input_data):\n",
    "    distances = list(map(lambda item: item[2], tsp_input_data.dist_list))\n",
    "    distances.sort()\n",
    "    return pd.Series(distances)\n",
    "\n",
    "def get_number_of_duplicated_distances(list_number_of_cities, list_indexes_of_samples, tsp_inpu_data_dict):\n",
    "    tsp_inpu_data_dictionary = dict()\n",
    "    for number_of_cities_in_samples in list_number_of_cities:\n",
    "        tsp_inpu_data_dictionary[number_of_cities_in_samples] = list()\n",
    "        list_of_duplicated_distances_in_dict = []\n",
    "        for index_of_sample in list_indexes_of_samples:\n",
    "            tsp_inpu_data_dictionary[number_of_cities_in_samples]\n",
    "            tsp_input_data = get_tsp_input_data(number_of_cities_in_samples, index_of_sample)\n",
    "            distances_as_series_with_duplication = get_distances_as_series(tsp_input_data)\n",
    "            distance_as_series_without_duplication = distances_as_series_with_duplication.copy()\n",
    "            distance_as_series_without_duplication.drop_duplicates(inplace=True)\n",
    "            nmber_of_duplicats = distances_as_series_with_duplication.size - distance_as_series_without_duplication.size\n",
    "            tsp_inpu_data_dictionary[number_of_cities_in_samples].append(nmber_of_duplicats)\n",
    "    return tsp_inpu_data_dictionary\n",
    "\n",
    "\n",
    "\n",
    "dictioinary_wih_duplication_to_csv = get_number_of_duplicated_distances(NUMBER_OF_CITIES, INDEX_OF_SAMPLES, TSP_INPU_DATA_DICT)\n",
    "df = pd.DataFrame.from_dict(dictioinary_wih_duplication_to_csv)\n",
    "df"
   ]
  },
  {
   "cell_type": "markdown",
   "metadata": {
    "pycharm": {
     "name": "#%% md\n"
    }
   },
   "source": [
    "<h3>3. Wyliczenie parametrów rozkłądu gausa oraz wykreślenie jego krzywej</h3>"
   ]
  },
  {
   "cell_type": "code",
   "execution_count": null,
   "metadata": {
    "pycharm": {
     "name": "#%%\n"
    }
   },
   "outputs": [],
   "source": [
    "def gause(x,q, u):\n",
    "    part_1 = 1.0/(q*math.sqrt(2.0*math.pi))\n",
    "    part_2 = math.exp(-((x-u)*(x-u)/(2 *(q*q))))\n",
    "    return part_1 * part_2\n",
    "distances_as_series_no_duplicates = distances_as_series.drop_duplicates(inplace=False)\n",
    "n = distances_as_series.size\n",
    "normalized_dist = (distances_as_series-pd.Series([distances_as_series.min()] * n)) / (pd.Series([distances_as_series.max()] *n)-pd.Series([distances_as_series.min()] * n))\n",
    "u = normalized_dist.mean()\n",
    "q = normalized_dist.var()\n",
    "std = normalized_dist.std()\n",
    "min = normalized_dist.min()\n",
    "max = normalized_dist.max()\n",
    "print(\"u: \", u)\n",
    "print(\"q: \", q)\n",
    "print(\"n: \", n)\n",
    "print(\"min: \", min)\n",
    "print(\"max: \", max)\n",
    "x = np.linspace(min, max, n)\n",
    "y = [gause(a,q,u) for a in x]\n",
    "\n",
    "\n",
    "font1 = {'family':'serif','color':'blue','size':20}\n",
    "font2 = {'family':'serif','color':'lightblue','size':15}\n",
    "%matplotlib inline\n",
    "plt.figure(figsize=(10,10))\n",
    "plt.title(\"Rozkład prawdopodobieństwa długości krawędzi z duplikatami\", fontdict = font2)\n",
    "plt.xlabel(\"Zakres długości krawędzi znormalizowany do wartości z zakresu [0,1]\", fontdict = font2)\n",
    "plt.ylabel(\"Gęstość prawdopodobieństwa\", fontdict = font2)\n",
    "plt.plot(x,y)\n",
    "plt.axvline(x = (max- min) /2, ymin = 0, ymax=8,linestyle=\"--\", color=\"red\")\n",
    "plt.show()"
   ]
  },
  {
   "cell_type": "code",
   "execution_count": null,
   "metadata": {
    "pycharm": {
     "name": "#%%\n"
    }
   },
   "outputs": [],
   "source": [
    "distances_as_series_no_duplicates = distances_as_series.drop_duplicates(inplace=False)\n",
    "n = distances_as_series_no_duplicates.size\n",
    "normalized_dist = (distances_as_series_no_duplicates-pd.Series([distances_as_series_no_duplicates.min()] * n)) / (pd.Series([distances_as_series_no_duplicates.max()] *n)-pd.Series([distances_as_series_no_duplicates.min()] * n))\n",
    "u = normalized_dist.mean()\n",
    "q = normalized_dist.var()\n",
    "std = normalized_dist.std()\n",
    "min = normalized_dist.min()\n",
    "max = normalized_dist.max()\n",
    "print(\"u: \", u)\n",
    "print(\"q: \", q)\n",
    "print(\"n: \", n)\n",
    "print(\"min: \", min)\n",
    "print(\"max: \", max)\n",
    "x = np.linspace(min, max, n)\n",
    "y = [gause(a,q,u) for a in x]\n",
    "\n",
    "font1 = {'family':'serif','color':'blue','size':20}\n",
    "font2 = {'family':'serif','color':'lightblue','size':15}\n",
    "%matplotlib inline\n",
    "plt.figure(figsize=(10,10))\n",
    "plt.title(\"Rozkład prawdopodobieństwa długości krawędzi bez duplikatów\", fontdict = font2)\n",
    "plt.xlabel(\"Zakres długości krawędzi znormalizowany do wartości z zakresu [0,1]\", fontdict = font2)\n",
    "plt.ylabel(\"Gęstość prawdopodobieństwa\", fontdict = font2)\n",
    "plt.plot(x,y)\n",
    "plt.axvline(x = (max- min) /2, ymin = 0, ymax=8,linestyle=\"--\", color=\"red\")\n",
    "plt.show()\n"
   ]
  },
  {
   "cell_type": "code",
   "execution_count": null,
   "metadata": {
    "pycharm": {
     "name": "#%%\n"
    }
   },
   "outputs": [],
   "source": [
    "x_positions = list()\n",
    "y_positions = list()\n",
    "for city in tsp_input_data.list_of_cities:\n",
    "    x_positions.append(city.x)\n",
    "    y_positions.append(city.y)\n",
    "x_positions = np.array(x_positions)\n",
    "y_positions = np.array(y_positions)\n",
    "plt.figure(figsize=(10,10))\n",
    "plt.scatter(x_positions, y_positions, c=\"b\", marker='x', label=\"cities\")\n",
    "plt.scatter([0], [0], c=\"r\", marker='x', label=\"city_start_end\")\n",
    "plt.legend(loc='upper right')\n",
    "plt.title(\"Mapa położenia miast\", fontdict = font2)\n",
    "plt.xlabel(\"Szerkość geograficzna X [-1000, 1000]\", fontdict = font2)\n",
    "plt.ylabel(\"Długość geograficzna Y [-1000, 1000]\", fontdict = font2)\n",
    "plt.axis('equal')\n",
    "plt.show()"
   ]
  },
  {
   "cell_type": "code",
   "execution_count": null,
   "metadata": {
    "pycharm": {
     "name": "#%%\n"
    }
   },
   "outputs": [],
   "source": [
    "# fig, ax = plt.subplots(2, sharex=True, sharey=True)         # Prepare 2 plots\n",
    "# ax[0].set_title('Raw nodes')\n",
    "# ax[1].set_title('Optimized tour')\n",
    "# ax[0].scatter(positions[:, 0], positions[:, 1])             # plot A\n",
    "# ax[1].scatter(positions[:, 0], positions[:, 1])             # plot B\n",
    "# start_node = 0\n",
    "# distance = 0.\n",
    "# for i in range(N):\n",
    "#     start_pos = positions[start_node]\n",
    "#     next_node = np.argmax(x_sol[start_node]) # needed because of MIP-approach used for TSP\n",
    "#     end_pos = positions[next_node]\n",
    "#     ax[1].annotate(\"\",\n",
    "#             xy=start_pos, xycoords='data',\n",
    "#             xytext=end_pos, textcoords='data',\n",
    "#             arrowprops=dict(arrowstyle=\"->\",\n",
    "#                             connectionstyle=\"arc3\"))\n",
    "#     distance += np.linalg.norm(end_pos - start_pos)\n",
    "#     start_node = next_node\n",
    "#\n",
    "# textstr = \"N nodes: %d\\nTotal length: %.3f\" % (N, distance)\n",
    "# props = dict(boxstyle='round', facecolor='wheat', alpha=0.5)\n",
    "# ax[1].text(0.05, 0.95, textstr, transform=ax[1].transAxes, fontsize=14, # Textbox\n",
    "#         verticalalignment='top', bbox=props)\n",
    "#\n",
    "# plt.tight_layout()\n",
    "# plt.show()"
   ]
  },
  {
   "cell_type": "code",
   "execution_count": null,
   "metadata": {
    "pycharm": {
     "name": "#%%\n"
    }
   },
   "outputs": [],
   "source": []
  }
 ],
 "metadata": {
  "kernelspec": {
   "display_name": "Python 3 (ipykernel)",
   "language": "python",
   "name": "python3"
  },
  "language_info": {
   "codemirror_mode": {
    "name": "ipython",
    "version": 3
   },
   "file_extension": ".py",
   "mimetype": "text/x-python",
   "name": "python",
   "nbconvert_exporter": "python",
   "pygments_lexer": "ipython3",
   "version": "3.7.11"
  }
 },
 "nbformat": 4,
 "nbformat_minor": 1
}

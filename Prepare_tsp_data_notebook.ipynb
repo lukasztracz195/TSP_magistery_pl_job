{
 "cells": [
  {
   "cell_type": "code",
   "execution_count": 163,
   "metadata": {
    "collapsed": true
   },
   "outputs": [],
   "source": [
    "## Import bibliotek\n",
    "\n",
    "import pandas as pd\n",
    "import json\n",
    "import numpy as np\n",
    "from builders.PathBuilder import PathBuilder\n",
    "from constants.AlgNamesResults.names import *\n",
    "from constants.MeasurementBasic import *\n",
    "from constants.MeasurementTimeWithOutputData import *\n"
   ]
  },
  {
   "cell_type": "code",
   "execution_count": 164,
   "outputs": [
    {
     "name": "stdout",
     "output_type": "stream",
     "text": [
      "D:\\STUDIA\\Studia_magisterskie\\SEM_3\\praca_magisterska\\TSP_magistery_pl_job/results_tsp/raw_tsp_results.csv\n"
     ]
    },
    {
     "data": {
      "text/plain": "      Unnamed: 0                   used_read_access_memory_in_bytes  \\\n0              0                                        12266364928   \n1              1                                        12265148416   \n2              2                                        12253212672   \n3              3                                        12329185280   \n4              4                                        14642483200   \n...          ...                                                ...   \n1079        1082  [6863495168, 6864707584, 6864248832, 686521139...   \n1080        1083  [6876319744, 6871994368, 6873092096, 686618214...   \n1081        1084  [6896361472, 6896480256, 6896500736, 689645158...   \n1082        1085  [6902259712, 6902431744, 6902415360, 687842099...   \n1083        1086  [6878232576, 6875611136, 6876336128, 687660236...   \n\n                                     utilization_of_cpu  \\\n0                                                   0.0   \n1                                                   0.0   \n2                                                  17.9   \n3                                                  47.4   \n4                                                   1.8   \n...                                                 ...   \n1079  [12.5, 12.5, 13.2, 12.5, 11.3, 12.5, 16.1, 13....   \n1080  [16.1, 12.5, 25.0, 14.3, 12.5, 12.5, 12.5, 14....   \n1081  [12.5, 12.5, 12.5, 12.5, 18.2, 12.5, 12.5, 13....   \n1082  [16.1, 14.9, 12.3, 12.3, 12.3, 15.4, 12.5, 12....   \n1083  [16.1, 12.5, 20.0, 11.7, 12.5, 12.5, 12.5, 13....   \n\n                  used_read_access_memory_in_percentage  \\\n0                                                  72.2   \n1                                                  72.2   \n2                                                  72.1   \n3                                                  72.5   \n4                                                  86.1   \n...                                                 ...   \n1079  [40.4, 40.4, 40.4, 40.4, 40.4, 40.4, 40.4, 40....   \n1080  [40.5, 40.4, 40.4, 40.4, 40.4, 40.4, 40.4, 40....   \n1081  [40.6, 40.6, 40.6, 40.6, 40.6, 40.6, 40.6, 40....   \n1082  [40.6, 40.6, 40.6, 40.5, 40.5, 40.5, 40.5, 40....   \n1083  [40.5, 40.4, 40.5, 40.5, 40.5, 40.5, 40.5, 40....   \n\n      time_duration_with_cpu_profiler_in_sec             used_algorithm  \\\n0                                   0.000286  astar_heuristic_self_impl   \n1                                   0.000217  astar_heuristic_self_impl   \n2                                   0.000594  astar_heuristic_self_impl   \n3                                   0.000377  astar_heuristic_self_impl   \n4                                   0.000216  astar_heuristic_self_impl   \n...                                      ...                        ...   \n1079                               25.169864  ant_colony_tsp_scikit_opt   \n1080                               41.855176  ant_colony_tsp_scikit_opt   \n1081                               40.278848  ant_colony_tsp_scikit_opt   \n1082                               40.991858  ant_colony_tsp_scikit_opt   \n1083                               41.896021  ant_colony_tsp_scikit_opt   \n\n                 name_of_src_file  time_duration_without_malloc_in_sec  \\\n0       TSP_CITIES_SET_0_N_3.json                             0.000116   \n1       TSP_CITIES_SET_1_N_3.json                             0.000109   \n2       TSP_CITIES_SET_2_N_3.json                             0.000164   \n3       TSP_CITIES_SET_3_N_3.json                             0.000123   \n4       TSP_CITIES_SET_4_N_3.json                             0.000104   \n...                           ...                                  ...   \n1079   TSP_CITIES_SET_6_N_15.json                             7.412598   \n1080   TSP_CITIES_SET_7_N_15.json                             7.386202   \n1081   TSP_CITIES_SET_8_N_15.json                             7.396802   \n1082   TSP_CITIES_SET_9_N_15.json                             7.459393   \n1083  TSP_CITIES_SET_10_N_15.json                             7.439359   \n\n        full_cost                                           best_way  \\\n0     1439.632002                                       [0, 2, 1, 0]   \n1     2449.451417                                       [0, 2, 1, 0]   \n2     1992.170127                                       [0, 2, 1, 0]   \n3     2559.880995                                       [0, 1, 2, 0]   \n4     2227.816084                                       [0, 1, 2, 0]   \n...           ...                                                ...   \n1079  7346.595656  [0, 11, 5, 2, 6, 13, 3, 9, 4, 10, 12, 14, 1, 8...   \n1080  6565.543715  [0, 7, 4, 11, 2, 14, 6, 5, 3, 1, 9, 13, 10, 12...   \n1081  7181.429076                                                NaN   \n1082  7178.600800                                                NaN   \n1083  7228.866467                                                NaN   \n\n      time_duration_with_malloc_in_sec  \\\n0                             0.000218   \n1                             0.000177   \n2                             0.000181   \n3                             0.000375   \n4                             0.000258   \n...                                ...   \n1079                         14.268730   \n1080                         14.642805   \n1081                         14.257357   \n1082                         14.263130   \n1083                         15.590621   \n\n      used_memory_before_measurement_in_bytes  \\\n0                                           0   \n1                                           0   \n2                                           0   \n3                                           0   \n4                                           0   \n...                                       ...   \n1079                                      464   \n1080                                      464   \n1081                                      464   \n1082                                      464   \n1083                                      464   \n\n      used_memory_peak_before_measurement_in_bytes  \\\n0                                                0   \n1                                                0   \n2                                                0   \n3                                                0   \n4                                                0   \n...                                            ...   \n1079                                          1823   \n1080                                          1823   \n1081                                          1823   \n1082                                          1823   \n1083                                          1823   \n\n      used_memory_after_measurement_in_bytes  \\\n0                                       9088   \n1                                       8800   \n2                                       8800   \n3                                       9088   \n4                                       8800   \n...                                      ...   \n1079                                   64731   \n1080                                   64731   \n1081                                   64731   \n1082                                   64731   \n1083                                   64731   \n\n      used_memory_peak_after_measurement_in_bytes  \\\n0                                            9088   \n1                                            8800   \n2                                            8800   \n3                                            9088   \n4                                            8800   \n...                                           ...   \n1079                                        64731   \n1080                                        64731   \n1081                                        64731   \n1082                                        64731   \n1083                                        64731   \n\n      used_memory_diff_before_after_measurement_in_bytes  \\\n0                                                  9088    \n1                                                  8800    \n2                                                  8800    \n3                                                  9088    \n4                                                  8800    \n...                                                 ...    \n1079                                              64267    \n1080                                              64267    \n1081                                              64267    \n1082                                              64267    \n1083                                              64267    \n\n      used_memory_peak_diff_before_after_measurement_in_bytes  \n0                                                  9088        \n1                                                  8800        \n2                                                  8800        \n3                                                  9088        \n4                                                  8800        \n...                                                 ...        \n1079                                              64267        \n1080                                              64267        \n1081                                              64267        \n1082                                              64267        \n1083                                              64267        \n\n[1084 rows x 17 columns]",
      "text/html": "<div>\n<style scoped>\n    .dataframe tbody tr th:only-of-type {\n        vertical-align: middle;\n    }\n\n    .dataframe tbody tr th {\n        vertical-align: top;\n    }\n\n    .dataframe thead th {\n        text-align: right;\n    }\n</style>\n<table border=\"1\" class=\"dataframe\">\n  <thead>\n    <tr style=\"text-align: right;\">\n      <th></th>\n      <th>Unnamed: 0</th>\n      <th>used_read_access_memory_in_bytes</th>\n      <th>utilization_of_cpu</th>\n      <th>used_read_access_memory_in_percentage</th>\n      <th>time_duration_with_cpu_profiler_in_sec</th>\n      <th>used_algorithm</th>\n      <th>name_of_src_file</th>\n      <th>time_duration_without_malloc_in_sec</th>\n      <th>full_cost</th>\n      <th>best_way</th>\n      <th>time_duration_with_malloc_in_sec</th>\n      <th>used_memory_before_measurement_in_bytes</th>\n      <th>used_memory_peak_before_measurement_in_bytes</th>\n      <th>used_memory_after_measurement_in_bytes</th>\n      <th>used_memory_peak_after_measurement_in_bytes</th>\n      <th>used_memory_diff_before_after_measurement_in_bytes</th>\n      <th>used_memory_peak_diff_before_after_measurement_in_bytes</th>\n    </tr>\n  </thead>\n  <tbody>\n    <tr>\n      <th>0</th>\n      <td>0</td>\n      <td>12266364928</td>\n      <td>0.0</td>\n      <td>72.2</td>\n      <td>0.000286</td>\n      <td>astar_heuristic_self_impl</td>\n      <td>TSP_CITIES_SET_0_N_3.json</td>\n      <td>0.000116</td>\n      <td>1439.632002</td>\n      <td>[0, 2, 1, 0]</td>\n      <td>0.000218</td>\n      <td>0</td>\n      <td>0</td>\n      <td>9088</td>\n      <td>9088</td>\n      <td>9088</td>\n      <td>9088</td>\n    </tr>\n    <tr>\n      <th>1</th>\n      <td>1</td>\n      <td>12265148416</td>\n      <td>0.0</td>\n      <td>72.2</td>\n      <td>0.000217</td>\n      <td>astar_heuristic_self_impl</td>\n      <td>TSP_CITIES_SET_1_N_3.json</td>\n      <td>0.000109</td>\n      <td>2449.451417</td>\n      <td>[0, 2, 1, 0]</td>\n      <td>0.000177</td>\n      <td>0</td>\n      <td>0</td>\n      <td>8800</td>\n      <td>8800</td>\n      <td>8800</td>\n      <td>8800</td>\n    </tr>\n    <tr>\n      <th>2</th>\n      <td>2</td>\n      <td>12253212672</td>\n      <td>17.9</td>\n      <td>72.1</td>\n      <td>0.000594</td>\n      <td>astar_heuristic_self_impl</td>\n      <td>TSP_CITIES_SET_2_N_3.json</td>\n      <td>0.000164</td>\n      <td>1992.170127</td>\n      <td>[0, 2, 1, 0]</td>\n      <td>0.000181</td>\n      <td>0</td>\n      <td>0</td>\n      <td>8800</td>\n      <td>8800</td>\n      <td>8800</td>\n      <td>8800</td>\n    </tr>\n    <tr>\n      <th>3</th>\n      <td>3</td>\n      <td>12329185280</td>\n      <td>47.4</td>\n      <td>72.5</td>\n      <td>0.000377</td>\n      <td>astar_heuristic_self_impl</td>\n      <td>TSP_CITIES_SET_3_N_3.json</td>\n      <td>0.000123</td>\n      <td>2559.880995</td>\n      <td>[0, 1, 2, 0]</td>\n      <td>0.000375</td>\n      <td>0</td>\n      <td>0</td>\n      <td>9088</td>\n      <td>9088</td>\n      <td>9088</td>\n      <td>9088</td>\n    </tr>\n    <tr>\n      <th>4</th>\n      <td>4</td>\n      <td>14642483200</td>\n      <td>1.8</td>\n      <td>86.1</td>\n      <td>0.000216</td>\n      <td>astar_heuristic_self_impl</td>\n      <td>TSP_CITIES_SET_4_N_3.json</td>\n      <td>0.000104</td>\n      <td>2227.816084</td>\n      <td>[0, 1, 2, 0]</td>\n      <td>0.000258</td>\n      <td>0</td>\n      <td>0</td>\n      <td>8800</td>\n      <td>8800</td>\n      <td>8800</td>\n      <td>8800</td>\n    </tr>\n    <tr>\n      <th>...</th>\n      <td>...</td>\n      <td>...</td>\n      <td>...</td>\n      <td>...</td>\n      <td>...</td>\n      <td>...</td>\n      <td>...</td>\n      <td>...</td>\n      <td>...</td>\n      <td>...</td>\n      <td>...</td>\n      <td>...</td>\n      <td>...</td>\n      <td>...</td>\n      <td>...</td>\n      <td>...</td>\n      <td>...</td>\n    </tr>\n    <tr>\n      <th>1079</th>\n      <td>1082</td>\n      <td>[6863495168, 6864707584, 6864248832, 686521139...</td>\n      <td>[12.5, 12.5, 13.2, 12.5, 11.3, 12.5, 16.1, 13....</td>\n      <td>[40.4, 40.4, 40.4, 40.4, 40.4, 40.4, 40.4, 40....</td>\n      <td>25.169864</td>\n      <td>ant_colony_tsp_scikit_opt</td>\n      <td>TSP_CITIES_SET_6_N_15.json</td>\n      <td>7.412598</td>\n      <td>7346.595656</td>\n      <td>[0, 11, 5, 2, 6, 13, 3, 9, 4, 10, 12, 14, 1, 8...</td>\n      <td>14.268730</td>\n      <td>464</td>\n      <td>1823</td>\n      <td>64731</td>\n      <td>64731</td>\n      <td>64267</td>\n      <td>64267</td>\n    </tr>\n    <tr>\n      <th>1080</th>\n      <td>1083</td>\n      <td>[6876319744, 6871994368, 6873092096, 686618214...</td>\n      <td>[16.1, 12.5, 25.0, 14.3, 12.5, 12.5, 12.5, 14....</td>\n      <td>[40.5, 40.4, 40.4, 40.4, 40.4, 40.4, 40.4, 40....</td>\n      <td>41.855176</td>\n      <td>ant_colony_tsp_scikit_opt</td>\n      <td>TSP_CITIES_SET_7_N_15.json</td>\n      <td>7.386202</td>\n      <td>6565.543715</td>\n      <td>[0, 7, 4, 11, 2, 14, 6, 5, 3, 1, 9, 13, 10, 12...</td>\n      <td>14.642805</td>\n      <td>464</td>\n      <td>1823</td>\n      <td>64731</td>\n      <td>64731</td>\n      <td>64267</td>\n      <td>64267</td>\n    </tr>\n    <tr>\n      <th>1081</th>\n      <td>1084</td>\n      <td>[6896361472, 6896480256, 6896500736, 689645158...</td>\n      <td>[12.5, 12.5, 12.5, 12.5, 18.2, 12.5, 12.5, 13....</td>\n      <td>[40.6, 40.6, 40.6, 40.6, 40.6, 40.6, 40.6, 40....</td>\n      <td>40.278848</td>\n      <td>ant_colony_tsp_scikit_opt</td>\n      <td>TSP_CITIES_SET_8_N_15.json</td>\n      <td>7.396802</td>\n      <td>7181.429076</td>\n      <td>NaN</td>\n      <td>14.257357</td>\n      <td>464</td>\n      <td>1823</td>\n      <td>64731</td>\n      <td>64731</td>\n      <td>64267</td>\n      <td>64267</td>\n    </tr>\n    <tr>\n      <th>1082</th>\n      <td>1085</td>\n      <td>[6902259712, 6902431744, 6902415360, 687842099...</td>\n      <td>[16.1, 14.9, 12.3, 12.3, 12.3, 15.4, 12.5, 12....</td>\n      <td>[40.6, 40.6, 40.6, 40.5, 40.5, 40.5, 40.5, 40....</td>\n      <td>40.991858</td>\n      <td>ant_colony_tsp_scikit_opt</td>\n      <td>TSP_CITIES_SET_9_N_15.json</td>\n      <td>7.459393</td>\n      <td>7178.600800</td>\n      <td>NaN</td>\n      <td>14.263130</td>\n      <td>464</td>\n      <td>1823</td>\n      <td>64731</td>\n      <td>64731</td>\n      <td>64267</td>\n      <td>64267</td>\n    </tr>\n    <tr>\n      <th>1083</th>\n      <td>1086</td>\n      <td>[6878232576, 6875611136, 6876336128, 687660236...</td>\n      <td>[16.1, 12.5, 20.0, 11.7, 12.5, 12.5, 12.5, 13....</td>\n      <td>[40.5, 40.4, 40.5, 40.5, 40.5, 40.5, 40.5, 40....</td>\n      <td>41.896021</td>\n      <td>ant_colony_tsp_scikit_opt</td>\n      <td>TSP_CITIES_SET_10_N_15.json</td>\n      <td>7.439359</td>\n      <td>7228.866467</td>\n      <td>NaN</td>\n      <td>15.590621</td>\n      <td>464</td>\n      <td>1823</td>\n      <td>64731</td>\n      <td>64731</td>\n      <td>64267</td>\n      <td>64267</td>\n    </tr>\n  </tbody>\n</table>\n<p>1084 rows × 17 columns</p>\n</div>"
     },
     "execution_count": 164,
     "metadata": {},
     "output_type": "execute_result"
    }
   ],
   "source": [
    "\n",
    "\n",
    "\n",
    "path_to_csv = PathBuilder().add_dir(\"results_tsp\").add_file_with_extension(\"raw_tsp_results.csv\").build()\n",
    "print(path_to_csv)\n",
    "df = pd.read_csv(path_to_csv)\n",
    "df"
   ],
   "metadata": {
    "collapsed": false,
    "pycharm": {
     "name": "#%%\n"
    }
   }
  },
  {
   "cell_type": "code",
   "execution_count": 165,
   "outputs": [
    {
     "data": {
      "text/plain": "Unnamed: 0                                                 0\nused_read_access_memory_in_bytes                           0\nutilization_of_cpu                                         0\nused_read_access_memory_in_percentage                      0\ntime_duration_with_cpu_profiler_in_sec                     0\nused_algorithm                                             0\nname_of_src_file                                           0\ntime_duration_without_malloc_in_sec                        0\nfull_cost                                                  0\nbest_way                                                   3\ntime_duration_with_malloc_in_sec                           0\nused_memory_before_measurement_in_bytes                    0\nused_memory_peak_before_measurement_in_bytes               0\nused_memory_after_measurement_in_bytes                     0\nused_memory_peak_after_measurement_in_bytes                0\nused_memory_diff_before_after_measurement_in_bytes         0\nused_memory_peak_diff_before_after_measurement_in_bytes    0\ndtype: int64"
     },
     "execution_count": 165,
     "metadata": {},
     "output_type": "execute_result"
    }
   ],
   "source": [
    "df.isnull().sum()"
   ],
   "metadata": {
    "collapsed": false,
    "pycharm": {
     "name": "#%%\n"
    }
   }
  },
  {
   "cell_type": "code",
   "execution_count": 166,
   "outputs": [],
   "source": [
    "df.dropna(inplace=True)"
   ],
   "metadata": {
    "collapsed": false,
    "pycharm": {
     "name": "#%%\n"
    }
   }
  },
  {
   "cell_type": "code",
   "execution_count": 167,
   "outputs": [
    {
     "data": {
      "text/plain": "Unnamed: 0                                                 0\nused_read_access_memory_in_bytes                           0\nutilization_of_cpu                                         0\nused_read_access_memory_in_percentage                      0\ntime_duration_with_cpu_profiler_in_sec                     0\nused_algorithm                                             0\nname_of_src_file                                           0\ntime_duration_without_malloc_in_sec                        0\nfull_cost                                                  0\nbest_way                                                   0\ntime_duration_with_malloc_in_sec                           0\nused_memory_before_measurement_in_bytes                    0\nused_memory_peak_before_measurement_in_bytes               0\nused_memory_after_measurement_in_bytes                     0\nused_memory_peak_after_measurement_in_bytes                0\nused_memory_diff_before_after_measurement_in_bytes         0\nused_memory_peak_diff_before_after_measurement_in_bytes    0\ndtype: int64"
     },
     "execution_count": 167,
     "metadata": {},
     "output_type": "execute_result"
    }
   ],
   "source": [
    "df.isnull().sum()"
   ],
   "metadata": {
    "collapsed": false,
    "pycharm": {
     "name": "#%%\n"
    }
   }
  },
  {
   "cell_type": "code",
   "execution_count": 168,
   "outputs": [],
   "source": [
    "\n",
    "\n",
    "\n",
    "\n",
    "condition = (df[USED_ALGORITHM] == DYNAMIC_PROGRAMING_EXAC_HELD_KARP_LIB_DIR)\n",
    "subset_for_held_karp = df[condition]\n",
    "subset_for_held_karp = subset_for_held_karp[[USED_ALGORITHM, NAME_OF_SRC_FILE,\n",
    "                                             FULL_COST,\n",
    "                                             BEST_WAY]]\n",
    "path_to_csv_with_optimal_results = PathBuilder()\\\n",
    ".add_dir(\"results_tsp\")\\\n",
    ".add_file_with_extension(\"optimal_tsp_results.csv\")\\\n",
    ".build()\n",
    "subset_for_held_karp.to_csv(path_to_csv_with_optimal_results)"
   ],
   "metadata": {
    "collapsed": false,
    "pycharm": {
     "name": "#%%\n"
    }
   }
  },
  {
   "cell_type": "code",
   "execution_count": 169,
   "outputs": [
    {
     "data": {
      "text/plain": "                name_of_src_file    full_cost  \\\n655    TSP_CITIES_SET_0_N_3.json  1439.632002   \n656    TSP_CITIES_SET_1_N_3.json  2449.451417   \n657    TSP_CITIES_SET_2_N_3.json  1992.170127   \n658    TSP_CITIES_SET_3_N_3.json  2559.880995   \n659    TSP_CITIES_SET_4_N_3.json  2227.816084   \n..                           ...          ...   \n793   TSP_CITIES_SET_6_N_15.json  7346.595656   \n794   TSP_CITIES_SET_7_N_15.json  6565.543715   \n795   TSP_CITIES_SET_8_N_15.json  7181.429076   \n796   TSP_CITIES_SET_9_N_15.json  7028.974005   \n797  TSP_CITIES_SET_10_N_15.json  7228.866467   \n\n                                              best_way  \n655                                       [0, 1, 2, 0]  \n656                                       [0, 1, 2, 0]  \n657                                       [0, 1, 2, 0]  \n658                                       [0, 1, 2, 0]  \n659                                       [0, 1, 2, 0]  \n..                                                 ...  \n793  [0, 2, 6, 13, 3, 9, 4, 10, 12, 14, 1, 8, 7, 5,...  \n794  [0, 7, 4, 11, 2, 14, 6, 5, 3, 1, 9, 13, 10, 12...  \n795                                       [0, 2, 1, 0]  \n796                                       [0, 2, 1, 0]  \n797                                       [0, 2, 1, 0]  \n\n[143 rows x 3 columns]",
      "text/html": "<div>\n<style scoped>\n    .dataframe tbody tr th:only-of-type {\n        vertical-align: middle;\n    }\n\n    .dataframe tbody tr th {\n        vertical-align: top;\n    }\n\n    .dataframe thead th {\n        text-align: right;\n    }\n</style>\n<table border=\"1\" class=\"dataframe\">\n  <thead>\n    <tr style=\"text-align: right;\">\n      <th></th>\n      <th>name_of_src_file</th>\n      <th>full_cost</th>\n      <th>best_way</th>\n    </tr>\n  </thead>\n  <tbody>\n    <tr>\n      <th>655</th>\n      <td>TSP_CITIES_SET_0_N_3.json</td>\n      <td>1439.632002</td>\n      <td>[0, 1, 2, 0]</td>\n    </tr>\n    <tr>\n      <th>656</th>\n      <td>TSP_CITIES_SET_1_N_3.json</td>\n      <td>2449.451417</td>\n      <td>[0, 1, 2, 0]</td>\n    </tr>\n    <tr>\n      <th>657</th>\n      <td>TSP_CITIES_SET_2_N_3.json</td>\n      <td>1992.170127</td>\n      <td>[0, 1, 2, 0]</td>\n    </tr>\n    <tr>\n      <th>658</th>\n      <td>TSP_CITIES_SET_3_N_3.json</td>\n      <td>2559.880995</td>\n      <td>[0, 1, 2, 0]</td>\n    </tr>\n    <tr>\n      <th>659</th>\n      <td>TSP_CITIES_SET_4_N_3.json</td>\n      <td>2227.816084</td>\n      <td>[0, 1, 2, 0]</td>\n    </tr>\n    <tr>\n      <th>...</th>\n      <td>...</td>\n      <td>...</td>\n      <td>...</td>\n    </tr>\n    <tr>\n      <th>793</th>\n      <td>TSP_CITIES_SET_6_N_15.json</td>\n      <td>7346.595656</td>\n      <td>[0, 2, 6, 13, 3, 9, 4, 10, 12, 14, 1, 8, 7, 5,...</td>\n    </tr>\n    <tr>\n      <th>794</th>\n      <td>TSP_CITIES_SET_7_N_15.json</td>\n      <td>6565.543715</td>\n      <td>[0, 7, 4, 11, 2, 14, 6, 5, 3, 1, 9, 13, 10, 12...</td>\n    </tr>\n    <tr>\n      <th>795</th>\n      <td>TSP_CITIES_SET_8_N_15.json</td>\n      <td>7181.429076</td>\n      <td>[0, 2, 1, 0]</td>\n    </tr>\n    <tr>\n      <th>796</th>\n      <td>TSP_CITIES_SET_9_N_15.json</td>\n      <td>7028.974005</td>\n      <td>[0, 2, 1, 0]</td>\n    </tr>\n    <tr>\n      <th>797</th>\n      <td>TSP_CITIES_SET_10_N_15.json</td>\n      <td>7228.866467</td>\n      <td>[0, 2, 1, 0]</td>\n    </tr>\n  </tbody>\n</table>\n<p>143 rows × 3 columns</p>\n</div>"
     },
     "execution_count": 169,
     "metadata": {},
     "output_type": "execute_result"
    }
   ],
   "source": [
    "subset_for_held_karp_to_dict = subset_for_held_karp[[NAME_OF_SRC_FILE,\n",
    "                                                     FULL_COST,\n",
    "                                                     BEST_WAY]]\n",
    "subset_for_held_karp_to_dict"
   ],
   "metadata": {
    "collapsed": false,
    "pycharm": {
     "name": "#%%\n"
    }
   }
  },
  {
   "cell_type": "code",
   "execution_count": 170,
   "outputs": [
    {
     "name": "stdout",
     "output_type": "stream",
     "text": [
      "{'TSP_CITIES_SET_0_N_3.json': {'best_way': '[0, 1, 2, 0]', 'full_cost': 1439.6320017599148}, 'TSP_CITIES_SET_1_N_3.json': {'best_way': '[0, 1, 2, 0]', 'full_cost': 2449.451417224457}, 'TSP_CITIES_SET_2_N_3.json': {'best_way': '[0, 1, 2, 0]', 'full_cost': 1992.1701274596664}, 'TSP_CITIES_SET_3_N_3.json': {'best_way': '[0, 1, 2, 0]', 'full_cost': 2559.880995137189}, 'TSP_CITIES_SET_4_N_3.json': {'best_way': '[0, 1, 2, 0]', 'full_cost': 2227.816084204156}, 'TSP_CITIES_SET_5_N_3.json': {'best_way': '[0, 2, 1, 0]', 'full_cost': 2308.09614849954}, 'TSP_CITIES_SET_6_N_3.json': {'best_way': '[0, 1, 2, 0]', 'full_cost': 2223.1765560090616}, 'TSP_CITIES_SET_7_N_3.json': {'best_way': '[0, 1, 2, 0]', 'full_cost': 2077.575821150828}, 'TSP_CITIES_SET_8_N_3.json': {'best_way': '[0, 1, 2, 3, 0]', 'full_cost': 1577.5057944700866}, 'TSP_CITIES_SET_9_N_3.json': {'best_way': '[0, 1, 3, 2, 0]', 'full_cost': 2370.4801544902266}, 'TSP_CITIES_SET_10_N_3.json': {'best_way': '[0, 2, 1, 3, 0]', 'full_cost': 2134.487452264483}, 'TSP_CITIES_SET_0_N_4.json': {'best_way': '[0, 1, 2, 3, 0]', 'full_cost': 1935.208175927314}, 'TSP_CITIES_SET_1_N_4.json': {'best_way': '[0, 1, 2, 3, 0]', 'full_cost': 2849.964203248856}, 'TSP_CITIES_SET_2_N_4.json': {'best_way': '[0, 1, 3, 2, 0]', 'full_cost': 2672.783922024946}, 'TSP_CITIES_SET_3_N_4.json': {'best_way': '[0, 1, 2, 3, 0]', 'full_cost': 2088.938557724558}, 'TSP_CITIES_SET_4_N_4.json': {'best_way': '[0, 3, 1, 2, 0]', 'full_cost': 2138.4694210788257}, 'TSP_CITIES_SET_5_N_4.json': {'best_way': '[0, 2, 1, 3, 0]', 'full_cost': 3284.070906401097}, 'TSP_CITIES_SET_6_N_4.json': {'best_way': '[0, 1, 3, 2, 0]', 'full_cost': 2812.785510358919}, 'TSP_CITIES_SET_7_N_4.json': {'best_way': '[0, 1, 3, 2, 0]', 'full_cost': 4483.726936907282}, 'TSP_CITIES_SET_8_N_4.json': {'best_way': '[0, 2, 3, 1, 4, 0]', 'full_cost': 2642.734850528839}, 'TSP_CITIES_SET_9_N_4.json': {'best_way': '[0, 1, 4, 2, 3, 0]', 'full_cost': 3900.075015622191}, 'TSP_CITIES_SET_10_N_4.json': {'best_way': '[0, 3, 2, 1, 4, 0]', 'full_cost': 2611.158593067528}, 'TSP_CITIES_SET_0_N_5.json': {'best_way': '[0, 1, 4, 2, 3, 0]', 'full_cost': 5247.002694950534}, 'TSP_CITIES_SET_1_N_5.json': {'best_way': '[0, 1, 2, 4, 3, 0]', 'full_cost': 5610.816238948362}, 'TSP_CITIES_SET_2_N_5.json': {'best_way': '[0, 2, 3, 4, 1, 0]', 'full_cost': 3245.177303203217}, 'TSP_CITIES_SET_3_N_5.json': {'best_way': '[0, 2, 4, 1, 3, 0]', 'full_cost': 4065.570992540409}, 'TSP_CITIES_SET_4_N_5.json': {'best_way': '[0, 2, 1, 3, 4, 0]', 'full_cost': 4188.148330565064}, 'TSP_CITIES_SET_5_N_5.json': {'best_way': '[0, 2, 1, 4, 3, 0]', 'full_cost': 4834.977298453686}, 'TSP_CITIES_SET_6_N_5.json': {'best_way': '[0, 1, 2, 4, 3, 0]', 'full_cost': 5480.378042322208}, 'TSP_CITIES_SET_7_N_5.json': {'best_way': '[0, 1, 2, 3, 4, 0]', 'full_cost': 3991.225265370968}, 'TSP_CITIES_SET_8_N_5.json': {'best_way': '[0, 2, 1, 4, 5, 3, 0]', 'full_cost': 4884.984619751125}, 'TSP_CITIES_SET_9_N_5.json': {'best_way': '[0, 1, 4, 5, 3, 2, 0]', 'full_cost': 5222.951586109288}, 'TSP_CITIES_SET_10_N_5.json': {'best_way': '[0, 3, 5, 2, 1, 4, 0]', 'full_cost': 3174.0128722731847}, 'TSP_CITIES_SET_0_N_6.json': {'best_way': '[0, 1, 2, 4, 3, 5, 0]', 'full_cost': 3656.608028422512}, 'TSP_CITIES_SET_1_N_6.json': {'best_way': '[0, 4, 5, 3, 1, 2, 0]', 'full_cost': 4857.159580944521}, 'TSP_CITIES_SET_2_N_6.json': {'best_way': '[0, 5, 2, 1, 4, 3, 0]', 'full_cost': 6271.719575183869}, 'TSP_CITIES_SET_3_N_6.json': {'best_way': '[0, 2, 3, 1, 4, 5, 0]', 'full_cost': 5285.114080394351}, 'TSP_CITIES_SET_4_N_6.json': {'best_way': '[0, 2, 1, 4, 3, 5, 0]', 'full_cost': 4340.617043486077}, 'TSP_CITIES_SET_5_N_6.json': {'best_way': '[0, 2, 1, 3, 4, 5, 0]', 'full_cost': 4191.535554233758}, 'TSP_CITIES_SET_6_N_6.json': {'best_way': '[0, 1, 3, 5, 4, 2, 0]', 'full_cost': 3425.617109093754}, 'TSP_CITIES_SET_7_N_6.json': {'best_way': '[0, 2, 3, 1, 5, 4, 0]', 'full_cost': 4615.78609727691}, 'TSP_CITIES_SET_8_N_6.json': {'best_way': '[0, 3, 2, 4, 5, 1, 6, 0]', 'full_cost': 5165.394077599134}, 'TSP_CITIES_SET_9_N_6.json': {'best_way': '[0, 4, 1, 6, 5, 3, 2, 0]', 'full_cost': 5328.524795864792}, 'TSP_CITIES_SET_10_N_6.json': {'best_way': '[0, 5, 2, 1, 4, 3, 6, 0]', 'full_cost': 4609.703061751081}, 'TSP_CITIES_SET_0_N_7.json': {'best_way': '[0, 2, 6, 1, 4, 5, 3, 0]', 'full_cost': 4633.444504906415}, 'TSP_CITIES_SET_1_N_7.json': {'best_way': '[0, 3, 5, 4, 2, 6, 1, 0]', 'full_cost': 3945.383087725937}, 'TSP_CITIES_SET_2_N_7.json': {'best_way': '[0, 1, 2, 6, 3, 4, 5, 0]', 'full_cost': 4324.50433286052}, 'TSP_CITIES_SET_3_N_7.json': {'best_way': '[0, 3, 4, 5, 2, 1, 6, 0]', 'full_cost': 4501.574559936454}, 'TSP_CITIES_SET_4_N_7.json': {'best_way': '[0, 2, 5, 3, 1, 6, 4, 0]', 'full_cost': 4827.947417859276}, 'TSP_CITIES_SET_5_N_7.json': {'best_way': '[0, 1, 6, 5, 2, 4, 3, 0]', 'full_cost': 4742.239498022681}, 'TSP_CITIES_SET_6_N_7.json': {'best_way': '[0, 5, 2, 4, 3, 1, 6, 0]', 'full_cost': 3270.8845931612905}, 'TSP_CITIES_SET_7_N_7.json': {'best_way': '[0, 3, 6, 2, 5, 4, 1, 0]', 'full_cost': 5250.138648061986}, 'TSP_CITIES_SET_8_N_7.json': {'best_way': '[0, 3, 6, 4, 1, 2, 5, 7, 0]', 'full_cost': 5443.669015078212}, 'TSP_CITIES_SET_9_N_7.json': {'best_way': '[0, 1, 5, 3, 7, 4, 2, 6, 0]', 'full_cost': 4235.391548833311}, 'TSP_CITIES_SET_10_N_7.json': {'best_way': '[0, 4, 1, 2, 3, 7, 6, 5, 0]', 'full_cost': 5580.745726227298}, 'TSP_CITIES_SET_0_N_8.json': {'best_way': '[0, 2, 5, 1, 6, 7, 4, 3, 0]', 'full_cost': 6086.300314540616}, 'TSP_CITIES_SET_1_N_8.json': {'best_way': '[0, 3, 4, 2, 1, 5, 6, 7, 0]', 'full_cost': 5530.539289341173}, 'TSP_CITIES_SET_2_N_8.json': {'best_way': '[0, 7, 1, 6, 3, 4, 5, 2, 0]', 'full_cost': 4134.741824188496}, 'TSP_CITIES_SET_3_N_8.json': {'best_way': '[0, 1, 3, 4, 2, 7, 6, 5, 0]', 'full_cost': 5356.763243254066}, 'TSP_CITIES_SET_4_N_8.json': {'best_way': '[0, 3, 7, 1, 5, 4, 2, 6, 0]', 'full_cost': 4907.171937818084}, 'TSP_CITIES_SET_5_N_8.json': {'best_way': '[0, 3, 2, 4, 5, 1, 7, 6, 0]', 'full_cost': 5549.818699022188}, 'TSP_CITIES_SET_6_N_8.json': {'best_way': '[0, 3, 6, 2, 7, 1, 4, 5, 0]', 'full_cost': 5840.032374590057}, 'TSP_CITIES_SET_7_N_8.json': {'best_way': '[0, 7, 5, 1, 4, 2, 6, 3, 0]', 'full_cost': 3971.383628727205}, 'TSP_CITIES_SET_8_N_8.json': {'best_way': '[0, 1, 8, 5, 7, 3, 4, 2, 6, 0]', 'full_cost': 4812.929184771186}, 'TSP_CITIES_SET_9_N_8.json': {'best_way': '[0, 4, 7, 1, 3, 6, 2, 8, 5, 0]', 'full_cost': 5964.34055068612}, 'TSP_CITIES_SET_10_N_8.json': {'best_way': '[0, 1, 3, 6, 5, 4, 2, 8, 7, 0]', 'full_cost': 3908.669864324701}, 'TSP_CITIES_SET_0_N_9.json': {'best_way': '[0, 3, 6, 2, 1, 8, 5, 4, 7, 0]', 'full_cost': 5213.901171354273}, 'TSP_CITIES_SET_1_N_9.json': {'best_way': '[0, 6, 1, 5, 2, 7, 4, 8, 3, 0]', 'full_cost': 4619.208483951843}, 'TSP_CITIES_SET_2_N_9.json': {'best_way': '[0, 4, 8, 3, 5, 2, 7, 1, 6, 0]', 'full_cost': 6289.495136673273}, 'TSP_CITIES_SET_3_N_9.json': {'best_way': '[0, 8, 4, 2, 7, 6, 3, 5, 1, 0]', 'full_cost': 4760.835604529663}, 'TSP_CITIES_SET_4_N_9.json': {'best_way': '[0, 8, 2, 1, 6, 7, 5, 3, 4, 0]', 'full_cost': 5873.916755320764}, 'TSP_CITIES_SET_5_N_9.json': {'best_way': '[0, 7, 4, 6, 3, 8, 5, 2, 1, 0]', 'full_cost': 6500.501477520622}, 'TSP_CITIES_SET_6_N_9.json': {'best_way': '[0, 2, 8, 7, 6, 4, 1, 5, 3, 0]', 'full_cost': 5316.4737187617175}, 'TSP_CITIES_SET_7_N_9.json': {'best_way': '[0, 7, 1, 5, 8, 4, 2, 3, 6, 0]', 'full_cost': 5108.346043891201}, 'TSP_CITIES_SET_8_N_9.json': {'best_way': '[0, 2, 8, 4, 7, 5, 1, 6, 9, 3, 0]', 'full_cost': 6201.374164574673}, 'TSP_CITIES_SET_9_N_9.json': {'best_way': '[0, 5, 1, 7, 6, 9, 3, 2, 8, 4, 0]', 'full_cost': 5474.698394199804}, 'TSP_CITIES_SET_10_N_9.json': {'best_way': '[0, 3, 1, 5, 4, 6, 9, 2, 7, 8, 0]', 'full_cost': 6254.3169806483975}, 'TSP_CITIES_SET_0_N_10.json': {'best_way': '[0, 9, 5, 8, 6, 3, 1, 4, 2, 7, 0]', 'full_cost': 4023.854565838736}, 'TSP_CITIES_SET_1_N_10.json': {'best_way': '[0, 1, 2, 7, 4, 6, 8, 9, 5, 3, 0]', 'full_cost': 6590.630643899594}, 'TSP_CITIES_SET_2_N_10.json': {'best_way': '[0, 4, 9, 1, 8, 5, 3, 2, 7, 6, 0]', 'full_cost': 5950.287010879661}, 'TSP_CITIES_SET_3_N_10.json': {'best_way': '[0, 3, 8, 7, 4, 1, 9, 6, 2, 5, 0]', 'full_cost': 6753.379477665861}, 'TSP_CITIES_SET_4_N_10.json': {'best_way': '[0, 2, 4, 7, 1, 6, 8, 5, 3, 9, 0]', 'full_cost': 5594.034889344787}, 'TSP_CITIES_SET_5_N_10.json': {'best_way': '[0, 4, 1, 8, 6, 7, 2, 3, 9, 5, 0]', 'full_cost': 5725.216405723004}, 'TSP_CITIES_SET_6_N_10.json': {'best_way': '[0, 5, 6, 9, 7, 4, 2, 1, 3, 8, 0]', 'full_cost': 5198.418742874467}, 'TSP_CITIES_SET_7_N_10.json': {'best_way': '[0, 2, 4, 7, 9, 6, 8, 1, 5, 3, 0]', 'full_cost': 5288.069874088005}, 'TSP_CITIES_SET_8_N_10.json': {'best_way': '[0, 5, 2, 7, 1, 3, 8, 4, 9, 6, 10, 0]', 'full_cost': 5916.058999826883}, 'TSP_CITIES_SET_9_N_10.json': {'best_way': '[0, 1, 5, 4, 9, 8, 7, 3, 6, 10, 2, 0]', 'full_cost': 5700.361962197288}, 'TSP_CITIES_SET_10_N_10.json': {'best_way': '[0, 5, 10, 6, 2, 8, 9, 1, 4, 3, 7, 0]', 'full_cost': 5730.503982405094}, 'TSP_CITIES_SET_0_N_11.json': {'best_way': '[0, 3, 2, 10, 4, 5, 8, 1, 7, 9, 6, 0]', 'full_cost': 5591.092990849824}, 'TSP_CITIES_SET_1_N_11.json': {'best_way': '[0, 1, 2, 4, 6, 10, 5, 7, 3, 8, 9, 0]', 'full_cost': 6973.303118865509}, 'TSP_CITIES_SET_2_N_11.json': {'best_way': '[0, 6, 9, 5, 8, 10, 2, 3, 4, 7, 1, 0]', 'full_cost': 5174.338849344113}, 'TSP_CITIES_SET_3_N_11.json': {'best_way': '[0, 5, 4, 9, 6, 3, 8, 10, 2, 1, 7, 0]', 'full_cost': 5102.673938740829}, 'TSP_CITIES_SET_4_N_11.json': {'best_way': '[0, 6, 4, 7, 9, 1, 8, 3, 2, 5, 10, 0]', 'full_cost': 4856.701684336604}, 'TSP_CITIES_SET_5_N_11.json': {'best_way': '[0, 1, 2, 7, 4, 6, 3, 8, 5, 10, 9, 0]', 'full_cost': 5935.685805091364}, 'TSP_CITIES_SET_6_N_11.json': {'best_way': '[0, 1, 3, 7, 4, 8, 9, 6, 5, 2, 10, 0]', 'full_cost': 4904.996790990544}, 'TSP_CITIES_SET_7_N_11.json': {'best_way': '[0, 7, 5, 9, 6, 2, 1, 8, 10, 3, 4, 0]', 'full_cost': 5476.732785252771}, 'TSP_CITIES_SET_8_N_11.json': {'best_way': '[0, 9, 10, 2, 4, 11, 5, 3, 7, 6, 1, 8, 0]', 'full_cost': 4899.58165726641}, 'TSP_CITIES_SET_9_N_11.json': {'best_way': '[0, 5, 10, 11, 4, 1, 9, 3, 6, 7, 2, 8, 0]', 'full_cost': 6365.293580122486}, 'TSP_CITIES_SET_10_N_11.json': {'best_way': '[0, 9, 1, 3, 2, 5, 6, 10, 7, 11, 8, 4, 0]', 'full_cost': 5943.061649295884}, 'TSP_CITIES_SET_0_N_12.json': {'best_way': '[0, 6, 3, 11, 2, 10, 9, 4, 5, 7, 1, 8, 0]', 'full_cost': 6638.7016452663465}, 'TSP_CITIES_SET_1_N_12.json': {'best_way': '[0, 4, 3, 9, 6, 10, 5, 2, 8, 11, 1, 7, 0]', 'full_cost': 5078.55050365385}, 'TSP_CITIES_SET_2_N_12.json': {'best_way': '[0, 8, 9, 3, 4, 7, 5, 6, 2, 10, 1, 11, 0]', 'full_cost': 5750.971755530096}, 'TSP_CITIES_SET_3_N_12.json': {'best_way': '[0, 4, 10, 9, 1, 5, 3, 7, 6, 2, 11, 8, 0]', 'full_cost': 5881.1237758752}, 'TSP_CITIES_SET_4_N_12.json': {'best_way': '[0, 1, 5, 10, 3, 9, 11, 2, 6, 8, 4, 7, 0]', 'full_cost': 6644.028324141775}, 'TSP_CITIES_SET_5_N_12.json': {'best_way': '[0, 4, 9, 11, 10, 1, 3, 6, 8, 7, 5, 2, 0]', 'full_cost': 5712.007995276099}, 'TSP_CITIES_SET_6_N_12.json': {'best_way': '[0, 1, 6, 7, 9, 2, 4, 11, 10, 3, 8, 5, 0]', 'full_cost': 6375.666662777836}, 'TSP_CITIES_SET_7_N_12.json': {'best_way': '[0, 3, 7, 10, 4, 9, 5, 11, 6, 2, 1, 8, 0]', 'full_cost': 7082.09526511113}, 'TSP_CITIES_SET_8_N_12.json': {'best_way': '[0, 4, 9, 11, 10, 8, 3, 12, 7, 5, 1, 2, 6, 0]', 'full_cost': 6002.581228412118}, 'TSP_CITIES_SET_9_N_12.json': {'best_way': '[0, 1, 2, 5, 8, 7, 10, 9, 4, 6, 11, 12, 3, 0]', 'full_cost': 5882.1203380256775}, 'TSP_CITIES_SET_10_N_12.json': {'best_way': '[0, 2, 6, 10, 11, 8, 12, 9, 1, 5, 3, 7, 4, 0]', 'full_cost': 5196.105086845433}, 'TSP_CITIES_SET_0_N_13.json': {'best_way': '[0, 4, 12, 11, 6, 9, 3, 8, 5, 2, 7, 1, 10, 0]', 'full_cost': 6146.735498591557}, 'TSP_CITIES_SET_1_N_13.json': {'best_way': '[0, 9, 4, 1, 3, 5, 11, 12, 6, 8, 7, 10, 2, 0]', 'full_cost': 6015.925630928043}, 'TSP_CITIES_SET_2_N_13.json': {'best_way': '[0, 1, 8, 5, 4, 9, 10, 12, 2, 7, 11, 3, 6, 0]', 'full_cost': 5764.087124768491}, 'TSP_CITIES_SET_3_N_13.json': {'best_way': '[0, 12, 6, 5, 1, 9, 8, 4, 11, 10, 3, 7, 2, 0]', 'full_cost': 6573.57215369872}, 'TSP_CITIES_SET_4_N_13.json': {'best_way': '[0, 9, 1, 5, 12, 3, 8, 10, 4, 11, 2, 7, 6, 0]', 'full_cost': 6314.832380688802}, 'TSP_CITIES_SET_5_N_13.json': {'best_way': '[0, 6, 3, 2, 4, 7, 10, 8, 5, 12, 11, 1, 9, 0]', 'full_cost': 5685.713182850901}, 'TSP_CITIES_SET_6_N_13.json': {'best_way': '[0, 2, 11, 10, 12, 9, 5, 6, 8, 4, 1, 7, 3, 0]', 'full_cost': 6941.960306995711}, 'TSP_CITIES_SET_7_N_13.json': {'best_way': '[0, 1, 11, 2, 10, 9, 5, 4, 8, 6, 7, 3, 12, 0]', 'full_cost': 6150.278549094874}, 'TSP_CITIES_SET_8_N_13.json': {'best_way': '[0, 4, 6, 8, 2, 9, 12, 3, 10, 5, 13, 1, 7, 11, 0]', 'full_cost': 6771.598840315535}, 'TSP_CITIES_SET_9_N_13.json': {'best_way': '[0, 11, 5, 10, 3, 13, 12, 6, 2, 8, 9, 4, 7, 1, 0]', 'full_cost': 6198.990613624396}, 'TSP_CITIES_SET_10_N_13.json': {'best_way': '[0, 1, 5, 3, 10, 8, 7, 4, 6, 11, 12, 13, 2, 9, 0]', 'full_cost': 6177.096384358803}, 'TSP_CITIES_SET_0_N_14.json': {'best_way': '[0, 8, 5, 13, 3, 6, 12, 1, 9, 11, 4, 7, 2, 10, 0]', 'full_cost': 6176.560694629907}, 'TSP_CITIES_SET_1_N_14.json': {'best_way': '[0, 9, 7, 3, 10, 1, 4, 6, 8, 12, 5, 13, 2, 11, 0]', 'full_cost': 5568.981297323293}, 'TSP_CITIES_SET_2_N_14.json': {'best_way': '[0, 2, 11, 5, 9, 7, 6, 12, 1, 8, 3, 10, 13, 4, 0]', 'full_cost': 6632.014353912596}, 'TSP_CITIES_SET_3_N_14.json': {'best_way': '[0, 12, 4, 2, 5, 3, 6, 10, 7, 13, 9, 8, 1, 11, 0]', 'full_cost': 6681.393594064317}, 'TSP_CITIES_SET_4_N_14.json': {'best_way': '[0, 4, 10, 13, 6, 7, 3, 9, 2, 1, 12, 11, 5, 8, 0]', 'full_cost': 8050.428217242389}, 'TSP_CITIES_SET_5_N_14.json': {'best_way': '[0, 12, 10, 11, 7, 8, 9, 6, 13, 5, 2, 4, 1, 3, 0]', 'full_cost': 5769.619903789129}, 'TSP_CITIES_SET_6_N_14.json': {'best_way': '[0, 3, 9, 10, 2, 11, 7, 12, 4, 6, 5, 13, 1, 8, 0]', 'full_cost': 6550.124754292721}, 'TSP_CITIES_SET_7_N_14.json': {'best_way': '[0, 5, 1, 13, 7, 11, 3, 10, 4, 2, 12, 9, 8, 6, 0]', 'full_cost': 5807.250357748819}, 'TSP_CITIES_SET_8_N_14.json': {'best_way': '[0, 9, 6, 3, 5, 11, 2, 1, 10, 14, 4, 7, 13, 8, 12, 0]', 'full_cost': 6100.762894854169}, 'TSP_CITIES_SET_9_N_14.json': {'best_way': '[0, 13, 3, 5, 12, 4, 10, 1, 6, 9, 11, 2, 14, 7, 8, 0]', 'full_cost': 6919.007445849029}, 'TSP_CITIES_SET_10_N_14.json': {'best_way': '[0, 13, 12, 8, 11, 10, 4, 5, 9, 3, 14, 2, 6, 1, 7, 0]', 'full_cost': 7242.178095591062}, 'TSP_CITIES_SET_0_N_15.json': {'best_way': '[0, 9, 1, 10, 8, 7, 14, 2, 6, 13, 4, 11, 12, 3, 5, 0]', 'full_cost': 7092.919494876734}, 'TSP_CITIES_SET_1_N_15.json': {'best_way': '[0, 5, 13, 7, 8, 6, 11, 14, 1, 12, 2, 10, 4, 9, 3, 0]', 'full_cost': 7453.858835795643}, 'TSP_CITIES_SET_2_N_15.json': {'best_way': '[0, 2, 3, 9, 5, 13, 14, 4, 12, 10, 8, 7, 1, 6, 11, 0]', 'full_cost': 7726.125685944764}, 'TSP_CITIES_SET_3_N_15.json': {'best_way': '[0, 5, 8, 1, 12, 14, 2, 3, 13, 6, 11, 4, 10, 9, 7, 0]', 'full_cost': 6845.349585024323}, 'TSP_CITIES_SET_4_N_15.json': {'best_way': '[0, 10, 7, 8, 12, 6, 2, 1, 5, 9, 11, 13, 4, 3, 14, 0]', 'full_cost': 6719.707292147676}, 'TSP_CITIES_SET_5_N_15.json': {'best_way': '[0, 12, 5, 7, 14, 3, 1, 4, 6, 13, 9, 2, 11, 8, 10, 0]', 'full_cost': 7489.610452426203}, 'TSP_CITIES_SET_6_N_15.json': {'best_way': '[0, 2, 6, 13, 3, 9, 4, 10, 12, 14, 1, 8, 7, 5, 11, 0]', 'full_cost': 7346.595655575326}, 'TSP_CITIES_SET_7_N_15.json': {'best_way': '[0, 7, 4, 11, 2, 14, 6, 5, 3, 1, 9, 13, 10, 12, 8, 0]', 'full_cost': 6565.543715271096}, 'TSP_CITIES_SET_8_N_15.json': {'best_way': '[0, 2, 1, 0]', 'full_cost': 7181.429076128929}, 'TSP_CITIES_SET_9_N_15.json': {'best_way': '[0, 2, 1, 0]', 'full_cost': 7028.974004704793}, 'TSP_CITIES_SET_10_N_15.json': {'best_way': '[0, 2, 1, 0]', 'full_cost': 7228.866467310055}}\n"
     ]
    }
   ],
   "source": [
    "dictionary_optional_way = dict()\n",
    "for row in subset_for_held_karp_to_dict.iterrows():\n",
    "    data_row = row[1]\n",
    "    name_src_file = data_row[NAME_OF_SRC_FILE]\n",
    "    best_way = data_row[BEST_WAY]\n",
    "    full_cost = data_row[FULL_COST]\n",
    "    dictionary_optional_way[name_src_file] = {\n",
    "        BEST_WAY: best_way,\n",
    "        FULL_COST: full_cost\n",
    "    }\n",
    "\n",
    "print(dictionary_optional_way)"
   ],
   "metadata": {
    "collapsed": false,
    "pycharm": {
     "name": "#%%\n"
    }
   }
  },
  {
   "cell_type": "code",
   "execution_count": 171,
   "outputs": [
    {
     "data": {
      "text/plain": "      Unnamed: 0                   used_read_access_memory_in_bytes  \\\n0              0                                        12266364928   \n1              1                                        12265148416   \n2              2                                        12253212672   \n3              3                                        12329185280   \n4              4                                        14642483200   \n...          ...                                                ...   \n1076        1079  [6927421440, 6927933440, 6903480320, 690369331...   \n1077        1080  [6899040256, 6899855360, 6899163136, 689929420...   \n1078        1081  [6897389568, 6894788608, 6894682112, 689474355...   \n1079        1082  [6863495168, 6864707584, 6864248832, 686521139...   \n1080        1083  [6876319744, 6871994368, 6873092096, 686618214...   \n\n                                     utilization_of_cpu  \\\n0                                                   0.0   \n1                                                   0.0   \n2                                                  17.9   \n3                                                  47.4   \n4                                                   1.8   \n...                                                 ...   \n1076  [12.5, 14.0, 14.3, 12.5, 16.1, 12.5, 18.6, 12....   \n1077  [12.5, 12.5, 12.5, 14.3, 12.7, 19.0, 12.5, 19....   \n1078  [12.5, 12.5, 12.5, 11.1, 12.1, 12.5, 25.0, 12....   \n1079  [12.5, 12.5, 13.2, 12.5, 11.3, 12.5, 16.1, 13....   \n1080  [16.1, 12.5, 25.0, 14.3, 12.5, 12.5, 12.5, 14....   \n\n                  used_read_access_memory_in_percentage  \\\n0                                                  72.2   \n1                                                  72.2   \n2                                                  72.1   \n3                                                  72.5   \n4                                                  86.1   \n...                                                 ...   \n1076  [40.8, 40.8, 40.6, 40.6, 40.6, 40.6, 40.6, 40....   \n1077  [40.6, 40.6, 40.6, 40.6, 40.6, 40.6, 40.6, 40....   \n1078  [40.6, 40.6, 40.6, 40.6, 40.6, 40.6, 40.6, 40....   \n1079  [40.4, 40.4, 40.4, 40.4, 40.4, 40.4, 40.4, 40....   \n1080  [40.5, 40.4, 40.4, 40.4, 40.4, 40.4, 40.4, 40....   \n\n      time_duration_with_cpu_profiler_in_sec             used_algorithm  \\\n0                                   0.000286  astar_heuristic_self_impl   \n1                                   0.000217  astar_heuristic_self_impl   \n2                                   0.000594  astar_heuristic_self_impl   \n3                                   0.000377  astar_heuristic_self_impl   \n4                                   0.000216  astar_heuristic_self_impl   \n...                                      ...                        ...   \n1076                               42.122308  ant_colony_tsp_scikit_opt   \n1077                               42.198239  ant_colony_tsp_scikit_opt   \n1078                               40.814655  ant_colony_tsp_scikit_opt   \n1079                               25.169864  ant_colony_tsp_scikit_opt   \n1080                               41.855176  ant_colony_tsp_scikit_opt   \n\n                name_of_src_file  time_duration_without_malloc_in_sec  \\\n0      TSP_CITIES_SET_0_N_3.json                             0.000116   \n1      TSP_CITIES_SET_1_N_3.json                             0.000109   \n2      TSP_CITIES_SET_2_N_3.json                             0.000164   \n3      TSP_CITIES_SET_3_N_3.json                             0.000123   \n4      TSP_CITIES_SET_4_N_3.json                             0.000104   \n...                          ...                                  ...   \n1076  TSP_CITIES_SET_3_N_15.json                             7.468362   \n1077  TSP_CITIES_SET_4_N_15.json                             7.388255   \n1078  TSP_CITIES_SET_5_N_15.json                             7.532227   \n1079  TSP_CITIES_SET_6_N_15.json                             7.412598   \n1080  TSP_CITIES_SET_7_N_15.json                             7.386202   \n\n        full_cost                                           best_way  \\\n0     1439.632002                                       [0, 2, 1, 0]   \n1     2449.451417                                       [0, 2, 1, 0]   \n2     1992.170127                                       [0, 2, 1, 0]   \n3     2559.880995                                       [0, 1, 2, 0]   \n4     2227.816084                                       [0, 1, 2, 0]   \n...           ...                                                ...   \n1076  6845.349585  [0, 7, 9, 10, 4, 11, 6, 13, 3, 2, 14, 12, 1, 8...   \n1077  6719.707292  [0, 10, 7, 8, 12, 6, 2, 1, 5, 9, 11, 13, 4, 3,...   \n1078  7489.610452  [0, 10, 8, 11, 2, 9, 13, 6, 4, 1, 3, 14, 7, 5,...   \n1079  7346.595656  [0, 11, 5, 2, 6, 13, 3, 9, 4, 10, 12, 14, 1, 8...   \n1080  6565.543715  [0, 7, 4, 11, 2, 14, 6, 5, 3, 1, 9, 13, 10, 12...   \n\n      time_duration_with_malloc_in_sec  \\\n0                             0.000218   \n1                             0.000177   \n2                             0.000181   \n3                             0.000375   \n4                             0.000258   \n...                                ...   \n1076                         14.339844   \n1077                         14.414239   \n1078                         14.594368   \n1079                         14.268730   \n1080                         14.642805   \n\n      used_memory_before_measurement_in_bytes  \\\n0                                           0   \n1                                           0   \n2                                           0   \n3                                           0   \n4                                           0   \n...                                       ...   \n1076                                      464   \n1077                                      464   \n1078                                      464   \n1079                                      464   \n1080                                      464   \n\n      used_memory_peak_before_measurement_in_bytes  \\\n0                                                0   \n1                                                0   \n2                                                0   \n3                                                0   \n4                                                0   \n...                                            ...   \n1076                                          1823   \n1077                                          1823   \n1078                                          1823   \n1079                                          1823   \n1080                                          1823   \n\n      used_memory_after_measurement_in_bytes  \\\n0                                       9088   \n1                                       8800   \n2                                       8800   \n3                                       9088   \n4                                       8800   \n...                                      ...   \n1076                                   64731   \n1077                                   64731   \n1078                                   64731   \n1079                                   64731   \n1080                                   64731   \n\n      used_memory_peak_after_measurement_in_bytes  \\\n0                                            9088   \n1                                            8800   \n2                                            8800   \n3                                            9088   \n4                                            8800   \n...                                           ...   \n1076                                        64731   \n1077                                        64731   \n1078                                        64731   \n1079                                        64731   \n1080                                        64731   \n\n      used_memory_diff_before_after_measurement_in_bytes  \\\n0                                                  9088    \n1                                                  8800    \n2                                                  8800    \n3                                                  9088    \n4                                                  8800    \n...                                                 ...    \n1076                                              64267    \n1077                                              64267    \n1078                                              64267    \n1079                                              64267    \n1080                                              64267    \n\n      used_memory_peak_diff_before_after_measurement_in_bytes  \n0                                                  9088        \n1                                                  8800        \n2                                                  8800        \n3                                                  9088        \n4                                                  8800        \n...                                                 ...        \n1076                                              64267        \n1077                                              64267        \n1078                                              64267        \n1079                                              64267        \n1080                                              64267        \n\n[1081 rows x 17 columns]",
      "text/html": "<div>\n<style scoped>\n    .dataframe tbody tr th:only-of-type {\n        vertical-align: middle;\n    }\n\n    .dataframe tbody tr th {\n        vertical-align: top;\n    }\n\n    .dataframe thead th {\n        text-align: right;\n    }\n</style>\n<table border=\"1\" class=\"dataframe\">\n  <thead>\n    <tr style=\"text-align: right;\">\n      <th></th>\n      <th>Unnamed: 0</th>\n      <th>used_read_access_memory_in_bytes</th>\n      <th>utilization_of_cpu</th>\n      <th>used_read_access_memory_in_percentage</th>\n      <th>time_duration_with_cpu_profiler_in_sec</th>\n      <th>used_algorithm</th>\n      <th>name_of_src_file</th>\n      <th>time_duration_without_malloc_in_sec</th>\n      <th>full_cost</th>\n      <th>best_way</th>\n      <th>time_duration_with_malloc_in_sec</th>\n      <th>used_memory_before_measurement_in_bytes</th>\n      <th>used_memory_peak_before_measurement_in_bytes</th>\n      <th>used_memory_after_measurement_in_bytes</th>\n      <th>used_memory_peak_after_measurement_in_bytes</th>\n      <th>used_memory_diff_before_after_measurement_in_bytes</th>\n      <th>used_memory_peak_diff_before_after_measurement_in_bytes</th>\n    </tr>\n  </thead>\n  <tbody>\n    <tr>\n      <th>0</th>\n      <td>0</td>\n      <td>12266364928</td>\n      <td>0.0</td>\n      <td>72.2</td>\n      <td>0.000286</td>\n      <td>astar_heuristic_self_impl</td>\n      <td>TSP_CITIES_SET_0_N_3.json</td>\n      <td>0.000116</td>\n      <td>1439.632002</td>\n      <td>[0, 2, 1, 0]</td>\n      <td>0.000218</td>\n      <td>0</td>\n      <td>0</td>\n      <td>9088</td>\n      <td>9088</td>\n      <td>9088</td>\n      <td>9088</td>\n    </tr>\n    <tr>\n      <th>1</th>\n      <td>1</td>\n      <td>12265148416</td>\n      <td>0.0</td>\n      <td>72.2</td>\n      <td>0.000217</td>\n      <td>astar_heuristic_self_impl</td>\n      <td>TSP_CITIES_SET_1_N_3.json</td>\n      <td>0.000109</td>\n      <td>2449.451417</td>\n      <td>[0, 2, 1, 0]</td>\n      <td>0.000177</td>\n      <td>0</td>\n      <td>0</td>\n      <td>8800</td>\n      <td>8800</td>\n      <td>8800</td>\n      <td>8800</td>\n    </tr>\n    <tr>\n      <th>2</th>\n      <td>2</td>\n      <td>12253212672</td>\n      <td>17.9</td>\n      <td>72.1</td>\n      <td>0.000594</td>\n      <td>astar_heuristic_self_impl</td>\n      <td>TSP_CITIES_SET_2_N_3.json</td>\n      <td>0.000164</td>\n      <td>1992.170127</td>\n      <td>[0, 2, 1, 0]</td>\n      <td>0.000181</td>\n      <td>0</td>\n      <td>0</td>\n      <td>8800</td>\n      <td>8800</td>\n      <td>8800</td>\n      <td>8800</td>\n    </tr>\n    <tr>\n      <th>3</th>\n      <td>3</td>\n      <td>12329185280</td>\n      <td>47.4</td>\n      <td>72.5</td>\n      <td>0.000377</td>\n      <td>astar_heuristic_self_impl</td>\n      <td>TSP_CITIES_SET_3_N_3.json</td>\n      <td>0.000123</td>\n      <td>2559.880995</td>\n      <td>[0, 1, 2, 0]</td>\n      <td>0.000375</td>\n      <td>0</td>\n      <td>0</td>\n      <td>9088</td>\n      <td>9088</td>\n      <td>9088</td>\n      <td>9088</td>\n    </tr>\n    <tr>\n      <th>4</th>\n      <td>4</td>\n      <td>14642483200</td>\n      <td>1.8</td>\n      <td>86.1</td>\n      <td>0.000216</td>\n      <td>astar_heuristic_self_impl</td>\n      <td>TSP_CITIES_SET_4_N_3.json</td>\n      <td>0.000104</td>\n      <td>2227.816084</td>\n      <td>[0, 1, 2, 0]</td>\n      <td>0.000258</td>\n      <td>0</td>\n      <td>0</td>\n      <td>8800</td>\n      <td>8800</td>\n      <td>8800</td>\n      <td>8800</td>\n    </tr>\n    <tr>\n      <th>...</th>\n      <td>...</td>\n      <td>...</td>\n      <td>...</td>\n      <td>...</td>\n      <td>...</td>\n      <td>...</td>\n      <td>...</td>\n      <td>...</td>\n      <td>...</td>\n      <td>...</td>\n      <td>...</td>\n      <td>...</td>\n      <td>...</td>\n      <td>...</td>\n      <td>...</td>\n      <td>...</td>\n      <td>...</td>\n    </tr>\n    <tr>\n      <th>1076</th>\n      <td>1079</td>\n      <td>[6927421440, 6927933440, 6903480320, 690369331...</td>\n      <td>[12.5, 14.0, 14.3, 12.5, 16.1, 12.5, 18.6, 12....</td>\n      <td>[40.8, 40.8, 40.6, 40.6, 40.6, 40.6, 40.6, 40....</td>\n      <td>42.122308</td>\n      <td>ant_colony_tsp_scikit_opt</td>\n      <td>TSP_CITIES_SET_3_N_15.json</td>\n      <td>7.468362</td>\n      <td>6845.349585</td>\n      <td>[0, 7, 9, 10, 4, 11, 6, 13, 3, 2, 14, 12, 1, 8...</td>\n      <td>14.339844</td>\n      <td>464</td>\n      <td>1823</td>\n      <td>64731</td>\n      <td>64731</td>\n      <td>64267</td>\n      <td>64267</td>\n    </tr>\n    <tr>\n      <th>1077</th>\n      <td>1080</td>\n      <td>[6899040256, 6899855360, 6899163136, 689929420...</td>\n      <td>[12.5, 12.5, 12.5, 14.3, 12.7, 19.0, 12.5, 19....</td>\n      <td>[40.6, 40.6, 40.6, 40.6, 40.6, 40.6, 40.6, 40....</td>\n      <td>42.198239</td>\n      <td>ant_colony_tsp_scikit_opt</td>\n      <td>TSP_CITIES_SET_4_N_15.json</td>\n      <td>7.388255</td>\n      <td>6719.707292</td>\n      <td>[0, 10, 7, 8, 12, 6, 2, 1, 5, 9, 11, 13, 4, 3,...</td>\n      <td>14.414239</td>\n      <td>464</td>\n      <td>1823</td>\n      <td>64731</td>\n      <td>64731</td>\n      <td>64267</td>\n      <td>64267</td>\n    </tr>\n    <tr>\n      <th>1078</th>\n      <td>1081</td>\n      <td>[6897389568, 6894788608, 6894682112, 689474355...</td>\n      <td>[12.5, 12.5, 12.5, 11.1, 12.1, 12.5, 25.0, 12....</td>\n      <td>[40.6, 40.6, 40.6, 40.6, 40.6, 40.6, 40.6, 40....</td>\n      <td>40.814655</td>\n      <td>ant_colony_tsp_scikit_opt</td>\n      <td>TSP_CITIES_SET_5_N_15.json</td>\n      <td>7.532227</td>\n      <td>7489.610452</td>\n      <td>[0, 10, 8, 11, 2, 9, 13, 6, 4, 1, 3, 14, 7, 5,...</td>\n      <td>14.594368</td>\n      <td>464</td>\n      <td>1823</td>\n      <td>64731</td>\n      <td>64731</td>\n      <td>64267</td>\n      <td>64267</td>\n    </tr>\n    <tr>\n      <th>1079</th>\n      <td>1082</td>\n      <td>[6863495168, 6864707584, 6864248832, 686521139...</td>\n      <td>[12.5, 12.5, 13.2, 12.5, 11.3, 12.5, 16.1, 13....</td>\n      <td>[40.4, 40.4, 40.4, 40.4, 40.4, 40.4, 40.4, 40....</td>\n      <td>25.169864</td>\n      <td>ant_colony_tsp_scikit_opt</td>\n      <td>TSP_CITIES_SET_6_N_15.json</td>\n      <td>7.412598</td>\n      <td>7346.595656</td>\n      <td>[0, 11, 5, 2, 6, 13, 3, 9, 4, 10, 12, 14, 1, 8...</td>\n      <td>14.268730</td>\n      <td>464</td>\n      <td>1823</td>\n      <td>64731</td>\n      <td>64731</td>\n      <td>64267</td>\n      <td>64267</td>\n    </tr>\n    <tr>\n      <th>1080</th>\n      <td>1083</td>\n      <td>[6876319744, 6871994368, 6873092096, 686618214...</td>\n      <td>[16.1, 12.5, 25.0, 14.3, 12.5, 12.5, 12.5, 14....</td>\n      <td>[40.5, 40.4, 40.4, 40.4, 40.4, 40.4, 40.4, 40....</td>\n      <td>41.855176</td>\n      <td>ant_colony_tsp_scikit_opt</td>\n      <td>TSP_CITIES_SET_7_N_15.json</td>\n      <td>7.386202</td>\n      <td>6565.543715</td>\n      <td>[0, 7, 4, 11, 2, 14, 6, 5, 3, 1, 9, 13, 10, 12...</td>\n      <td>14.642805</td>\n      <td>464</td>\n      <td>1823</td>\n      <td>64731</td>\n      <td>64731</td>\n      <td>64267</td>\n      <td>64267</td>\n    </tr>\n  </tbody>\n</table>\n<p>1081 rows × 17 columns</p>\n</div>"
     },
     "execution_count": 171,
     "metadata": {},
     "output_type": "execute_result"
    }
   ],
   "source": [
    "df"
   ],
   "metadata": {
    "collapsed": false,
    "pycharm": {
     "name": "#%%\n"
    }
   }
  },
  {
   "cell_type": "code",
   "execution_count": 172,
   "outputs": [],
   "source": [
    "from constants.MeasurementCpuProfiler import *\n",
    "\n",
    "\n",
    "def is_optimal(optimal_path_as_str, actual_path_as_str):\n",
    "    actual_path_as_list = json.loads(actual_path_as_str)\n",
    "    optimal_path_as_list = json.loads(optimal_path_as_str)\n",
    "    reversed_optimal = optimal_path_as_list.copy()\n",
    "    reversed_optimal.reverse()\n",
    "    if actual_path_as_list == optimal_path_as_list or actual_path_as_list == reversed_optimal:\n",
    "        return True\n",
    "    return False\n",
    "\n",
    "def get_distance_error(is_optimal, optimal_cost, actual_cost):\n",
    "    if is_optimal:\n",
    "        return 0.0\n",
    "    else:\n",
    "        return actual_cost - optimal_cost\n",
    "\n",
    "def get_optimal_error_in_percentage(is_optimal, optimal_cost, actual_cost):\n",
    "    if is_optimal:\n",
    "        return 0.0\n",
    "    else:\n",
    "        ulamek = ((actual_cost - optimal_cost)/ optimal_cost)\n",
    "        return_value = (ulamek * 100)\n",
    "        return return_value\n",
    "\n",
    "def count_average_cpu_utilization(utilization_cpu_list_as_str):\n",
    "    utilization_as_list = json.loads(utilization_cpu_list_as_str)\n",
    "    if type(utilization_as_list) is list:\n",
    "        return sum(utilization_as_list) / len(utilization_as_list)\n",
    "    return float(utilization_cpu_list_as_str)\n",
    "\n",
    "def create_column_if_not_exist(name_of_column, value):\n",
    "    if  name_of_column not in df:\n",
    "        df.insert(loc=df.shape[1], column=name_of_column, value=value)\n",
    "\n",
    "IS_BEST_AND_OPTIMAL = 'is_best_and_optimal'\n",
    "DISTANCE_ERROR = 'distance_error'\n",
    "OPTIMAL_ERROR_PERCENTAGE = 'optimal_error_percentage'\n",
    "AVERAGE_CPU_UTILIZATION = \"average_cpu_utilization\"\n",
    "new_columns_with_values= {\n",
    "    IS_BEST_AND_OPTIMAL: False,\n",
    "    DISTANCE_ERROR: 0.0,\n",
    "    OPTIMAL_ERROR_PERCENTAGE: 0.0,\n",
    "    AVERAGE_CPU_UTILIZATION: 0.0\n",
    "}\n",
    "\n",
    "for key_as_name_of_column in new_columns_with_values.keys():\n",
    "    value = new_columns_with_values[key_as_name_of_column]\n",
    "    create_column_if_not_exist(key_as_name_of_column, value)\n",
    "\n",
    "for i, data_row in df.iterrows():\n",
    "    optimal_path = dictionary_optional_way[data_row[NAME_OF_SRC_FILE]][BEST_WAY]\n",
    "    optimal_cost = dictionary_optional_way[data_row[NAME_OF_SRC_FILE]][FULL_COST]\n",
    "    path_to_check = data_row[BEST_WAY]\n",
    "    cost_to_check = data_row[FULL_COST]\n",
    "    cpu_utilization_list = data_row[UTILIZATION_OF_CPU]\n",
    "    is_optimal_val = is_optimal(optimal_path, path_to_check)\n",
    "    distance_error = get_distance_error(is_optimal=is_optimal_val, optimal_cost=optimal_cost, actual_cost=cost_to_check)\n",
    "    optimal_error_percentage = get_optimal_error_in_percentage(is_optimal=is_optimal_val, optimal_cost=optimal_cost, actual_cost=cost_to_check)\n",
    "    avg_cpu_utilization = count_average_cpu_utilization(cpu_utilization_list)\n",
    "    df.at[i,IS_BEST_AND_OPTIMAL] = is_optimal_val\n",
    "    df.at[i,DISTANCE_ERROR] = distance_error\n",
    "    df.at[i,OPTIMAL_ERROR_PERCENTAGE] = optimal_error_percentage\n",
    "    df.at[i,AVERAGE_CPU_UTILIZATION] = avg_cpu_utilization"
   ],
   "metadata": {
    "collapsed": false,
    "pycharm": {
     "name": "#%%\n"
    }
   }
  },
  {
   "cell_type": "code",
   "execution_count": 173,
   "outputs": [
    {
     "data": {
      "text/plain": "      Unnamed: 0                   used_read_access_memory_in_bytes  \\\n0              0                                        12266364928   \n1              1                                        12265148416   \n2              2                                        12253212672   \n3              3                                        12329185280   \n4              4                                        14642483200   \n...          ...                                                ...   \n1076        1079  [6927421440, 6927933440, 6903480320, 690369331...   \n1077        1080  [6899040256, 6899855360, 6899163136, 689929420...   \n1078        1081  [6897389568, 6894788608, 6894682112, 689474355...   \n1079        1082  [6863495168, 6864707584, 6864248832, 686521139...   \n1080        1083  [6876319744, 6871994368, 6873092096, 686618214...   \n\n                                     utilization_of_cpu  \\\n0                                                   0.0   \n1                                                   0.0   \n2                                                  17.9   \n3                                                  47.4   \n4                                                   1.8   \n...                                                 ...   \n1076  [12.5, 14.0, 14.3, 12.5, 16.1, 12.5, 18.6, 12....   \n1077  [12.5, 12.5, 12.5, 14.3, 12.7, 19.0, 12.5, 19....   \n1078  [12.5, 12.5, 12.5, 11.1, 12.1, 12.5, 25.0, 12....   \n1079  [12.5, 12.5, 13.2, 12.5, 11.3, 12.5, 16.1, 13....   \n1080  [16.1, 12.5, 25.0, 14.3, 12.5, 12.5, 12.5, 14....   \n\n                  used_read_access_memory_in_percentage  \\\n0                                                  72.2   \n1                                                  72.2   \n2                                                  72.1   \n3                                                  72.5   \n4                                                  86.1   \n...                                                 ...   \n1076  [40.8, 40.8, 40.6, 40.6, 40.6, 40.6, 40.6, 40....   \n1077  [40.6, 40.6, 40.6, 40.6, 40.6, 40.6, 40.6, 40....   \n1078  [40.6, 40.6, 40.6, 40.6, 40.6, 40.6, 40.6, 40....   \n1079  [40.4, 40.4, 40.4, 40.4, 40.4, 40.4, 40.4, 40....   \n1080  [40.5, 40.4, 40.4, 40.4, 40.4, 40.4, 40.4, 40....   \n\n      time_duration_with_cpu_profiler_in_sec             used_algorithm  \\\n0                                   0.000286  astar_heuristic_self_impl   \n1                                   0.000217  astar_heuristic_self_impl   \n2                                   0.000594  astar_heuristic_self_impl   \n3                                   0.000377  astar_heuristic_self_impl   \n4                                   0.000216  astar_heuristic_self_impl   \n...                                      ...                        ...   \n1076                               42.122308  ant_colony_tsp_scikit_opt   \n1077                               42.198239  ant_colony_tsp_scikit_opt   \n1078                               40.814655  ant_colony_tsp_scikit_opt   \n1079                               25.169864  ant_colony_tsp_scikit_opt   \n1080                               41.855176  ant_colony_tsp_scikit_opt   \n\n                name_of_src_file  time_duration_without_malloc_in_sec  \\\n0      TSP_CITIES_SET_0_N_3.json                             0.000116   \n1      TSP_CITIES_SET_1_N_3.json                             0.000109   \n2      TSP_CITIES_SET_2_N_3.json                             0.000164   \n3      TSP_CITIES_SET_3_N_3.json                             0.000123   \n4      TSP_CITIES_SET_4_N_3.json                             0.000104   \n...                          ...                                  ...   \n1076  TSP_CITIES_SET_3_N_15.json                             7.468362   \n1077  TSP_CITIES_SET_4_N_15.json                             7.388255   \n1078  TSP_CITIES_SET_5_N_15.json                             7.532227   \n1079  TSP_CITIES_SET_6_N_15.json                             7.412598   \n1080  TSP_CITIES_SET_7_N_15.json                             7.386202   \n\n        full_cost                                           best_way  ...  \\\n0     1439.632002                                       [0, 2, 1, 0]  ...   \n1     2449.451417                                       [0, 2, 1, 0]  ...   \n2     1992.170127                                       [0, 2, 1, 0]  ...   \n3     2559.880995                                       [0, 1, 2, 0]  ...   \n4     2227.816084                                       [0, 1, 2, 0]  ...   \n...           ...                                                ...  ...   \n1076  6845.349585  [0, 7, 9, 10, 4, 11, 6, 13, 3, 2, 14, 12, 1, 8...  ...   \n1077  6719.707292  [0, 10, 7, 8, 12, 6, 2, 1, 5, 9, 11, 13, 4, 3,...  ...   \n1078  7489.610452  [0, 10, 8, 11, 2, 9, 13, 6, 4, 1, 3, 14, 7, 5,...  ...   \n1079  7346.595656  [0, 11, 5, 2, 6, 13, 3, 9, 4, 10, 12, 14, 1, 8...  ...   \n1080  6565.543715  [0, 7, 4, 11, 2, 14, 6, 5, 3, 1, 9, 13, 10, 12...  ...   \n\n      used_memory_before_measurement_in_bytes  \\\n0                                           0   \n1                                           0   \n2                                           0   \n3                                           0   \n4                                           0   \n...                                       ...   \n1076                                      464   \n1077                                      464   \n1078                                      464   \n1079                                      464   \n1080                                      464   \n\n      used_memory_peak_before_measurement_in_bytes  \\\n0                                                0   \n1                                                0   \n2                                                0   \n3                                                0   \n4                                                0   \n...                                            ...   \n1076                                          1823   \n1077                                          1823   \n1078                                          1823   \n1079                                          1823   \n1080                                          1823   \n\n      used_memory_after_measurement_in_bytes  \\\n0                                       9088   \n1                                       8800   \n2                                       8800   \n3                                       9088   \n4                                       8800   \n...                                      ...   \n1076                                   64731   \n1077                                   64731   \n1078                                   64731   \n1079                                   64731   \n1080                                   64731   \n\n      used_memory_peak_after_measurement_in_bytes  \\\n0                                            9088   \n1                                            8800   \n2                                            8800   \n3                                            9088   \n4                                            8800   \n...                                           ...   \n1076                                        64731   \n1077                                        64731   \n1078                                        64731   \n1079                                        64731   \n1080                                        64731   \n\n      used_memory_diff_before_after_measurement_in_bytes  \\\n0                                                  9088    \n1                                                  8800    \n2                                                  8800    \n3                                                  9088    \n4                                                  8800    \n...                                                 ...    \n1076                                              64267    \n1077                                              64267    \n1078                                              64267    \n1079                                              64267    \n1080                                              64267    \n\n      used_memory_peak_diff_before_after_measurement_in_bytes  \\\n0                                                  9088         \n1                                                  8800         \n2                                                  8800         \n3                                                  9088         \n4                                                  8800         \n...                                                 ...         \n1076                                              64267         \n1077                                              64267         \n1078                                              64267         \n1079                                              64267         \n1080                                              64267         \n\n      is_best_and_optimal  distance_error  optimal_error_percentage  \\\n0                    True             0.0                       0.0   \n1                    True             0.0                       0.0   \n2                    True             0.0                       0.0   \n3                    True             0.0                       0.0   \n4                    True             0.0                       0.0   \n...                   ...             ...                       ...   \n1076                 True             0.0                       0.0   \n1077                 True             0.0                       0.0   \n1078                 True             0.0                       0.0   \n1079                False             0.0                       0.0   \n1080                 True             0.0                       0.0   \n\n      average_cpu_utilization  \n0                    0.000000  \n1                    0.000000  \n2                   17.900000  \n3                   47.400000  \n4                    1.800000  \n...                       ...  \n1076                14.400000  \n1077                13.489744  \n1078                14.078378  \n1079                13.404348  \n1080                13.926316  \n\n[1081 rows x 21 columns]",
      "text/html": "<div>\n<style scoped>\n    .dataframe tbody tr th:only-of-type {\n        vertical-align: middle;\n    }\n\n    .dataframe tbody tr th {\n        vertical-align: top;\n    }\n\n    .dataframe thead th {\n        text-align: right;\n    }\n</style>\n<table border=\"1\" class=\"dataframe\">\n  <thead>\n    <tr style=\"text-align: right;\">\n      <th></th>\n      <th>Unnamed: 0</th>\n      <th>used_read_access_memory_in_bytes</th>\n      <th>utilization_of_cpu</th>\n      <th>used_read_access_memory_in_percentage</th>\n      <th>time_duration_with_cpu_profiler_in_sec</th>\n      <th>used_algorithm</th>\n      <th>name_of_src_file</th>\n      <th>time_duration_without_malloc_in_sec</th>\n      <th>full_cost</th>\n      <th>best_way</th>\n      <th>...</th>\n      <th>used_memory_before_measurement_in_bytes</th>\n      <th>used_memory_peak_before_measurement_in_bytes</th>\n      <th>used_memory_after_measurement_in_bytes</th>\n      <th>used_memory_peak_after_measurement_in_bytes</th>\n      <th>used_memory_diff_before_after_measurement_in_bytes</th>\n      <th>used_memory_peak_diff_before_after_measurement_in_bytes</th>\n      <th>is_best_and_optimal</th>\n      <th>distance_error</th>\n      <th>optimal_error_percentage</th>\n      <th>average_cpu_utilization</th>\n    </tr>\n  </thead>\n  <tbody>\n    <tr>\n      <th>0</th>\n      <td>0</td>\n      <td>12266364928</td>\n      <td>0.0</td>\n      <td>72.2</td>\n      <td>0.000286</td>\n      <td>astar_heuristic_self_impl</td>\n      <td>TSP_CITIES_SET_0_N_3.json</td>\n      <td>0.000116</td>\n      <td>1439.632002</td>\n      <td>[0, 2, 1, 0]</td>\n      <td>...</td>\n      <td>0</td>\n      <td>0</td>\n      <td>9088</td>\n      <td>9088</td>\n      <td>9088</td>\n      <td>9088</td>\n      <td>True</td>\n      <td>0.0</td>\n      <td>0.0</td>\n      <td>0.000000</td>\n    </tr>\n    <tr>\n      <th>1</th>\n      <td>1</td>\n      <td>12265148416</td>\n      <td>0.0</td>\n      <td>72.2</td>\n      <td>0.000217</td>\n      <td>astar_heuristic_self_impl</td>\n      <td>TSP_CITIES_SET_1_N_3.json</td>\n      <td>0.000109</td>\n      <td>2449.451417</td>\n      <td>[0, 2, 1, 0]</td>\n      <td>...</td>\n      <td>0</td>\n      <td>0</td>\n      <td>8800</td>\n      <td>8800</td>\n      <td>8800</td>\n      <td>8800</td>\n      <td>True</td>\n      <td>0.0</td>\n      <td>0.0</td>\n      <td>0.000000</td>\n    </tr>\n    <tr>\n      <th>2</th>\n      <td>2</td>\n      <td>12253212672</td>\n      <td>17.9</td>\n      <td>72.1</td>\n      <td>0.000594</td>\n      <td>astar_heuristic_self_impl</td>\n      <td>TSP_CITIES_SET_2_N_3.json</td>\n      <td>0.000164</td>\n      <td>1992.170127</td>\n      <td>[0, 2, 1, 0]</td>\n      <td>...</td>\n      <td>0</td>\n      <td>0</td>\n      <td>8800</td>\n      <td>8800</td>\n      <td>8800</td>\n      <td>8800</td>\n      <td>True</td>\n      <td>0.0</td>\n      <td>0.0</td>\n      <td>17.900000</td>\n    </tr>\n    <tr>\n      <th>3</th>\n      <td>3</td>\n      <td>12329185280</td>\n      <td>47.4</td>\n      <td>72.5</td>\n      <td>0.000377</td>\n      <td>astar_heuristic_self_impl</td>\n      <td>TSP_CITIES_SET_3_N_3.json</td>\n      <td>0.000123</td>\n      <td>2559.880995</td>\n      <td>[0, 1, 2, 0]</td>\n      <td>...</td>\n      <td>0</td>\n      <td>0</td>\n      <td>9088</td>\n      <td>9088</td>\n      <td>9088</td>\n      <td>9088</td>\n      <td>True</td>\n      <td>0.0</td>\n      <td>0.0</td>\n      <td>47.400000</td>\n    </tr>\n    <tr>\n      <th>4</th>\n      <td>4</td>\n      <td>14642483200</td>\n      <td>1.8</td>\n      <td>86.1</td>\n      <td>0.000216</td>\n      <td>astar_heuristic_self_impl</td>\n      <td>TSP_CITIES_SET_4_N_3.json</td>\n      <td>0.000104</td>\n      <td>2227.816084</td>\n      <td>[0, 1, 2, 0]</td>\n      <td>...</td>\n      <td>0</td>\n      <td>0</td>\n      <td>8800</td>\n      <td>8800</td>\n      <td>8800</td>\n      <td>8800</td>\n      <td>True</td>\n      <td>0.0</td>\n      <td>0.0</td>\n      <td>1.800000</td>\n    </tr>\n    <tr>\n      <th>...</th>\n      <td>...</td>\n      <td>...</td>\n      <td>...</td>\n      <td>...</td>\n      <td>...</td>\n      <td>...</td>\n      <td>...</td>\n      <td>...</td>\n      <td>...</td>\n      <td>...</td>\n      <td>...</td>\n      <td>...</td>\n      <td>...</td>\n      <td>...</td>\n      <td>...</td>\n      <td>...</td>\n      <td>...</td>\n      <td>...</td>\n      <td>...</td>\n      <td>...</td>\n      <td>...</td>\n    </tr>\n    <tr>\n      <th>1076</th>\n      <td>1079</td>\n      <td>[6927421440, 6927933440, 6903480320, 690369331...</td>\n      <td>[12.5, 14.0, 14.3, 12.5, 16.1, 12.5, 18.6, 12....</td>\n      <td>[40.8, 40.8, 40.6, 40.6, 40.6, 40.6, 40.6, 40....</td>\n      <td>42.122308</td>\n      <td>ant_colony_tsp_scikit_opt</td>\n      <td>TSP_CITIES_SET_3_N_15.json</td>\n      <td>7.468362</td>\n      <td>6845.349585</td>\n      <td>[0, 7, 9, 10, 4, 11, 6, 13, 3, 2, 14, 12, 1, 8...</td>\n      <td>...</td>\n      <td>464</td>\n      <td>1823</td>\n      <td>64731</td>\n      <td>64731</td>\n      <td>64267</td>\n      <td>64267</td>\n      <td>True</td>\n      <td>0.0</td>\n      <td>0.0</td>\n      <td>14.400000</td>\n    </tr>\n    <tr>\n      <th>1077</th>\n      <td>1080</td>\n      <td>[6899040256, 6899855360, 6899163136, 689929420...</td>\n      <td>[12.5, 12.5, 12.5, 14.3, 12.7, 19.0, 12.5, 19....</td>\n      <td>[40.6, 40.6, 40.6, 40.6, 40.6, 40.6, 40.6, 40....</td>\n      <td>42.198239</td>\n      <td>ant_colony_tsp_scikit_opt</td>\n      <td>TSP_CITIES_SET_4_N_15.json</td>\n      <td>7.388255</td>\n      <td>6719.707292</td>\n      <td>[0, 10, 7, 8, 12, 6, 2, 1, 5, 9, 11, 13, 4, 3,...</td>\n      <td>...</td>\n      <td>464</td>\n      <td>1823</td>\n      <td>64731</td>\n      <td>64731</td>\n      <td>64267</td>\n      <td>64267</td>\n      <td>True</td>\n      <td>0.0</td>\n      <td>0.0</td>\n      <td>13.489744</td>\n    </tr>\n    <tr>\n      <th>1078</th>\n      <td>1081</td>\n      <td>[6897389568, 6894788608, 6894682112, 689474355...</td>\n      <td>[12.5, 12.5, 12.5, 11.1, 12.1, 12.5, 25.0, 12....</td>\n      <td>[40.6, 40.6, 40.6, 40.6, 40.6, 40.6, 40.6, 40....</td>\n      <td>40.814655</td>\n      <td>ant_colony_tsp_scikit_opt</td>\n      <td>TSP_CITIES_SET_5_N_15.json</td>\n      <td>7.532227</td>\n      <td>7489.610452</td>\n      <td>[0, 10, 8, 11, 2, 9, 13, 6, 4, 1, 3, 14, 7, 5,...</td>\n      <td>...</td>\n      <td>464</td>\n      <td>1823</td>\n      <td>64731</td>\n      <td>64731</td>\n      <td>64267</td>\n      <td>64267</td>\n      <td>True</td>\n      <td>0.0</td>\n      <td>0.0</td>\n      <td>14.078378</td>\n    </tr>\n    <tr>\n      <th>1079</th>\n      <td>1082</td>\n      <td>[6863495168, 6864707584, 6864248832, 686521139...</td>\n      <td>[12.5, 12.5, 13.2, 12.5, 11.3, 12.5, 16.1, 13....</td>\n      <td>[40.4, 40.4, 40.4, 40.4, 40.4, 40.4, 40.4, 40....</td>\n      <td>25.169864</td>\n      <td>ant_colony_tsp_scikit_opt</td>\n      <td>TSP_CITIES_SET_6_N_15.json</td>\n      <td>7.412598</td>\n      <td>7346.595656</td>\n      <td>[0, 11, 5, 2, 6, 13, 3, 9, 4, 10, 12, 14, 1, 8...</td>\n      <td>...</td>\n      <td>464</td>\n      <td>1823</td>\n      <td>64731</td>\n      <td>64731</td>\n      <td>64267</td>\n      <td>64267</td>\n      <td>False</td>\n      <td>0.0</td>\n      <td>0.0</td>\n      <td>13.404348</td>\n    </tr>\n    <tr>\n      <th>1080</th>\n      <td>1083</td>\n      <td>[6876319744, 6871994368, 6873092096, 686618214...</td>\n      <td>[16.1, 12.5, 25.0, 14.3, 12.5, 12.5, 12.5, 14....</td>\n      <td>[40.5, 40.4, 40.4, 40.4, 40.4, 40.4, 40.4, 40....</td>\n      <td>41.855176</td>\n      <td>ant_colony_tsp_scikit_opt</td>\n      <td>TSP_CITIES_SET_7_N_15.json</td>\n      <td>7.386202</td>\n      <td>6565.543715</td>\n      <td>[0, 7, 4, 11, 2, 14, 6, 5, 3, 1, 9, 13, 10, 12...</td>\n      <td>...</td>\n      <td>464</td>\n      <td>1823</td>\n      <td>64731</td>\n      <td>64731</td>\n      <td>64267</td>\n      <td>64267</td>\n      <td>True</td>\n      <td>0.0</td>\n      <td>0.0</td>\n      <td>13.926316</td>\n    </tr>\n  </tbody>\n</table>\n<p>1081 rows × 21 columns</p>\n</div>"
     },
     "execution_count": 173,
     "metadata": {},
     "output_type": "execute_result"
    }
   ],
   "source": [
    "df"
   ],
   "metadata": {
    "collapsed": false,
    "pycharm": {
     "name": "#%%\n"
    }
   }
  },
  {
   "cell_type": "code",
   "execution_count": 174,
   "outputs": [],
   "source": [
    "path_to_csv = PathBuilder()\\\n",
    "    .add_dir(\"results_tsp\")\\\n",
    "    .add_file_with_extension(\"tsp_results_with_optimal_cost_counting.csv\")\\\n",
    "    .build()\n",
    "df.to_csv(path_to_csv)"
   ],
   "metadata": {
    "collapsed": false,
    "pycharm": {
     "name": "#%%\n"
    }
   }
  },
  {
   "cell_type": "code",
   "execution_count": 159,
   "outputs": [],
   "source": [],
   "metadata": {
    "collapsed": false,
    "pycharm": {
     "name": "#%%\n"
    }
   }
  },
  {
   "cell_type": "code",
   "execution_count": 159,
   "outputs": [],
   "source": [],
   "metadata": {
    "collapsed": false,
    "pycharm": {
     "name": "#%%\n"
    }
   }
  },
  {
   "cell_type": "code",
   "execution_count": 159,
   "outputs": [],
   "source": [],
   "metadata": {
    "collapsed": false,
    "pycharm": {
     "name": "#%%\n"
    }
   }
  },
  {
   "cell_type": "code",
   "execution_count": null,
   "outputs": [],
   "source": [],
   "metadata": {
    "collapsed": false,
    "pycharm": {
     "name": "#%%\n"
    }
   }
  }
 ],
 "metadata": {
  "kernelspec": {
   "name": "pycharm-ac97db8",
   "language": "python",
   "display_name": "PyCharm (TSP_magistery_pl_job)"
  },
  "language_info": {
   "codemirror_mode": {
    "name": "ipython",
    "version": 2
   },
   "file_extension": ".py",
   "mimetype": "text/x-python",
   "name": "python",
   "nbconvert_exporter": "python",
   "pygments_lexer": "ipython2",
   "version": "2.7.6"
  }
 },
 "nbformat": 4,
 "nbformat_minor": 0
}
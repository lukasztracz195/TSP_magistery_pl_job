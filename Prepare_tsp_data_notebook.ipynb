{
 "cells": [
  {
   "cell_type": "markdown",
   "metadata": {
    "collapsed": true,
    "pycharm": {
     "name": "#%% md\n"
    }
   },
   "source": [
    "<h2>Data Notebook odpowiedzialny za </h2>\n",
    "<ul>\n",
    "<li>wzbogacenie danych pomiarowych CSV a o dane dotyczące optymalności uzyskanch rozwiązań\n",
    "<li>utworzenia pliku z rozwiązaniami zawierającymi optymalne rezultaty\n",
    "</ul>"
   ]
  },
  {
   "cell_type": "markdown",
   "source": [
    "<h3>1. Import bibliotek oraz zdefiniowanie stałych</h3>"
   ],
   "metadata": {
    "collapsed": false,
    "pycharm": {
     "name": "#%% md\n"
    }
   }
  },
  {
   "cell_type": "code",
   "execution_count": 12,
   "outputs": [],
   "source": [
    "import pandas as pd\n",
    "import json\n",
    "import numpy as np\n",
    "from builders.PathBuilder import PathBuilder\n",
    "from constants.AlgNamesResults.names import *\n",
    "from constants.MeasurementBasic import *\n",
    "from constants.MeasurementTimeWithOutputData import *\n",
    "NAME_OF_DATASET_DIR = \"dataset\"\n",
    "DISTANCE = 1000\n",
    "PATTERN_TO_DIRECTORY_FROM_DATASET = \"TSP_DIST_%d_N_%d\""
   ],
   "metadata": {
    "collapsed": false,
    "pycharm": {
     "name": "#%%\n"
    }
   }
  },
  {
   "cell_type": "markdown",
   "source": [
    "<h3>2. Wczytanie pliku z danymi pomiarowymi i ich prezentacja</h3>"
   ],
   "metadata": {
    "collapsed": false
   }
  },
  {
   "cell_type": "code",
   "execution_count": 13,
   "outputs": [
    {
     "name": "stdout",
     "output_type": "stream",
     "text": [
      "D:\\STUDIA\\Studia_magisterskie\\SEM_3\\praca_magisterska\\TSP_magistery_pl_job/results_tsp/tsp_results_with_added_metrics.csv\n"
     ]
    },
    {
     "data": {
      "text/plain": "       Unnamed: 0  Unnamed: 0.1  Unnamed: 0.1.1             used_algorithm  \\\n0               0             0               0  astar_heuristic_self_impl   \n1               1             1               1  astar_heuristic_self_impl   \n2               2             2               2  astar_heuristic_self_impl   \n3               3             3               3  astar_heuristic_self_impl   \n4               4             4               4  astar_heuristic_self_impl   \n...           ...           ...             ...                        ...   \n10425       10425         10425           10425  ant_colony_tsp_scikit_opt   \n10426       10426         10426           10426  ant_colony_tsp_scikit_opt   \n10427       10427         10427           10427  ant_colony_tsp_scikit_opt   \n10428       10428         10428           10428  ant_colony_tsp_scikit_opt   \n10429       10429         10429           10429  ant_colony_tsp_scikit_opt   \n\n                  name_of_src_file  number_of_cities  index_of_sample  \\\n0        TSP_CITIES_SET_0_N_4.json                 4                0   \n1        TSP_CITIES_SET_1_N_4.json                 4                1   \n2        TSP_CITIES_SET_2_N_4.json                 4                2   \n3        TSP_CITIES_SET_3_N_4.json                 4                3   \n4        TSP_CITIES_SET_4_N_4.json                 4                4   \n...                            ...               ...              ...   \n10425  TSP_CITIES_SET_95_N_15.json                15               95   \n10426  TSP_CITIES_SET_96_N_15.json                15               96   \n10427  TSP_CITIES_SET_97_N_15.json                15               97   \n10428  TSP_CITIES_SET_98_N_15.json                15               98   \n10429  TSP_CITIES_SET_99_N_15.json                15               99   \n\n                                                best_way    full_cost  \\\n0                                        [0, 3, 2, 1, 0]  1935.208176   \n1                                        [0, 2, 1, 3, 0]  3261.754206   \n2                                        [0, 1, 2, 3, 0]  2684.775933   \n3                                        [0, 3, 2, 1, 0]  2088.938558   \n4                                        [0, 1, 2, 3, 0]  2138.469421   \n...                                                  ...          ...   \n10425  [0, 10, 4, 11, 1, 9, 13, 8, 2, 3, 7, 12, 6, 5,...  5439.078830   \n10426  [0, 4, 5, 3, 12, 7, 14, 11, 6, 1, 10, 8, 2, 9,...  5095.603599   \n10427  [0, 11, 2, 7, 3, 12, 9, 6, 4, 14, 8, 10, 5, 1,...  6095.282460   \n10428  [0, 13, 9, 7, 4, 6, 12, 14, 2, 3, 8, 1, 5, 11,...  5125.827881   \n10429  [0, 6, 13, 14, 11, 12, 10, 5, 8, 9, 2, 4, 7, 3...  6398.755001   \n\n       hamiltonian_cycle_cost  ...  \\\n0                 1935.208176  ...   \n1                 3261.754206  ...   \n2                 2684.775933  ...   \n3                 2088.938558  ...   \n4                 2138.469421  ...   \n...                       ...  ...   \n10425             6321.771302  ...   \n10426             6160.569326  ...   \n10427             7359.134508  ...   \n10428             6072.980455  ...   \n10429             7600.871884  ...   \n\n                                      utilization_of_cpu  \\\n0                                                 [23.7]   \n1                                                 [41.7]   \n2                                                 [20.3]   \n3                                                  [3.6]   \n4                                                 [66.0]   \n...                                                  ...   \n10425  [12.3, 25.0, 14.3, 19.0, 13.9, 12.7, 16.1, 14....   \n10426  [11.7, 16.7, 11.7, 12.5, 12.5, 18.8, 23.4, 14....   \n10427  [12.3, 17.2, 19.0, 12.5, 17.2, 14.3, 12.3, 12....   \n10428  [17.2, 11.5, 20.8, 17.2, 12.5, 14.3, 17.9, 12....   \n10429  [17.9, 12.7, 12.7, 12.5, 17.7, 12.5, 14.1, 11....   \n\n      used_memory_after_measurement_in_bytes  \\\n0                                      11816   \n1                                      11816   \n2                                      12104   \n3                                      12104   \n4                                      10040   \n...                                      ...   \n10425                                  64731   \n10426                                  64731   \n10427                                  64731   \n10428                                  64731   \n10429                                  64731   \n\n       used_memory_peak_after_measurement_in_bytes  is_valid_way  \\\n0                                            11816          True   \n1                                            11816          True   \n2                                            12104          True   \n3                                            12104          True   \n4                                            10040          True   \n...                                            ...           ...   \n10425                                        64731          True   \n10426                                        64731          True   \n10427                                        64731          True   \n10428                                        64731          True   \n10429                                        64731          True   \n\n       is_optimal_cost  is_optimal_way  is_best_and_optimal  distance_error  \\\n0                False            True                 True        0.000000   \n1                False           False                False      411.790002   \n2                False           False                False       11.992011   \n3                 True            True                 True        0.000000   \n4                 True            True                 True        0.000000   \n...                ...             ...                  ...             ...   \n10425            False           False                False      200.835871   \n10426            False           False                False      439.877002   \n10427            False           False                False      392.800915   \n10428            False           False                False      371.459376   \n10429            False           False                False      183.352636   \n\n       optimal_error_percentage  average_cpu_utilization  \n0                      0.000000                23.700000  \n1                     14.448953                41.700000  \n2                      0.448671                20.300000  \n3                      0.000000                 3.600000  \n4                      0.000000                66.000000  \n...                         ...                      ...  \n10425                  3.281130                14.990476  \n10426                  7.689227                13.959459  \n10427                  5.638560                16.825000  \n10428                  6.515093                18.722222  \n10429                  2.471886                17.351351  \n\n[10430 rows x 21 columns]",
      "text/html": "<div>\n<style scoped>\n    .dataframe tbody tr th:only-of-type {\n        vertical-align: middle;\n    }\n\n    .dataframe tbody tr th {\n        vertical-align: top;\n    }\n\n    .dataframe thead th {\n        text-align: right;\n    }\n</style>\n<table border=\"1\" class=\"dataframe\">\n  <thead>\n    <tr style=\"text-align: right;\">\n      <th></th>\n      <th>Unnamed: 0</th>\n      <th>Unnamed: 0.1</th>\n      <th>Unnamed: 0.1.1</th>\n      <th>used_algorithm</th>\n      <th>name_of_src_file</th>\n      <th>number_of_cities</th>\n      <th>index_of_sample</th>\n      <th>best_way</th>\n      <th>full_cost</th>\n      <th>hamiltonian_cycle_cost</th>\n      <th>...</th>\n      <th>utilization_of_cpu</th>\n      <th>used_memory_after_measurement_in_bytes</th>\n      <th>used_memory_peak_after_measurement_in_bytes</th>\n      <th>is_valid_way</th>\n      <th>is_optimal_cost</th>\n      <th>is_optimal_way</th>\n      <th>is_best_and_optimal</th>\n      <th>distance_error</th>\n      <th>optimal_error_percentage</th>\n      <th>average_cpu_utilization</th>\n    </tr>\n  </thead>\n  <tbody>\n    <tr>\n      <th>0</th>\n      <td>0</td>\n      <td>0</td>\n      <td>0</td>\n      <td>astar_heuristic_self_impl</td>\n      <td>TSP_CITIES_SET_0_N_4.json</td>\n      <td>4</td>\n      <td>0</td>\n      <td>[0, 3, 2, 1, 0]</td>\n      <td>1935.208176</td>\n      <td>1935.208176</td>\n      <td>...</td>\n      <td>[23.7]</td>\n      <td>11816</td>\n      <td>11816</td>\n      <td>True</td>\n      <td>False</td>\n      <td>True</td>\n      <td>True</td>\n      <td>0.000000</td>\n      <td>0.000000</td>\n      <td>23.700000</td>\n    </tr>\n    <tr>\n      <th>1</th>\n      <td>1</td>\n      <td>1</td>\n      <td>1</td>\n      <td>astar_heuristic_self_impl</td>\n      <td>TSP_CITIES_SET_1_N_4.json</td>\n      <td>4</td>\n      <td>1</td>\n      <td>[0, 2, 1, 3, 0]</td>\n      <td>3261.754206</td>\n      <td>3261.754206</td>\n      <td>...</td>\n      <td>[41.7]</td>\n      <td>11816</td>\n      <td>11816</td>\n      <td>True</td>\n      <td>False</td>\n      <td>False</td>\n      <td>False</td>\n      <td>411.790002</td>\n      <td>14.448953</td>\n      <td>41.700000</td>\n    </tr>\n    <tr>\n      <th>2</th>\n      <td>2</td>\n      <td>2</td>\n      <td>2</td>\n      <td>astar_heuristic_self_impl</td>\n      <td>TSP_CITIES_SET_2_N_4.json</td>\n      <td>4</td>\n      <td>2</td>\n      <td>[0, 1, 2, 3, 0]</td>\n      <td>2684.775933</td>\n      <td>2684.775933</td>\n      <td>...</td>\n      <td>[20.3]</td>\n      <td>12104</td>\n      <td>12104</td>\n      <td>True</td>\n      <td>False</td>\n      <td>False</td>\n      <td>False</td>\n      <td>11.992011</td>\n      <td>0.448671</td>\n      <td>20.300000</td>\n    </tr>\n    <tr>\n      <th>3</th>\n      <td>3</td>\n      <td>3</td>\n      <td>3</td>\n      <td>astar_heuristic_self_impl</td>\n      <td>TSP_CITIES_SET_3_N_4.json</td>\n      <td>4</td>\n      <td>3</td>\n      <td>[0, 3, 2, 1, 0]</td>\n      <td>2088.938558</td>\n      <td>2088.938558</td>\n      <td>...</td>\n      <td>[3.6]</td>\n      <td>12104</td>\n      <td>12104</td>\n      <td>True</td>\n      <td>True</td>\n      <td>True</td>\n      <td>True</td>\n      <td>0.000000</td>\n      <td>0.000000</td>\n      <td>3.600000</td>\n    </tr>\n    <tr>\n      <th>4</th>\n      <td>4</td>\n      <td>4</td>\n      <td>4</td>\n      <td>astar_heuristic_self_impl</td>\n      <td>TSP_CITIES_SET_4_N_4.json</td>\n      <td>4</td>\n      <td>4</td>\n      <td>[0, 1, 2, 3, 0]</td>\n      <td>2138.469421</td>\n      <td>2138.469421</td>\n      <td>...</td>\n      <td>[66.0]</td>\n      <td>10040</td>\n      <td>10040</td>\n      <td>True</td>\n      <td>True</td>\n      <td>True</td>\n      <td>True</td>\n      <td>0.000000</td>\n      <td>0.000000</td>\n      <td>66.000000</td>\n    </tr>\n    <tr>\n      <th>...</th>\n      <td>...</td>\n      <td>...</td>\n      <td>...</td>\n      <td>...</td>\n      <td>...</td>\n      <td>...</td>\n      <td>...</td>\n      <td>...</td>\n      <td>...</td>\n      <td>...</td>\n      <td>...</td>\n      <td>...</td>\n      <td>...</td>\n      <td>...</td>\n      <td>...</td>\n      <td>...</td>\n      <td>...</td>\n      <td>...</td>\n      <td>...</td>\n      <td>...</td>\n      <td>...</td>\n    </tr>\n    <tr>\n      <th>10425</th>\n      <td>10425</td>\n      <td>10425</td>\n      <td>10425</td>\n      <td>ant_colony_tsp_scikit_opt</td>\n      <td>TSP_CITIES_SET_95_N_15.json</td>\n      <td>15</td>\n      <td>95</td>\n      <td>[0, 10, 4, 11, 1, 9, 13, 8, 2, 3, 7, 12, 6, 5,...</td>\n      <td>5439.078830</td>\n      <td>6321.771302</td>\n      <td>...</td>\n      <td>[12.3, 25.0, 14.3, 19.0, 13.9, 12.7, 16.1, 14....</td>\n      <td>64731</td>\n      <td>64731</td>\n      <td>True</td>\n      <td>False</td>\n      <td>False</td>\n      <td>False</td>\n      <td>200.835871</td>\n      <td>3.281130</td>\n      <td>14.990476</td>\n    </tr>\n    <tr>\n      <th>10426</th>\n      <td>10426</td>\n      <td>10426</td>\n      <td>10426</td>\n      <td>ant_colony_tsp_scikit_opt</td>\n      <td>TSP_CITIES_SET_96_N_15.json</td>\n      <td>15</td>\n      <td>96</td>\n      <td>[0, 4, 5, 3, 12, 7, 14, 11, 6, 1, 10, 8, 2, 9,...</td>\n      <td>5095.603599</td>\n      <td>6160.569326</td>\n      <td>...</td>\n      <td>[11.7, 16.7, 11.7, 12.5, 12.5, 18.8, 23.4, 14....</td>\n      <td>64731</td>\n      <td>64731</td>\n      <td>True</td>\n      <td>False</td>\n      <td>False</td>\n      <td>False</td>\n      <td>439.877002</td>\n      <td>7.689227</td>\n      <td>13.959459</td>\n    </tr>\n    <tr>\n      <th>10427</th>\n      <td>10427</td>\n      <td>10427</td>\n      <td>10427</td>\n      <td>ant_colony_tsp_scikit_opt</td>\n      <td>TSP_CITIES_SET_97_N_15.json</td>\n      <td>15</td>\n      <td>97</td>\n      <td>[0, 11, 2, 7, 3, 12, 9, 6, 4, 14, 8, 10, 5, 1,...</td>\n      <td>6095.282460</td>\n      <td>7359.134508</td>\n      <td>...</td>\n      <td>[12.3, 17.2, 19.0, 12.5, 17.2, 14.3, 12.3, 12....</td>\n      <td>64731</td>\n      <td>64731</td>\n      <td>True</td>\n      <td>False</td>\n      <td>False</td>\n      <td>False</td>\n      <td>392.800915</td>\n      <td>5.638560</td>\n      <td>16.825000</td>\n    </tr>\n    <tr>\n      <th>10428</th>\n      <td>10428</td>\n      <td>10428</td>\n      <td>10428</td>\n      <td>ant_colony_tsp_scikit_opt</td>\n      <td>TSP_CITIES_SET_98_N_15.json</td>\n      <td>15</td>\n      <td>98</td>\n      <td>[0, 13, 9, 7, 4, 6, 12, 14, 2, 3, 8, 1, 5, 11,...</td>\n      <td>5125.827881</td>\n      <td>6072.980455</td>\n      <td>...</td>\n      <td>[17.2, 11.5, 20.8, 17.2, 12.5, 14.3, 17.9, 12....</td>\n      <td>64731</td>\n      <td>64731</td>\n      <td>True</td>\n      <td>False</td>\n      <td>False</td>\n      <td>False</td>\n      <td>371.459376</td>\n      <td>6.515093</td>\n      <td>18.722222</td>\n    </tr>\n    <tr>\n      <th>10429</th>\n      <td>10429</td>\n      <td>10429</td>\n      <td>10429</td>\n      <td>ant_colony_tsp_scikit_opt</td>\n      <td>TSP_CITIES_SET_99_N_15.json</td>\n      <td>15</td>\n      <td>99</td>\n      <td>[0, 6, 13, 14, 11, 12, 10, 5, 8, 9, 2, 4, 7, 3...</td>\n      <td>6398.755001</td>\n      <td>7600.871884</td>\n      <td>...</td>\n      <td>[17.9, 12.7, 12.7, 12.5, 17.7, 12.5, 14.1, 11....</td>\n      <td>64731</td>\n      <td>64731</td>\n      <td>True</td>\n      <td>False</td>\n      <td>False</td>\n      <td>False</td>\n      <td>183.352636</td>\n      <td>2.471886</td>\n      <td>17.351351</td>\n    </tr>\n  </tbody>\n</table>\n<p>10430 rows × 21 columns</p>\n</div>"
     },
     "execution_count": 13,
     "metadata": {},
     "output_type": "execute_result"
    }
   ],
   "source": [
    "path_to_csv = PathBuilder()\\\n",
    "    .add_dir(\"results_tsp\")\\\n",
    "    .add_file_with_extension(\"tsp_results_with_added_metrics.csv\")\\\n",
    "    .build()\n",
    "print(path_to_csv)\n",
    "df = pd.read_csv(path_to_csv)\n",
    "df"
   ],
   "metadata": {
    "collapsed": false,
    "pycharm": {
     "name": "#%%\n"
    }
   }
  },
  {
   "cell_type": "markdown",
   "source": [
    "<h3>3. Wyodrębnienie rozwiązań znalezionych z użyciem brutalnego algorytmu Helda-Karpa</h3>"
   ],
   "metadata": {
    "collapsed": false,
    "pycharm": {
     "name": "#%% md\n"
    }
   }
  },
  {
   "cell_type": "code",
   "execution_count": 14,
   "outputs": [
    {
     "data": {
      "text/plain": "                                         used_algorithm  \\\n4430  dynamic_programing_exact_held_karp_lib_python_tsp   \n4431  dynamic_programing_exact_held_karp_lib_python_tsp   \n4432  dynamic_programing_exact_held_karp_lib_python_tsp   \n4433  dynamic_programing_exact_held_karp_lib_python_tsp   \n4434  dynamic_programing_exact_held_karp_lib_python_tsp   \n...                                                 ...   \n5625  dynamic_programing_exact_held_karp_lib_python_tsp   \n5626  dynamic_programing_exact_held_karp_lib_python_tsp   \n5627  dynamic_programing_exact_held_karp_lib_python_tsp   \n5628  dynamic_programing_exact_held_karp_lib_python_tsp   \n5629  dynamic_programing_exact_held_karp_lib_python_tsp   \n\n                 name_of_src_file    full_cost  hamiltonian_cycle_cost  \\\n4430    TSP_CITIES_SET_0_N_4.json  1935.208176             1935.208176   \n4431    TSP_CITIES_SET_1_N_4.json  2849.964203             2849.964203   \n4432    TSP_CITIES_SET_2_N_4.json  2672.783922             2672.783922   \n4433    TSP_CITIES_SET_3_N_4.json  2088.938558             2088.938558   \n4434    TSP_CITIES_SET_4_N_4.json  2138.469421             2138.469421   \n...                           ...          ...                     ...   \n5625  TSP_CITIES_SET_95_N_15.json  6120.935430             6120.935430   \n5626  TSP_CITIES_SET_96_N_15.json  5720.692325             5720.692325   \n5627  TSP_CITIES_SET_97_N_15.json  6966.333593             6966.333593   \n5628  TSP_CITIES_SET_98_N_15.json  5701.521080             5701.521080   \n5629  TSP_CITIES_SET_99_N_15.json  7417.519248             7417.519248   \n\n                                               best_way  \n4430                                    [0, 1, 2, 3, 0]  \n4431                                    [0, 1, 3, 2, 0]  \n4432                                    [0, 2, 1, 3, 0]  \n4433                                    [0, 1, 2, 3, 0]  \n4434                                    [0, 1, 2, 3, 0]  \n...                                                 ...  \n5625  [0, 5, 6, 14, 11, 1, 9, 13, 8, 2, 3, 7, 12, 10...  \n5626  [0, 4, 8, 2, 9, 13, 10, 1, 11, 6, 14, 7, 12, 3...  \n5627  [0, 14, 8, 10, 5, 1, 13, 2, 7, 3, 12, 9, 6, 4,...  \n5628  [0, 6, 4, 7, 9, 13, 10, 11, 5, 1, 8, 3, 2, 14,...  \n5629  [0, 9, 2, 4, 7, 3, 1, 6, 13, 14, 11, 12, 10, 5...  \n\n[1200 rows x 5 columns]",
      "text/html": "<div>\n<style scoped>\n    .dataframe tbody tr th:only-of-type {\n        vertical-align: middle;\n    }\n\n    .dataframe tbody tr th {\n        vertical-align: top;\n    }\n\n    .dataframe thead th {\n        text-align: right;\n    }\n</style>\n<table border=\"1\" class=\"dataframe\">\n  <thead>\n    <tr style=\"text-align: right;\">\n      <th></th>\n      <th>used_algorithm</th>\n      <th>name_of_src_file</th>\n      <th>full_cost</th>\n      <th>hamiltonian_cycle_cost</th>\n      <th>best_way</th>\n    </tr>\n  </thead>\n  <tbody>\n    <tr>\n      <th>4430</th>\n      <td>dynamic_programing_exact_held_karp_lib_python_tsp</td>\n      <td>TSP_CITIES_SET_0_N_4.json</td>\n      <td>1935.208176</td>\n      <td>1935.208176</td>\n      <td>[0, 1, 2, 3, 0]</td>\n    </tr>\n    <tr>\n      <th>4431</th>\n      <td>dynamic_programing_exact_held_karp_lib_python_tsp</td>\n      <td>TSP_CITIES_SET_1_N_4.json</td>\n      <td>2849.964203</td>\n      <td>2849.964203</td>\n      <td>[0, 1, 3, 2, 0]</td>\n    </tr>\n    <tr>\n      <th>4432</th>\n      <td>dynamic_programing_exact_held_karp_lib_python_tsp</td>\n      <td>TSP_CITIES_SET_2_N_4.json</td>\n      <td>2672.783922</td>\n      <td>2672.783922</td>\n      <td>[0, 2, 1, 3, 0]</td>\n    </tr>\n    <tr>\n      <th>4433</th>\n      <td>dynamic_programing_exact_held_karp_lib_python_tsp</td>\n      <td>TSP_CITIES_SET_3_N_4.json</td>\n      <td>2088.938558</td>\n      <td>2088.938558</td>\n      <td>[0, 1, 2, 3, 0]</td>\n    </tr>\n    <tr>\n      <th>4434</th>\n      <td>dynamic_programing_exact_held_karp_lib_python_tsp</td>\n      <td>TSP_CITIES_SET_4_N_4.json</td>\n      <td>2138.469421</td>\n      <td>2138.469421</td>\n      <td>[0, 1, 2, 3, 0]</td>\n    </tr>\n    <tr>\n      <th>...</th>\n      <td>...</td>\n      <td>...</td>\n      <td>...</td>\n      <td>...</td>\n      <td>...</td>\n    </tr>\n    <tr>\n      <th>5625</th>\n      <td>dynamic_programing_exact_held_karp_lib_python_tsp</td>\n      <td>TSP_CITIES_SET_95_N_15.json</td>\n      <td>6120.935430</td>\n      <td>6120.935430</td>\n      <td>[0, 5, 6, 14, 11, 1, 9, 13, 8, 2, 3, 7, 12, 10...</td>\n    </tr>\n    <tr>\n      <th>5626</th>\n      <td>dynamic_programing_exact_held_karp_lib_python_tsp</td>\n      <td>TSP_CITIES_SET_96_N_15.json</td>\n      <td>5720.692325</td>\n      <td>5720.692325</td>\n      <td>[0, 4, 8, 2, 9, 13, 10, 1, 11, 6, 14, 7, 12, 3...</td>\n    </tr>\n    <tr>\n      <th>5627</th>\n      <td>dynamic_programing_exact_held_karp_lib_python_tsp</td>\n      <td>TSP_CITIES_SET_97_N_15.json</td>\n      <td>6966.333593</td>\n      <td>6966.333593</td>\n      <td>[0, 14, 8, 10, 5, 1, 13, 2, 7, 3, 12, 9, 6, 4,...</td>\n    </tr>\n    <tr>\n      <th>5628</th>\n      <td>dynamic_programing_exact_held_karp_lib_python_tsp</td>\n      <td>TSP_CITIES_SET_98_N_15.json</td>\n      <td>5701.521080</td>\n      <td>5701.521080</td>\n      <td>[0, 6, 4, 7, 9, 13, 10, 11, 5, 1, 8, 3, 2, 14,...</td>\n    </tr>\n    <tr>\n      <th>5629</th>\n      <td>dynamic_programing_exact_held_karp_lib_python_tsp</td>\n      <td>TSP_CITIES_SET_99_N_15.json</td>\n      <td>7417.519248</td>\n      <td>7417.519248</td>\n      <td>[0, 9, 2, 4, 7, 3, 1, 6, 13, 14, 11, 12, 10, 5...</td>\n    </tr>\n  </tbody>\n</table>\n<p>1200 rows × 5 columns</p>\n</div>"
     },
     "execution_count": 14,
     "metadata": {},
     "output_type": "execute_result"
    }
   ],
   "source": [
    "condition = (df[USED_ALGORITHM] == DYNAMIC_PROGRAMING_EXAC_HELD_KARP_LIB_DIR)\n",
    "subset_for_held_karp = df[condition]\n",
    "subset_for_held_karp = subset_for_held_karp[[USED_ALGORITHM, NAME_OF_SRC_FILE,\n",
    "                                             FULL_COST,HAMILTONIAN_CYCLE_COST,\n",
    "                                             BEST_WAY]]\n",
    "subset_for_held_karp"
   ],
   "metadata": {
    "collapsed": false,
    "pycharm": {
     "name": "#%%\n"
    }
   }
  },
  {
   "cell_type": "markdown",
   "source": [
    "<h3>4. Wyeksportowanie do pliku CSV danych obliczonych z użyciem algorytmu Helda-Karpa</h3>"
   ],
   "metadata": {
    "collapsed": false
   }
  },
  {
   "cell_type": "code",
   "execution_count": 15,
   "outputs": [],
   "source": [
    "path_to_csv_with_optimal_results = PathBuilder()\\\n",
    ".add_dir(\"results_tsp\")\\\n",
    ".add_file_with_extension(\"optimal_tsp_results.csv\")\\\n",
    ".build()\n",
    "subset_for_held_karp.to_csv(path_to_csv_with_optimal_results)"
   ],
   "metadata": {
    "collapsed": false,
    "pycharm": {
     "name": "#%%\n"
    }
   }
  },
  {
   "cell_type": "markdown",
   "source": [
    "<h3>5. Utworzenie słownika z optymalnymi rozwiązaniami dla danego pliku źródłowego TSP</h3>"
   ],
   "metadata": {
    "collapsed": false
   }
  },
  {
   "cell_type": "code",
   "execution_count": 16,
   "outputs": [
    {
     "name": "stdout",
     "output_type": "stream",
     "text": [
      "rows in dictionary_optional_way:  1200\n"
     ]
    }
   ],
   "source": [
    "subset_for_held_karp_to_dict = subset_for_held_karp[[NAME_OF_SRC_FILE,\n",
    "                                                     FULL_COST,\n",
    "                                                     HAMILTONIAN_CYCLE_COST,\n",
    "                                                     BEST_WAY]]\n",
    "dictionary_optional_way = dict()\n",
    "for row in subset_for_held_karp_to_dict.iterrows():\n",
    "    data_row = row[1]\n",
    "    name_src_file = data_row[NAME_OF_SRC_FILE]\n",
    "    best_way = data_row[BEST_WAY]\n",
    "    full_cost = data_row[HAMILTONIAN_CYCLE_COST]\n",
    "    dictionary_optional_way[name_src_file] = {\n",
    "        BEST_WAY: best_way,\n",
    "        HAMILTONIAN_CYCLE_COST: full_cost\n",
    "    }\n",
    "print(\"rows in dictionary_optional_way: \", len(dictionary_optional_way.keys()))"
   ],
   "metadata": {
    "collapsed": false,
    "pycharm": {
     "name": "#%%\n"
    }
   }
  },
  {
   "cell_type": "markdown",
   "source": [
    "<h3>6. Wzbogacenie danych pomiarowych o dane dotyczące optymalności i ich prezentacja</h3>"
   ],
   "metadata": {
    "collapsed": false,
    "pycharm": {
     "name": "#%% md\n"
    }
   }
  },
  {
   "cell_type": "code",
   "execution_count": 17,
   "outputs": [
    {
     "data": {
      "text/plain": "       Unnamed: 0  Unnamed: 0.1  Unnamed: 0.1.1             used_algorithm  \\\n0               0             0               0  astar_heuristic_self_impl   \n1               1             1               1  astar_heuristic_self_impl   \n2               2             2               2  astar_heuristic_self_impl   \n3               3             3               3  astar_heuristic_self_impl   \n4               4             4               4  astar_heuristic_self_impl   \n...           ...           ...             ...                        ...   \n10425       10425         10425           10425  ant_colony_tsp_scikit_opt   \n10426       10426         10426           10426  ant_colony_tsp_scikit_opt   \n10427       10427         10427           10427  ant_colony_tsp_scikit_opt   \n10428       10428         10428           10428  ant_colony_tsp_scikit_opt   \n10429       10429         10429           10429  ant_colony_tsp_scikit_opt   \n\n                  name_of_src_file  number_of_cities  index_of_sample  \\\n0        TSP_CITIES_SET_0_N_4.json                 4                0   \n1        TSP_CITIES_SET_1_N_4.json                 4                1   \n2        TSP_CITIES_SET_2_N_4.json                 4                2   \n3        TSP_CITIES_SET_3_N_4.json                 4                3   \n4        TSP_CITIES_SET_4_N_4.json                 4                4   \n...                            ...               ...              ...   \n10425  TSP_CITIES_SET_95_N_15.json                15               95   \n10426  TSP_CITIES_SET_96_N_15.json                15               96   \n10427  TSP_CITIES_SET_97_N_15.json                15               97   \n10428  TSP_CITIES_SET_98_N_15.json                15               98   \n10429  TSP_CITIES_SET_99_N_15.json                15               99   \n\n                                                best_way    full_cost  \\\n0                                        [0, 3, 2, 1, 0]  1935.208176   \n1                                        [0, 2, 1, 3, 0]  3261.754206   \n2                                        [0, 1, 2, 3, 0]  2684.775933   \n3                                        [0, 3, 2, 1, 0]  2088.938558   \n4                                        [0, 1, 2, 3, 0]  2138.469421   \n...                                                  ...          ...   \n10425  [0, 10, 4, 11, 1, 9, 13, 8, 2, 3, 7, 12, 6, 5,...  5439.078830   \n10426  [0, 4, 5, 3, 12, 7, 14, 11, 6, 1, 10, 8, 2, 9,...  5095.603599   \n10427  [0, 11, 2, 7, 3, 12, 9, 6, 4, 14, 8, 10, 5, 1,...  6095.282460   \n10428  [0, 13, 9, 7, 4, 6, 12, 14, 2, 3, 8, 1, 5, 11,...  5125.827881   \n10429  [0, 6, 13, 14, 11, 12, 10, 5, 8, 9, 2, 4, 7, 3...  6398.755001   \n\n       hamiltonian_cycle_cost  ...  \\\n0                 1935.208176  ...   \n1                 3261.754206  ...   \n2                 2684.775933  ...   \n3                 2088.938558  ...   \n4                 2138.469421  ...   \n...                       ...  ...   \n10425             6321.771302  ...   \n10426             6160.569326  ...   \n10427             7359.134508  ...   \n10428             6072.980455  ...   \n10429             7600.871884  ...   \n\n                                      utilization_of_cpu  \\\n0                                                 [23.7]   \n1                                                 [41.7]   \n2                                                 [20.3]   \n3                                                  [3.6]   \n4                                                 [66.0]   \n...                                                  ...   \n10425  [12.3, 25.0, 14.3, 19.0, 13.9, 12.7, 16.1, 14....   \n10426  [11.7, 16.7, 11.7, 12.5, 12.5, 18.8, 23.4, 14....   \n10427  [12.3, 17.2, 19.0, 12.5, 17.2, 14.3, 12.3, 12....   \n10428  [17.2, 11.5, 20.8, 17.2, 12.5, 14.3, 17.9, 12....   \n10429  [17.9, 12.7, 12.7, 12.5, 17.7, 12.5, 14.1, 11....   \n\n      used_memory_after_measurement_in_bytes  \\\n0                                      11816   \n1                                      11816   \n2                                      12104   \n3                                      12104   \n4                                      10040   \n...                                      ...   \n10425                                  64731   \n10426                                  64731   \n10427                                  64731   \n10428                                  64731   \n10429                                  64731   \n\n       used_memory_peak_after_measurement_in_bytes  is_valid_way  \\\n0                                            11816          True   \n1                                            11816          True   \n2                                            12104          True   \n3                                            12104          True   \n4                                            10040          True   \n...                                            ...           ...   \n10425                                        64731          True   \n10426                                        64731          True   \n10427                                        64731          True   \n10428                                        64731          True   \n10429                                        64731          True   \n\n       is_optimal_cost  is_optimal_way  is_best_and_optimal  distance_error  \\\n0                False            True                 True        0.000000   \n1                False           False                False      411.790002   \n2                False           False                False       11.992011   \n3                 True            True                 True        0.000000   \n4                 True            True                 True        0.000000   \n...                ...             ...                  ...             ...   \n10425            False           False                False      200.835871   \n10426            False           False                False      439.877002   \n10427            False           False                False      392.800915   \n10428            False           False                False      371.459376   \n10429            False           False                False      183.352636   \n\n       optimal_error_percentage  average_cpu_utilization  \n0                      0.000000                23.700000  \n1                     14.448953                41.700000  \n2                      0.448671                20.300000  \n3                      0.000000                 3.600000  \n4                      0.000000                66.000000  \n...                         ...                      ...  \n10425                  3.281130                14.990476  \n10426                  7.689227                13.959459  \n10427                  5.638560                16.825000  \n10428                  6.515093                18.722222  \n10429                  2.471886                17.351351  \n\n[10430 rows x 21 columns]",
      "text/html": "<div>\n<style scoped>\n    .dataframe tbody tr th:only-of-type {\n        vertical-align: middle;\n    }\n\n    .dataframe tbody tr th {\n        vertical-align: top;\n    }\n\n    .dataframe thead th {\n        text-align: right;\n    }\n</style>\n<table border=\"1\" class=\"dataframe\">\n  <thead>\n    <tr style=\"text-align: right;\">\n      <th></th>\n      <th>Unnamed: 0</th>\n      <th>Unnamed: 0.1</th>\n      <th>Unnamed: 0.1.1</th>\n      <th>used_algorithm</th>\n      <th>name_of_src_file</th>\n      <th>number_of_cities</th>\n      <th>index_of_sample</th>\n      <th>best_way</th>\n      <th>full_cost</th>\n      <th>hamiltonian_cycle_cost</th>\n      <th>...</th>\n      <th>utilization_of_cpu</th>\n      <th>used_memory_after_measurement_in_bytes</th>\n      <th>used_memory_peak_after_measurement_in_bytes</th>\n      <th>is_valid_way</th>\n      <th>is_optimal_cost</th>\n      <th>is_optimal_way</th>\n      <th>is_best_and_optimal</th>\n      <th>distance_error</th>\n      <th>optimal_error_percentage</th>\n      <th>average_cpu_utilization</th>\n    </tr>\n  </thead>\n  <tbody>\n    <tr>\n      <th>0</th>\n      <td>0</td>\n      <td>0</td>\n      <td>0</td>\n      <td>astar_heuristic_self_impl</td>\n      <td>TSP_CITIES_SET_0_N_4.json</td>\n      <td>4</td>\n      <td>0</td>\n      <td>[0, 3, 2, 1, 0]</td>\n      <td>1935.208176</td>\n      <td>1935.208176</td>\n      <td>...</td>\n      <td>[23.7]</td>\n      <td>11816</td>\n      <td>11816</td>\n      <td>True</td>\n      <td>False</td>\n      <td>True</td>\n      <td>True</td>\n      <td>0.000000</td>\n      <td>0.000000</td>\n      <td>23.700000</td>\n    </tr>\n    <tr>\n      <th>1</th>\n      <td>1</td>\n      <td>1</td>\n      <td>1</td>\n      <td>astar_heuristic_self_impl</td>\n      <td>TSP_CITIES_SET_1_N_4.json</td>\n      <td>4</td>\n      <td>1</td>\n      <td>[0, 2, 1, 3, 0]</td>\n      <td>3261.754206</td>\n      <td>3261.754206</td>\n      <td>...</td>\n      <td>[41.7]</td>\n      <td>11816</td>\n      <td>11816</td>\n      <td>True</td>\n      <td>False</td>\n      <td>False</td>\n      <td>False</td>\n      <td>411.790002</td>\n      <td>14.448953</td>\n      <td>41.700000</td>\n    </tr>\n    <tr>\n      <th>2</th>\n      <td>2</td>\n      <td>2</td>\n      <td>2</td>\n      <td>astar_heuristic_self_impl</td>\n      <td>TSP_CITIES_SET_2_N_4.json</td>\n      <td>4</td>\n      <td>2</td>\n      <td>[0, 1, 2, 3, 0]</td>\n      <td>2684.775933</td>\n      <td>2684.775933</td>\n      <td>...</td>\n      <td>[20.3]</td>\n      <td>12104</td>\n      <td>12104</td>\n      <td>True</td>\n      <td>False</td>\n      <td>False</td>\n      <td>False</td>\n      <td>11.992011</td>\n      <td>0.448671</td>\n      <td>20.300000</td>\n    </tr>\n    <tr>\n      <th>3</th>\n      <td>3</td>\n      <td>3</td>\n      <td>3</td>\n      <td>astar_heuristic_self_impl</td>\n      <td>TSP_CITIES_SET_3_N_4.json</td>\n      <td>4</td>\n      <td>3</td>\n      <td>[0, 3, 2, 1, 0]</td>\n      <td>2088.938558</td>\n      <td>2088.938558</td>\n      <td>...</td>\n      <td>[3.6]</td>\n      <td>12104</td>\n      <td>12104</td>\n      <td>True</td>\n      <td>True</td>\n      <td>True</td>\n      <td>True</td>\n      <td>0.000000</td>\n      <td>0.000000</td>\n      <td>3.600000</td>\n    </tr>\n    <tr>\n      <th>4</th>\n      <td>4</td>\n      <td>4</td>\n      <td>4</td>\n      <td>astar_heuristic_self_impl</td>\n      <td>TSP_CITIES_SET_4_N_4.json</td>\n      <td>4</td>\n      <td>4</td>\n      <td>[0, 1, 2, 3, 0]</td>\n      <td>2138.469421</td>\n      <td>2138.469421</td>\n      <td>...</td>\n      <td>[66.0]</td>\n      <td>10040</td>\n      <td>10040</td>\n      <td>True</td>\n      <td>True</td>\n      <td>True</td>\n      <td>True</td>\n      <td>0.000000</td>\n      <td>0.000000</td>\n      <td>66.000000</td>\n    </tr>\n    <tr>\n      <th>...</th>\n      <td>...</td>\n      <td>...</td>\n      <td>...</td>\n      <td>...</td>\n      <td>...</td>\n      <td>...</td>\n      <td>...</td>\n      <td>...</td>\n      <td>...</td>\n      <td>...</td>\n      <td>...</td>\n      <td>...</td>\n      <td>...</td>\n      <td>...</td>\n      <td>...</td>\n      <td>...</td>\n      <td>...</td>\n      <td>...</td>\n      <td>...</td>\n      <td>...</td>\n      <td>...</td>\n    </tr>\n    <tr>\n      <th>10425</th>\n      <td>10425</td>\n      <td>10425</td>\n      <td>10425</td>\n      <td>ant_colony_tsp_scikit_opt</td>\n      <td>TSP_CITIES_SET_95_N_15.json</td>\n      <td>15</td>\n      <td>95</td>\n      <td>[0, 10, 4, 11, 1, 9, 13, 8, 2, 3, 7, 12, 6, 5,...</td>\n      <td>5439.078830</td>\n      <td>6321.771302</td>\n      <td>...</td>\n      <td>[12.3, 25.0, 14.3, 19.0, 13.9, 12.7, 16.1, 14....</td>\n      <td>64731</td>\n      <td>64731</td>\n      <td>True</td>\n      <td>False</td>\n      <td>False</td>\n      <td>False</td>\n      <td>200.835871</td>\n      <td>3.281130</td>\n      <td>14.990476</td>\n    </tr>\n    <tr>\n      <th>10426</th>\n      <td>10426</td>\n      <td>10426</td>\n      <td>10426</td>\n      <td>ant_colony_tsp_scikit_opt</td>\n      <td>TSP_CITIES_SET_96_N_15.json</td>\n      <td>15</td>\n      <td>96</td>\n      <td>[0, 4, 5, 3, 12, 7, 14, 11, 6, 1, 10, 8, 2, 9,...</td>\n      <td>5095.603599</td>\n      <td>6160.569326</td>\n      <td>...</td>\n      <td>[11.7, 16.7, 11.7, 12.5, 12.5, 18.8, 23.4, 14....</td>\n      <td>64731</td>\n      <td>64731</td>\n      <td>True</td>\n      <td>False</td>\n      <td>False</td>\n      <td>False</td>\n      <td>439.877002</td>\n      <td>7.689227</td>\n      <td>13.959459</td>\n    </tr>\n    <tr>\n      <th>10427</th>\n      <td>10427</td>\n      <td>10427</td>\n      <td>10427</td>\n      <td>ant_colony_tsp_scikit_opt</td>\n      <td>TSP_CITIES_SET_97_N_15.json</td>\n      <td>15</td>\n      <td>97</td>\n      <td>[0, 11, 2, 7, 3, 12, 9, 6, 4, 14, 8, 10, 5, 1,...</td>\n      <td>6095.282460</td>\n      <td>7359.134508</td>\n      <td>...</td>\n      <td>[12.3, 17.2, 19.0, 12.5, 17.2, 14.3, 12.3, 12....</td>\n      <td>64731</td>\n      <td>64731</td>\n      <td>True</td>\n      <td>False</td>\n      <td>False</td>\n      <td>False</td>\n      <td>392.800915</td>\n      <td>5.638560</td>\n      <td>16.825000</td>\n    </tr>\n    <tr>\n      <th>10428</th>\n      <td>10428</td>\n      <td>10428</td>\n      <td>10428</td>\n      <td>ant_colony_tsp_scikit_opt</td>\n      <td>TSP_CITIES_SET_98_N_15.json</td>\n      <td>15</td>\n      <td>98</td>\n      <td>[0, 13, 9, 7, 4, 6, 12, 14, 2, 3, 8, 1, 5, 11,...</td>\n      <td>5125.827881</td>\n      <td>6072.980455</td>\n      <td>...</td>\n      <td>[17.2, 11.5, 20.8, 17.2, 12.5, 14.3, 17.9, 12....</td>\n      <td>64731</td>\n      <td>64731</td>\n      <td>True</td>\n      <td>False</td>\n      <td>False</td>\n      <td>False</td>\n      <td>371.459376</td>\n      <td>6.515093</td>\n      <td>18.722222</td>\n    </tr>\n    <tr>\n      <th>10429</th>\n      <td>10429</td>\n      <td>10429</td>\n      <td>10429</td>\n      <td>ant_colony_tsp_scikit_opt</td>\n      <td>TSP_CITIES_SET_99_N_15.json</td>\n      <td>15</td>\n      <td>99</td>\n      <td>[0, 6, 13, 14, 11, 12, 10, 5, 8, 9, 2, 4, 7, 3...</td>\n      <td>6398.755001</td>\n      <td>7600.871884</td>\n      <td>...</td>\n      <td>[17.9, 12.7, 12.7, 12.5, 17.7, 12.5, 14.1, 11....</td>\n      <td>64731</td>\n      <td>64731</td>\n      <td>True</td>\n      <td>False</td>\n      <td>False</td>\n      <td>False</td>\n      <td>183.352636</td>\n      <td>2.471886</td>\n      <td>17.351351</td>\n    </tr>\n  </tbody>\n</table>\n<p>10430 rows × 21 columns</p>\n</div>"
     },
     "execution_count": 17,
     "metadata": {},
     "output_type": "execute_result"
    }
   ],
   "source": [
    "from constants.MeasurementCpuProfiler import *\n",
    "import re\n",
    "\n",
    "def get_number_of_city_from_src_name(src_tsp_file):\n",
    "    numbers = [int(s) for s in re.findall(r'\\d+', src_tsp_file)]\n",
    "    return numbers[1]\n",
    "\n",
    "\n",
    "def check_valid_way(actual_path_as_str, number_of_cities):\n",
    "    actual_path_as_list = json.loads(actual_path_as_str)\n",
    "    first_node = actual_path_as_list[0]\n",
    "    end_node = actual_path_as_list[len(actual_path_as_list)-1]\n",
    "    start_and_end_is_the_same = first_node == end_node\n",
    "    return start_and_end_is_the_same and len(actual_path_as_list) == int(number_of_cities + 1)\n",
    "\n",
    "def check_optimal_way(optimal_path_as_str, actual_path_as_str):\n",
    "    actual_path_as_list = json.loads(actual_path_as_str)\n",
    "    optimal_path_as_list = json.loads(optimal_path_as_str)\n",
    "    reversed_optimal = optimal_path_as_list.copy()\n",
    "    reversed_optimal.reverse()\n",
    "    return actual_path_as_list == optimal_path_as_list or actual_path_as_list == reversed_optimal\n",
    "\n",
    "def check_optimal(is_optimal_way, is_optimal_cost):\n",
    "    return is_optimal_way\n",
    "\n",
    "def check_optimal_cost(optimal_cost, actual_cost):\n",
    "    return actual_cost == optimal_cost\n",
    "\n",
    "def get_distance_error(is_optimal, optimal_cost, actual_cost):\n",
    "    if is_optimal:\n",
    "        return 0.0\n",
    "    return actual_cost - optimal_cost\n",
    "\n",
    "def get_optimal_error_in_percentage(is_optimal, optimal_cost, actual_cost):\n",
    "    if is_optimal:\n",
    "      return 0.0\n",
    "    ulamek = ((actual_cost - optimal_cost)/ optimal_cost)\n",
    "    return_value = (ulamek * 100)\n",
    "    return return_value\n",
    "\n",
    "def count_average_cpu_utilization(utilization_cpu_list_as_str):\n",
    "    utilization_as_list = json.loads(utilization_cpu_list_as_str)\n",
    "    if type(utilization_as_list) is list:\n",
    "        return sum(utilization_as_list) / len(utilization_as_list)\n",
    "    return float(utilization_cpu_list_as_str)\n",
    "\n",
    "def create_column_if_not_exist(name_of_column, value):\n",
    "    if  name_of_column not in df:\n",
    "        df.insert(loc=df.shape[1], column=name_of_column, value=value)\n",
    "\n",
    "IS_VALID_WAY = \"is_valid_way\"\n",
    "IS_OPTIMAL_COST = 'is_optimal_cost'\n",
    "IS_OPTIMAL_WAY = 'is_optimal_way'\n",
    "IS_BEST_AND_OPTIMAL = 'is_best_and_optimal'\n",
    "COST_COUNTED_BY_WAY = 'cost_counted_by_way'\n",
    "DISTANCE_ERROR = 'distance_error'\n",
    "OPTIMAL_ERROR_PERCENTAGE = 'optimal_error_percentage'\n",
    "AVERAGE_CPU_UTILIZATION = \"average_cpu_utilization\"\n",
    "new_columns_with_values= {\n",
    "    IS_VALID_WAY: False,\n",
    "    IS_OPTIMAL_COST: False,\n",
    "    IS_OPTIMAL_WAY: False,\n",
    "    IS_BEST_AND_OPTIMAL: False,\n",
    "    # COST_COUNTED_BY_WAY: 0.0,\n",
    "    DISTANCE_ERROR: 0.0,\n",
    "    OPTIMAL_ERROR_PERCENTAGE: 0.0,\n",
    "    AVERAGE_CPU_UTILIZATION: 0.0\n",
    "}\n",
    "\n",
    "for key_as_name_of_column in new_columns_with_values.keys():\n",
    "    value = new_columns_with_values[key_as_name_of_column]\n",
    "    create_column_if_not_exist(key_as_name_of_column, value)\n",
    "\n",
    "for i, data_row in df.iterrows():\n",
    "    optimal_path = dictionary_optional_way[data_row[NAME_OF_SRC_FILE]][BEST_WAY]\n",
    "    optimal_cost = dictionary_optional_way[data_row[NAME_OF_SRC_FILE]][HAMILTONIAN_CYCLE_COST]\n",
    "    path_to_check = data_row[BEST_WAY]\n",
    "    cost_to_check = data_row[HAMILTONIAN_CYCLE_COST]\n",
    "    src_file_name = data_row[NAME_OF_SRC_FILE]\n",
    "    cpu_utilization_list = data_row[UTILIZATION_OF_CPU]\n",
    "    number_of_cities = get_number_of_city_from_src_name(src_file_name)\n",
    "    is_valid_way = check_valid_way(path_to_check, number_of_cities)\n",
    "    is_optimal_way = check_optimal_way(optimal_path, path_to_check)\n",
    "    is_optimal_cost = check_optimal_cost(optimal_cost, cost_to_check)\n",
    "    is_optimal_solution = check_optimal(is_optimal_way, is_optimal_cost)\n",
    "    # counted_cost_from_way = count_cost_by_way(path_to_check, src_file_name)\n",
    "    distance_error = get_distance_error(is_optimal=is_optimal_way, optimal_cost=optimal_cost, actual_cost=cost_to_check)\n",
    "    optimal_error_percentage = get_optimal_error_in_percentage(is_optimal=is_optimal_way, optimal_cost=optimal_cost, actual_cost=cost_to_check)\n",
    "    avg_cpu_utilization = count_average_cpu_utilization(cpu_utilization_list)\n",
    "    df.at[i, IS_VALID_WAY] = is_valid_way\n",
    "    df.at[i, IS_OPTIMAL_COST] = is_optimal_cost\n",
    "    df.at[i, IS_OPTIMAL_WAY] = is_optimal_way\n",
    "    df.at[i,IS_BEST_AND_OPTIMAL] = is_optimal_solution\n",
    "    # df.at[i,COST_COUNTED_BY_WAY] = counted_cost_from_way\n",
    "    df.at[i,DISTANCE_ERROR] = distance_error\n",
    "    df.at[i,OPTIMAL_ERROR_PERCENTAGE] = optimal_error_percentage\n",
    "    df.at[i,AVERAGE_CPU_UTILIZATION] = avg_cpu_utilization\n",
    "\n",
    "df"
   ],
   "metadata": {
    "collapsed": false,
    "pycharm": {
     "name": "#%%\n"
    }
   }
  },
  {
   "cell_type": "markdown",
   "source": [
    "<h3>6. Wyekspotowanie do pliku danych wzbogaconych o metryki</h3>"
   ],
   "metadata": {
    "collapsed": false,
    "pycharm": {
     "name": "#%% md\n"
    }
   }
  },
  {
   "cell_type": "code",
   "source": [
    "path_to_csv = PathBuilder()\\\n",
    "    .add_dir(\"results_tsp\")\\\n",
    "    .add_file_with_extension(\"tsp_results_with_added_metrics.csv\")\\\n",
    "    .build()\n",
    "df.to_csv(path_to_csv)\n",
    "\n",
    "\n"
   ],
   "metadata": {
    "collapsed": false,
    "pycharm": {
     "name": "#%%\n"
    }
   },
   "execution_count": 18,
   "outputs": []
  },
  {
   "cell_type": "code",
   "execution_count": null,
   "outputs": [],
   "source": [],
   "metadata": {
    "collapsed": false,
    "pycharm": {
     "name": "#%%\n"
    }
   }
  }
 ],
 "metadata": {
  "kernelspec": {
   "name": "pycharm-ac97db8",
   "language": "python",
   "display_name": "PyCharm (TSP_magistery_pl_job)"
  },
  "language_info": {
   "codemirror_mode": {
    "name": "ipython",
    "version": 2
   },
   "file_extension": ".py",
   "mimetype": "text/x-python",
   "name": "python",
   "nbconvert_exporter": "python",
   "pygments_lexer": "ipython2",
   "version": "2.7.6"
  }
 },
 "nbformat": 4,
 "nbformat_minor": 0
}
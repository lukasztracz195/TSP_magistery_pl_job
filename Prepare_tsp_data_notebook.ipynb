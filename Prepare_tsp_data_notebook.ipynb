{
 "cells": [
  {
   "cell_type": "code",
   "execution_count": 188,
   "metadata": {
    "collapsed": true
   },
   "outputs": [],
   "source": [
    "### Import bibliotek</h2>"
   ]
  },
  {
   "cell_type": "code",
   "execution_count": 189,
   "outputs": [],
   "source": [
    "import pandas as pd\n",
    "import json\n",
    "import numpy as np\n",
    "from builders.PathBuilder import PathBuilder\n",
    "from constants.AlgNamesResults.names import *\n",
    "from constants.MeasurementBasic import *\n",
    "from constants.MeasurementTimeWithOutputData import *\n",
    "NAME_OF_DATASET_DIR = \"dataset\"\n",
    "DISTANCE = 1000\n",
    "PATTERN_TO_DIRECTORY_FROM_DATASET = \"TSP_DIST_%d_N_%d\""
   ],
   "metadata": {
    "collapsed": false,
    "pycharm": {
     "name": "#%%\n"
    }
   }
  },
  {
   "cell_type": "code",
   "execution_count": 190,
   "outputs": [
    {
     "name": "stdout",
     "output_type": "stream",
     "text": [
      "D:\\STUDIA\\Studia_magisterskie\\SEM_3\\praca_magisterska\\TSP_magistery_pl_job/results_tsp/raw_tsp_results.csv\n"
     ]
    }
   ],
   "source": [
    "\n",
    "\n",
    "\n",
    "path_to_csv = PathBuilder()\\\n",
    "    .add_dir(\"results_tsp\")\\\n",
    "    .add_file_with_extension(\"raw_tsp_results.csv\")\\\n",
    "    .build()\n",
    "print(path_to_csv)\n",
    "df = pd.read_csv(path_to_csv)"
   ],
   "metadata": {
    "collapsed": false,
    "pycharm": {
     "name": "#%%\n"
    }
   }
  },
  {
   "cell_type": "code",
   "execution_count": 191,
   "outputs": [
    {
     "data": {
      "text/plain": "Unnamed: 0                                                 0\nused_read_access_memory_in_bytes                           0\nutilization_of_cpu                                         0\nused_read_access_memory_in_percentage                      0\ntime_duration_with_cpu_profiler_in_sec                     0\nused_algorithm                                             0\nname_of_src_file                                           0\ntime_duration_without_malloc_in_sec                        0\nfull_cost                                                  0\nbest_way                                                   3\ntime_duration_with_malloc_in_sec                           0\nused_memory_before_measurement_in_bytes                    0\nused_memory_peak_before_measurement_in_bytes               0\nused_memory_after_measurement_in_bytes                     0\nused_memory_peak_after_measurement_in_bytes                0\nused_memory_diff_before_after_measurement_in_bytes         0\nused_memory_peak_diff_before_after_measurement_in_bytes    0\ndtype: int64"
     },
     "execution_count": 191,
     "metadata": {},
     "output_type": "execute_result"
    }
   ],
   "source": [
    "df.isnull().sum()"
   ],
   "metadata": {
    "collapsed": false,
    "pycharm": {
     "name": "#%%\n"
    }
   }
  },
  {
   "cell_type": "code",
   "execution_count": 192,
   "outputs": [],
   "source": [
    "df.dropna(inplace=True)"
   ],
   "metadata": {
    "collapsed": false,
    "pycharm": {
     "name": "#%%\n"
    }
   }
  },
  {
   "cell_type": "code",
   "execution_count": 193,
   "outputs": [
    {
     "data": {
      "text/plain": "Unnamed: 0                                                 0\nused_read_access_memory_in_bytes                           0\nutilization_of_cpu                                         0\nused_read_access_memory_in_percentage                      0\ntime_duration_with_cpu_profiler_in_sec                     0\nused_algorithm                                             0\nname_of_src_file                                           0\ntime_duration_without_malloc_in_sec                        0\nfull_cost                                                  0\nbest_way                                                   0\ntime_duration_with_malloc_in_sec                           0\nused_memory_before_measurement_in_bytes                    0\nused_memory_peak_before_measurement_in_bytes               0\nused_memory_after_measurement_in_bytes                     0\nused_memory_peak_after_measurement_in_bytes                0\nused_memory_diff_before_after_measurement_in_bytes         0\nused_memory_peak_diff_before_after_measurement_in_bytes    0\ndtype: int64"
     },
     "execution_count": 193,
     "metadata": {},
     "output_type": "execute_result"
    }
   ],
   "source": [
    "df.isnull().sum()"
   ],
   "metadata": {
    "collapsed": false,
    "pycharm": {
     "name": "#%%\n"
    }
   }
  },
  {
   "cell_type": "code",
   "execution_count": 194,
   "outputs": [],
   "source": [
    "\n",
    "\n",
    "\n",
    "\n",
    "condition = (df[USED_ALGORITHM] == DYNAMIC_PROGRAMING_EXAC_HELD_KARP_LIB_DIR)\n",
    "subset_for_held_karp = df[condition]\n",
    "subset_for_held_karp = subset_for_held_karp[[USED_ALGORITHM, NAME_OF_SRC_FILE,\n",
    "                                             FULL_COST,\n",
    "                                             BEST_WAY]]\n",
    "path_to_csv_with_optimal_results = PathBuilder()\\\n",
    ".add_dir(\"results_tsp\")\\\n",
    ".add_file_with_extension(\"optimal_tsp_results.csv\")\\\n",
    ".build()\n",
    "subset_for_held_karp.to_csv(path_to_csv_with_optimal_results)"
   ],
   "metadata": {
    "collapsed": false,
    "pycharm": {
     "name": "#%%\n"
    }
   }
  },
  {
   "cell_type": "code",
   "execution_count": 195,
   "outputs": [],
   "source": [
    "subset_for_held_karp_to_dict = subset_for_held_karp[[NAME_OF_SRC_FILE,\n",
    "                                                     FULL_COST,\n",
    "                                                     BEST_WAY]]\n",
    "dictionary_optional_way = dict()\n",
    "for row in subset_for_held_karp_to_dict.iterrows():\n",
    "    data_row = row[1]\n",
    "    name_src_file = data_row[NAME_OF_SRC_FILE]\n",
    "    best_way = data_row[BEST_WAY]\n",
    "    full_cost = data_row[FULL_COST]\n",
    "    dictionary_optional_way[name_src_file] = {\n",
    "        BEST_WAY: best_way,\n",
    "        FULL_COST: full_cost\n",
    "    }\n"
   ],
   "metadata": {
    "collapsed": false,
    "pycharm": {
     "name": "#%%\n"
    }
   }
  },
  {
   "cell_type": "code",
   "execution_count": 196,
   "outputs": [
    {
     "ename": "KeyError",
     "evalue": "'TSP_CITIES_SET_0_N_4.json'",
     "output_type": "error",
     "traceback": [
      "\u001B[1;31m---------------------------------------------------------------------------\u001B[0m",
      "\u001B[1;31mKeyError\u001B[0m                                  Traceback (most recent call last)",
      "\u001B[1;32m~\\AppData\\Local\\Temp/ipykernel_15984/1494319633.py\u001B[0m in \u001B[0;36m<module>\u001B[1;34m\u001B[0m\n\u001B[0;32m    177\u001B[0m \u001B[1;33m\u001B[0m\u001B[0m\n\u001B[0;32m    178\u001B[0m \u001B[1;32mfor\u001B[0m \u001B[0mi\u001B[0m\u001B[1;33m,\u001B[0m \u001B[0mdata_row\u001B[0m \u001B[1;32min\u001B[0m \u001B[0mdf\u001B[0m\u001B[1;33m.\u001B[0m\u001B[0miterrows\u001B[0m\u001B[1;33m(\u001B[0m\u001B[1;33m)\u001B[0m\u001B[1;33m:\u001B[0m\u001B[1;33m\u001B[0m\u001B[1;33m\u001B[0m\u001B[0m\n\u001B[1;32m--> 179\u001B[1;33m     \u001B[0moptimal_path\u001B[0m \u001B[1;33m=\u001B[0m \u001B[0mdictionary_optional_way\u001B[0m\u001B[1;33m[\u001B[0m\u001B[0mdata_row\u001B[0m\u001B[1;33m[\u001B[0m\u001B[0mNAME_OF_SRC_FILE\u001B[0m\u001B[1;33m]\u001B[0m\u001B[1;33m]\u001B[0m\u001B[1;33m[\u001B[0m\u001B[0mBEST_WAY\u001B[0m\u001B[1;33m]\u001B[0m\u001B[1;33m\u001B[0m\u001B[1;33m\u001B[0m\u001B[0m\n\u001B[0m\u001B[0;32m    180\u001B[0m     \u001B[0moptimal_cost\u001B[0m \u001B[1;33m=\u001B[0m \u001B[0mdictionary_optional_way\u001B[0m\u001B[1;33m[\u001B[0m\u001B[0mdata_row\u001B[0m\u001B[1;33m[\u001B[0m\u001B[0mNAME_OF_SRC_FILE\u001B[0m\u001B[1;33m]\u001B[0m\u001B[1;33m]\u001B[0m\u001B[1;33m[\u001B[0m\u001B[0mFULL_COST\u001B[0m\u001B[1;33m]\u001B[0m\u001B[1;33m\u001B[0m\u001B[1;33m\u001B[0m\u001B[0m\n\u001B[0;32m    181\u001B[0m     \u001B[0mpath_to_check\u001B[0m \u001B[1;33m=\u001B[0m \u001B[0mdata_row\u001B[0m\u001B[1;33m[\u001B[0m\u001B[0mBEST_WAY\u001B[0m\u001B[1;33m]\u001B[0m\u001B[1;33m\u001B[0m\u001B[1;33m\u001B[0m\u001B[0m\n",
      "\u001B[1;31mKeyError\u001B[0m: 'TSP_CITIES_SET_0_N_4.json'"
     ]
    }
   ],
   "source": [
    "# from constants.InputCityDataJson import *\n",
    "# from models.City import City\n",
    "#\n",
    "#\n",
    "# class TspInputData:\n",
    "#     list_of_cities = None\n",
    "#\n",
    "#     def __init__(self, tsp_data_json):\n",
    "#         self.tsp_data_json = tsp_data_json\n",
    "#         self.selected_city_on_start = self.tsp_data_json[CITIES][0][NUMBER_OF_CITY]\n",
    "#         self.list_of_cities = self.__init_list_of_cities()\n",
    "#         self.cost_matrix = self.__prepare_cost_matrix()\n",
    "#         self.number_of_cities = len(self.tsp_data_json[CITIES])\n",
    "#         self.list_of_cities = self.__init_list_of_cities()\n",
    "#         self.graph = self.__prepare_graph()\n",
    "#         self.dist_list = self.__prepare_distance_list()\n",
    "#         self.coord_list = self.__prepare_coords_list()\n",
    "#\n",
    "#     def cal_total_distance(self, routine):\n",
    "#         way_as_list = routine.tolist()\n",
    "#         sum_value = 0.0\n",
    "#         number_of_cities = len(way_as_list)\n",
    "#         src_index = 0\n",
    "#         dest_index = 1\n",
    "#         while dest_index < number_of_cities - 1:\n",
    "#             dest_index = src_index + 1\n",
    "#             src_city = way_as_list[src_index]\n",
    "#             dest_city = way_as_list[dest_index]\n",
    "#             try:\n",
    "#                 distance = self.get_distance(src_city, dest_city)\n",
    "#             except IndexError:\n",
    "#                 print(\"src_city: \", src_city)\n",
    "#                 print(\"dest_city: \", dest_city)\n",
    "#                 distance = 0\n",
    "#             sum_value += distance\n",
    "#             src_index += 1\n",
    "#         return sum_value\n",
    "#\n",
    "#     def __init_list_of_cities(self):\n",
    "#         if self.list_of_cities is not None and len(self.list_of_cities) > 0:\n",
    "#             return self.list_of_cities\n",
    "#         list_of_city = list()\n",
    "#         for city_dict in self.tsp_data_json[CITIES]:\n",
    "#             city = City(number_of_city=city_dict[NUMBER_OF_CITY], x=city_dict[X], y=city_dict[Y])\n",
    "#             list_of_city.append(city)\n",
    "#         return list_of_city\n",
    "#\n",
    "#     def __prepare_cost_matrix(self):\n",
    "#         list_of_cities = self.__init_list_of_cities()\n",
    "#         number_of_cities = len(self.tsp_data_json[CITIES])\n",
    "#         matrix = np.zeros((number_of_cities, number_of_cities))\n",
    "#         for city_1 in list_of_cities:\n",
    "#             for city_2 in list_of_cities:\n",
    "#                 distance = City.count_distance(city_1, city_2)\n",
    "#                 matrix[city_1.number_of_city][city_2.number_of_city] = distance\n",
    "#         return matrix\n",
    "#\n",
    "#     def get_distance(self, index_of_city_1, index_of_city_2):\n",
    "#             return self.cost_matrix[index_of_city_1][index_of_city_2]\n",
    "#\n",
    "#     def __prepare_graph(self):\n",
    "#         list_of_cities = self.__init_list_of_cities()\n",
    "#         graph = dict()\n",
    "#         for city in list_of_cities:\n",
    "#             graph[city.number_of_city] = dict()\n",
    "#         for city_1 in list_of_cities:\n",
    "#             for city_2 in list_of_cities:\n",
    "#                 distance = City.count_distance(city_1, city_2)\n",
    "#                 if distance > 0:\n",
    "#                     graph[city_1.number_of_city][city_2.number_of_city] = distance\n",
    "#         return graph\n",
    "#\n",
    "#     def __prepare_distance_list(self):\n",
    "#         list_of_cities = self.__init_list_of_cities()\n",
    "#         dist_list = []\n",
    "#         for city_1 in list_of_cities:\n",
    "#             for city_2 in list_of_cities:\n",
    "#                 distance = City.count_distance(city_1, city_2)\n",
    "#                 if distance > 0:\n",
    "#                     tuple_item = (city_1.number_of_city, city_2.number_of_city, distance)\n",
    "#                     dist_list.append(tuple_item)\n",
    "#         return dist_list\n",
    "#\n",
    "#     def __prepare_coords_list(self):\n",
    "#         list_of_cities = self.__init_list_of_cities()\n",
    "#         coord_list = []\n",
    "#         for city in list_of_cities:\n",
    "#             tuple_item = (city.x, city.y)\n",
    "#             coord_list.append(tuple_item)\n",
    "#         return coord_list\n",
    "\n",
    "from data_reader import JsonTspReader\n",
    "from constants.MeasurementCpuProfiler import *\n",
    "import re\n",
    "\n",
    "def get_number_of_city_from_src_name(src_tsp_file):\n",
    "    numbers = [int(s) for s in re.findall(r'\\d+', src_tsp_file)]\n",
    "    return numbers[1]\n",
    "\n",
    "\n",
    "def check_valid_way(actual_path_as_str, number_of_cities):\n",
    "    actual_path_as_list = json.loads(actual_path_as_str)\n",
    "    first_node = actual_path_as_list[0]\n",
    "    end_node = actual_path_as_list[len(actual_path_as_list)-1]\n",
    "    start_and_end_is_the_same = first_node == end_node\n",
    "    return start_and_end_is_the_same and len(actual_path_as_list) == int(number_of_cities + 1)\n",
    "\n",
    "\n",
    "# def count_cost_by_way(actual_path_as_str, src_tsp_file):\n",
    "#     actual_path_as_list = json.loads(actual_path_as_str)\n",
    "#     numbers = [int(s) for s in re.findall(r'\\d+', src_tsp_file)]\n",
    "#     number_of_cities = numbers[1]\n",
    "#     name_of_dir_with_samples = PATTERN_TO_DIRECTORY_FROM_DATASET % (DISTANCE, number_of_cities)\n",
    "#     path_to_sample = PathBuilder() \\\n",
    "#         .add_dir(NAME_OF_DATASET_DIR) \\\n",
    "#         .add_dir(name_of_dir_with_samples) \\\n",
    "#         .add_file_with_extension(src_tsp_file) \\\n",
    "#         .build()\n",
    "#     json_data = JsonTspReader.read_json_from_path(path_to_sample)\n",
    "#     tsp_input_data = TspInputData(json_data)\n",
    "#     array_way = np.array(actual_path_as_list)\n",
    "#     return tsp_input_data.cal_total_distance(array_way)\n",
    "\n",
    "def check_optimal_way(optimal_path_as_str, actual_path_as_str):\n",
    "    actual_path_as_list = json.loads(actual_path_as_str)\n",
    "    optimal_path_as_list = json.loads(optimal_path_as_str)\n",
    "    reversed_optimal = optimal_path_as_list.copy()\n",
    "    reversed_optimal.reverse()\n",
    "    return actual_path_as_list == optimal_path_as_list or actual_path_as_list == reversed_optimal\n",
    "\n",
    "def check_optimal(is_optimal_way, is_optimal_cost):\n",
    "    return is_optimal_way and is_optimal_cost\n",
    "\n",
    "def check_optimal_cost(optimal_cost, actual_cost):\n",
    "    return actual_cost == optimal_cost\n",
    "\n",
    "def get_distance_error(optimal_cost, actual_cost):\n",
    "        return actual_cost - optimal_cost\n",
    "\n",
    "def get_optimal_error_in_percentage(optimal_cost, actual_cost):\n",
    "    ulamek = ((actual_cost - optimal_cost)/ optimal_cost)\n",
    "    return_value = (ulamek * 100)\n",
    "    return return_value\n",
    "\n",
    "def count_average_cpu_utilization(utilization_cpu_list_as_str):\n",
    "    utilization_as_list = json.loads(utilization_cpu_list_as_str)\n",
    "    if type(utilization_as_list) is list:\n",
    "        return sum(utilization_as_list) / len(utilization_as_list)\n",
    "    return float(utilization_cpu_list_as_str)\n",
    "\n",
    "def create_column_if_not_exist(name_of_column, value):\n",
    "    if  name_of_column not in df:\n",
    "        df.insert(loc=df.shape[1], column=name_of_column, value=value)\n",
    "\n",
    "IS_VALID_WAY = \"is_valid_way\"\n",
    "IS_OPTIMAL_COST = 'is_optimal_cost'\n",
    "IS_OPTIMAL_WAY = 'is_optimal_way'\n",
    "IS_BEST_AND_OPTIMAL = 'is_best_and_optimal'\n",
    "COST_COUNTED_BY_WAY = 'cost_counted_by_way'\n",
    "DISTANCE_ERROR = 'distance_error'\n",
    "OPTIMAL_ERROR_PERCENTAGE = 'optimal_error_percentage'\n",
    "AVERAGE_CPU_UTILIZATION = \"average_cpu_utilization\"\n",
    "new_columns_with_values= {\n",
    "    IS_VALID_WAY: False,\n",
    "    IS_OPTIMAL_COST: False,\n",
    "    IS_OPTIMAL_WAY: False,\n",
    "    IS_BEST_AND_OPTIMAL: False,\n",
    "    # COST_COUNTED_BY_WAY: 0.0,\n",
    "    DISTANCE_ERROR: 0.0,\n",
    "    OPTIMAL_ERROR_PERCENTAGE: 0.0,\n",
    "    AVERAGE_CPU_UTILIZATION: 0.0\n",
    "}\n",
    "\n",
    "for key_as_name_of_column in new_columns_with_values.keys():\n",
    "    value = new_columns_with_values[key_as_name_of_column]\n",
    "    create_column_if_not_exist(key_as_name_of_column, value)\n",
    "\n",
    "for i, data_row in df.iterrows():\n",
    "    optimal_path = dictionary_optional_way[data_row[NAME_OF_SRC_FILE]][BEST_WAY]\n",
    "    optimal_cost = dictionary_optional_way[data_row[NAME_OF_SRC_FILE]][FULL_COST]\n",
    "    path_to_check = data_row[BEST_WAY]\n",
    "    cost_to_check = data_row[FULL_COST]\n",
    "    src_file_name = data_row[NAME_OF_SRC_FILE]\n",
    "    cpu_utilization_list = data_row[UTILIZATION_OF_CPU]\n",
    "    number_of_cities = get_number_of_city_from_src_name(src_file_name)\n",
    "    is_valid_way = check_valid_way(path_to_check, number_of_cities)\n",
    "    is_optimal_way = check_optimal_way(optimal_path, path_to_check)\n",
    "    is_optimal_cost = check_optimal_cost(optimal_cost, cost_to_check)\n",
    "    is_optimal_solution = check_optimal(is_optimal_way, is_optimal_cost)\n",
    "    # counted_cost_from_way = count_cost_by_way(path_to_check, src_file_name)\n",
    "    distance_error = get_distance_error(optimal_cost=optimal_cost, actual_cost=cost_to_check)\n",
    "    optimal_error_percentage = get_optimal_error_in_percentage(optimal_cost=optimal_cost, actual_cost=cost_to_check)\n",
    "    avg_cpu_utilization = count_average_cpu_utilization(cpu_utilization_list)\n",
    "    df.at[i, IS_VALID_WAY] = is_valid_way\n",
    "    df.at[i, IS_OPTIMAL_COST] = is_optimal_cost\n",
    "    df.at[i, IS_OPTIMAL_WAY] = is_optimal_way\n",
    "    df.at[i,IS_BEST_AND_OPTIMAL] = is_optimal_solution\n",
    "    # df.at[i,COST_COUNTED_BY_WAY] = counted_cost_from_way\n",
    "    df.at[i,DISTANCE_ERROR] = distance_error\n",
    "    df.at[i,OPTIMAL_ERROR_PERCENTAGE] = optimal_error_percentage\n",
    "    df.at[i,AVERAGE_CPU_UTILIZATION] = avg_cpu_utilization\n"
   ],
   "metadata": {
    "collapsed": false,
    "pycharm": {
     "name": "#%%\n"
    }
   }
  },
  {
   "cell_type": "code",
   "execution_count": 197,
   "outputs": [],
   "source": [
    "path_to_csv = PathBuilder()\\\n",
    "    .add_dir(\"results_tsp\")\\\n",
    "    .add_file_with_extension(\"tsp_results_with_optimal_cost_counting.csv\")\\\n",
    "    .build()\n",
    "df.to_csv(path_to_csv)"
   ],
   "metadata": {
    "collapsed": false,
    "pycharm": {
     "name": "#%%\n"
    }
   }
  },
  {
   "cell_type": "code",
   "execution_count": 198,
   "outputs": [
    {
     "data": {
      "text/plain": "False    97\nName: is_valid_way, dtype: int64"
     },
     "execution_count": 198,
     "metadata": {},
     "output_type": "execute_result"
    }
   ],
   "source": [
    "df[IS_VALID_WAY].value_counts()"
   ],
   "metadata": {
    "collapsed": false,
    "pycharm": {
     "name": "#%%\n"
    }
   }
  },
  {
   "cell_type": "code",
   "execution_count": 199,
   "outputs": [
    {
     "data": {
      "text/plain": "brute_force_lib_python_tsp    97\nName: used_algorithm, dtype: int64"
     },
     "execution_count": 199,
     "metadata": {},
     "output_type": "execute_result"
    }
   ],
   "source": [
    "condition = (df[IS_VALID_WAY] == False)\n",
    "subset= df[condition]\n",
    "subset[USED_ALGORITHM].value_counts()\n"
   ],
   "metadata": {
    "collapsed": false,
    "pycharm": {
     "name": "#%%\n"
    }
   }
  },
  {
   "cell_type": "code",
   "execution_count": 200,
   "outputs": [],
   "source": [
    "subset_for_brute_force = subset[(subset[USED_ALGORITHM] == BRUTAL_FORCE_LIB_PYTHON_TSP_DIR)]\n",
    "subset_for_ant_colony = subset[(subset[USED_ALGORITHM] == ANT_COLONY_TSP_SCIKIT_OPT_DIR)]\n",
    "subset_for_pso = subset[(subset[USED_ALGORITHM] == PARTICLE_SWARM_OPT_TSP_DIR)]\n",
    "subset_for_genetic_scikit_opt = subset[(subset[USED_ALGORITHM] == GENETIC_ALGORITHM_HEURISTIC_LIB_SCIKIT_OPT_DIR)]\n",
    "subset_for_held_karp = subset[(subset[USED_ALGORITHM] == DYNAMIC_PROGRAMING_EXAC_HELD_KARP_LIB_DIR)]\n",
    "subset_for_genetic_mlrose = subset[(subset[USED_ALGORITHM] == GENETIC_ALGORITHM_HEURISTIC_LIB_MLROSE_DIR)]"
   ],
   "metadata": {
    "collapsed": false,
    "pycharm": {
     "name": "#%%\n"
    }
   }
  },
  {
   "cell_type": "code",
   "execution_count": 201,
   "outputs": [
    {
     "data": {
      "text/plain": "    Unnamed: 0                   used_read_access_memory_in_bytes  \\\n0            0                                        11920646144   \n1            1                                        11942338560   \n2            2                                        11950133248   \n3            3                                        11954675712   \n4            4                                        11964362752   \n..         ...                                                ...   \n92          95  [10503348224, 10502090752, 10502074368, 105020...   \n93          96  [10540695552, 10539208704, 10539253760, 105471...   \n94          97  [10613751808, 10611290112, 10609831936, 106100...   \n95          98  [10833117184, 10833166336, 10809298944, 108121...   \n96          99  [10651512832, 10647179264, 10647179264, 106471...   \n\n                                   utilization_of_cpu  \\\n0                                                 0.0   \n1                                                15.4   \n2                                                 0.0   \n3                                                 0.0   \n4                                                 0.0   \n..                                                ...   \n92  [24.1, 23.0, 28.6, 32.5, 17.9, 37.5, 12.5, 12....   \n93  [11.9, 12.5, 11.5, 12.5, 14.3, 12.1, 12.5, 12....   \n94  [28.6, 12.5, 12.5, 12.9, 12.5, 12.5, 13.3, 12....   \n95  [26.4, 25.0, 26.6, 25.0, 19.6, 14.3, 12.5, 12....   \n96  [12.5, 24.6, 12.5, 12.3, 12.5, 11.3, 12.5, 12....   \n\n                used_read_access_memory_in_percentage  \\\n0                                                70.1   \n1                                                70.3   \n2                                                70.3   \n3                                                70.3   \n4                                                70.4   \n..                                                ...   \n92  [61.8, 61.8, 61.8, 61.8, 61.2, 61.2, 61.1, 61....   \n93  [62.0, 62.0, 62.0, 62.0, 62.0, 62.0, 62.0, 62....   \n94  [62.4, 62.4, 62.4, 62.4, 62.3, 62.3, 62.3, 62....   \n95  [63.7, 63.7, 63.6, 63.6, 63.6, 63.6, 63.6, 63....   \n96  [62.7, 62.6, 62.6, 62.6, 62.6, 62.5, 62.5, 62....   \n\n    time_duration_with_cpu_profiler_in_sec              used_algorithm  \\\n0                                 0.000430  brute_force_lib_python_tsp   \n1                                 0.000336  brute_force_lib_python_tsp   \n2                                 0.000309  brute_force_lib_python_tsp   \n3                                 0.000297  brute_force_lib_python_tsp   \n4                                 0.000307  brute_force_lib_python_tsp   \n..                                     ...                         ...   \n92                             1590.283580  brute_force_lib_python_tsp   \n93                             1465.791464  brute_force_lib_python_tsp   \n94                             1596.758463  brute_force_lib_python_tsp   \n95                             1263.191346  brute_force_lib_python_tsp   \n96                             2567.380877  brute_force_lib_python_tsp   \n\n              name_of_src_file  time_duration_without_malloc_in_sec  \\\n0    TSP_CITIES_SET_0_N_4.json                             0.000140   \n1    TSP_CITIES_SET_1_N_4.json                             0.000138   \n2    TSP_CITIES_SET_2_N_4.json                             0.000134   \n3    TSP_CITIES_SET_3_N_4.json                             0.000129   \n4    TSP_CITIES_SET_4_N_4.json                             0.000311   \n..                         ...                                  ...   \n92  TSP_CITIES_SET_3_N_12.json                           348.052047   \n93  TSP_CITIES_SET_4_N_12.json                           379.861843   \n94  TSP_CITIES_SET_5_N_12.json                           375.872813   \n95  TSP_CITIES_SET_6_N_12.json                           348.112917   \n96  TSP_CITIES_SET_7_N_12.json                           348.003972   \n\n      full_cost                                   best_way  ...  \\\n0   1935.208176                            [0, 3, 2, 1, 0]  ...   \n1   2849.964203                            [0, 1, 3, 2, 0]  ...   \n2   2672.783922                            [0, 2, 1, 3, 0]  ...   \n3   2088.938558                            [0, 1, 2, 3, 0]  ...   \n4   2138.469421                            [0, 1, 2, 3, 0]  ...   \n..          ...                                        ...  ...   \n92  5881.123776  [0, 4, 10, 9, 1, 5, 3, 7, 6, 2, 11, 8, 0]  ...   \n93  6644.028324  [0, 1, 5, 10, 3, 9, 11, 2, 6, 8, 4, 7, 0]  ...   \n94  5712.007995  [0, 2, 5, 7, 8, 6, 3, 1, 10, 11, 9, 4, 0]  ...   \n95  6375.666663  [0, 5, 8, 3, 10, 11, 4, 2, 9, 7, 6, 1, 0]  ...   \n96  7082.095265  [0, 3, 7, 10, 4, 9, 5, 11, 6, 2, 1, 8, 0]  ...   \n\n    used_memory_peak_after_measurement_in_bytes  \\\n0                                          3110   \n1                                          3110   \n2                                          3110   \n3                                          3110   \n4                                          3110   \n..                                          ...   \n92                                         8142   \n93                                         8142   \n94                                         8142   \n95                                         8142   \n96                                         8142   \n\n    used_memory_diff_before_after_measurement_in_bytes  \\\n0                                                3110    \n1                                                3110    \n2                                                3110    \n3                                                3110    \n4                                                3110    \n..                                                ...    \n92                                               8142    \n93                                               8142    \n94                                               8142    \n95                                               8142    \n96                                               8142    \n\n    used_memory_peak_diff_before_after_measurement_in_bytes  is_valid_way  \\\n0                                                3110               False   \n1                                                3110               False   \n2                                                3110               False   \n3                                                3110               False   \n4                                                3110               False   \n..                                                ...                 ...   \n92                                               8142               False   \n93                                               8142               False   \n94                                               8142               False   \n95                                               8142               False   \n96                                               8142               False   \n\n    is_optimal_cost  is_optimal_way  is_best_and_optimal  distance_error  \\\n0             False           False                False             0.0   \n1             False           False                False             0.0   \n2             False           False                False             0.0   \n3             False           False                False             0.0   \n4             False           False                False             0.0   \n..              ...             ...                  ...             ...   \n92            False           False                False             0.0   \n93            False           False                False             0.0   \n94            False           False                False             0.0   \n95            False           False                False             0.0   \n96            False           False                False             0.0   \n\n    optimal_error_percentage  average_cpu_utilization  \n0                        0.0                      0.0  \n1                        0.0                      0.0  \n2                        0.0                      0.0  \n3                        0.0                      0.0  \n4                        0.0                      0.0  \n..                       ...                      ...  \n92                       0.0                      0.0  \n93                       0.0                      0.0  \n94                       0.0                      0.0  \n95                       0.0                      0.0  \n96                       0.0                      0.0  \n\n[97 rows x 24 columns]",
      "text/html": "<div>\n<style scoped>\n    .dataframe tbody tr th:only-of-type {\n        vertical-align: middle;\n    }\n\n    .dataframe tbody tr th {\n        vertical-align: top;\n    }\n\n    .dataframe thead th {\n        text-align: right;\n    }\n</style>\n<table border=\"1\" class=\"dataframe\">\n  <thead>\n    <tr style=\"text-align: right;\">\n      <th></th>\n      <th>Unnamed: 0</th>\n      <th>used_read_access_memory_in_bytes</th>\n      <th>utilization_of_cpu</th>\n      <th>used_read_access_memory_in_percentage</th>\n      <th>time_duration_with_cpu_profiler_in_sec</th>\n      <th>used_algorithm</th>\n      <th>name_of_src_file</th>\n      <th>time_duration_without_malloc_in_sec</th>\n      <th>full_cost</th>\n      <th>best_way</th>\n      <th>...</th>\n      <th>used_memory_peak_after_measurement_in_bytes</th>\n      <th>used_memory_diff_before_after_measurement_in_bytes</th>\n      <th>used_memory_peak_diff_before_after_measurement_in_bytes</th>\n      <th>is_valid_way</th>\n      <th>is_optimal_cost</th>\n      <th>is_optimal_way</th>\n      <th>is_best_and_optimal</th>\n      <th>distance_error</th>\n      <th>optimal_error_percentage</th>\n      <th>average_cpu_utilization</th>\n    </tr>\n  </thead>\n  <tbody>\n    <tr>\n      <th>0</th>\n      <td>0</td>\n      <td>11920646144</td>\n      <td>0.0</td>\n      <td>70.1</td>\n      <td>0.000430</td>\n      <td>brute_force_lib_python_tsp</td>\n      <td>TSP_CITIES_SET_0_N_4.json</td>\n      <td>0.000140</td>\n      <td>1935.208176</td>\n      <td>[0, 3, 2, 1, 0]</td>\n      <td>...</td>\n      <td>3110</td>\n      <td>3110</td>\n      <td>3110</td>\n      <td>False</td>\n      <td>False</td>\n      <td>False</td>\n      <td>False</td>\n      <td>0.0</td>\n      <td>0.0</td>\n      <td>0.0</td>\n    </tr>\n    <tr>\n      <th>1</th>\n      <td>1</td>\n      <td>11942338560</td>\n      <td>15.4</td>\n      <td>70.3</td>\n      <td>0.000336</td>\n      <td>brute_force_lib_python_tsp</td>\n      <td>TSP_CITIES_SET_1_N_4.json</td>\n      <td>0.000138</td>\n      <td>2849.964203</td>\n      <td>[0, 1, 3, 2, 0]</td>\n      <td>...</td>\n      <td>3110</td>\n      <td>3110</td>\n      <td>3110</td>\n      <td>False</td>\n      <td>False</td>\n      <td>False</td>\n      <td>False</td>\n      <td>0.0</td>\n      <td>0.0</td>\n      <td>0.0</td>\n    </tr>\n    <tr>\n      <th>2</th>\n      <td>2</td>\n      <td>11950133248</td>\n      <td>0.0</td>\n      <td>70.3</td>\n      <td>0.000309</td>\n      <td>brute_force_lib_python_tsp</td>\n      <td>TSP_CITIES_SET_2_N_4.json</td>\n      <td>0.000134</td>\n      <td>2672.783922</td>\n      <td>[0, 2, 1, 3, 0]</td>\n      <td>...</td>\n      <td>3110</td>\n      <td>3110</td>\n      <td>3110</td>\n      <td>False</td>\n      <td>False</td>\n      <td>False</td>\n      <td>False</td>\n      <td>0.0</td>\n      <td>0.0</td>\n      <td>0.0</td>\n    </tr>\n    <tr>\n      <th>3</th>\n      <td>3</td>\n      <td>11954675712</td>\n      <td>0.0</td>\n      <td>70.3</td>\n      <td>0.000297</td>\n      <td>brute_force_lib_python_tsp</td>\n      <td>TSP_CITIES_SET_3_N_4.json</td>\n      <td>0.000129</td>\n      <td>2088.938558</td>\n      <td>[0, 1, 2, 3, 0]</td>\n      <td>...</td>\n      <td>3110</td>\n      <td>3110</td>\n      <td>3110</td>\n      <td>False</td>\n      <td>False</td>\n      <td>False</td>\n      <td>False</td>\n      <td>0.0</td>\n      <td>0.0</td>\n      <td>0.0</td>\n    </tr>\n    <tr>\n      <th>4</th>\n      <td>4</td>\n      <td>11964362752</td>\n      <td>0.0</td>\n      <td>70.4</td>\n      <td>0.000307</td>\n      <td>brute_force_lib_python_tsp</td>\n      <td>TSP_CITIES_SET_4_N_4.json</td>\n      <td>0.000311</td>\n      <td>2138.469421</td>\n      <td>[0, 1, 2, 3, 0]</td>\n      <td>...</td>\n      <td>3110</td>\n      <td>3110</td>\n      <td>3110</td>\n      <td>False</td>\n      <td>False</td>\n      <td>False</td>\n      <td>False</td>\n      <td>0.0</td>\n      <td>0.0</td>\n      <td>0.0</td>\n    </tr>\n    <tr>\n      <th>...</th>\n      <td>...</td>\n      <td>...</td>\n      <td>...</td>\n      <td>...</td>\n      <td>...</td>\n      <td>...</td>\n      <td>...</td>\n      <td>...</td>\n      <td>...</td>\n      <td>...</td>\n      <td>...</td>\n      <td>...</td>\n      <td>...</td>\n      <td>...</td>\n      <td>...</td>\n      <td>...</td>\n      <td>...</td>\n      <td>...</td>\n      <td>...</td>\n      <td>...</td>\n      <td>...</td>\n    </tr>\n    <tr>\n      <th>92</th>\n      <td>95</td>\n      <td>[10503348224, 10502090752, 10502074368, 105020...</td>\n      <td>[24.1, 23.0, 28.6, 32.5, 17.9, 37.5, 12.5, 12....</td>\n      <td>[61.8, 61.8, 61.8, 61.8, 61.2, 61.2, 61.1, 61....</td>\n      <td>1590.283580</td>\n      <td>brute_force_lib_python_tsp</td>\n      <td>TSP_CITIES_SET_3_N_12.json</td>\n      <td>348.052047</td>\n      <td>5881.123776</td>\n      <td>[0, 4, 10, 9, 1, 5, 3, 7, 6, 2, 11, 8, 0]</td>\n      <td>...</td>\n      <td>8142</td>\n      <td>8142</td>\n      <td>8142</td>\n      <td>False</td>\n      <td>False</td>\n      <td>False</td>\n      <td>False</td>\n      <td>0.0</td>\n      <td>0.0</td>\n      <td>0.0</td>\n    </tr>\n    <tr>\n      <th>93</th>\n      <td>96</td>\n      <td>[10540695552, 10539208704, 10539253760, 105471...</td>\n      <td>[11.9, 12.5, 11.5, 12.5, 14.3, 12.1, 12.5, 12....</td>\n      <td>[62.0, 62.0, 62.0, 62.0, 62.0, 62.0, 62.0, 62....</td>\n      <td>1465.791464</td>\n      <td>brute_force_lib_python_tsp</td>\n      <td>TSP_CITIES_SET_4_N_12.json</td>\n      <td>379.861843</td>\n      <td>6644.028324</td>\n      <td>[0, 1, 5, 10, 3, 9, 11, 2, 6, 8, 4, 7, 0]</td>\n      <td>...</td>\n      <td>8142</td>\n      <td>8142</td>\n      <td>8142</td>\n      <td>False</td>\n      <td>False</td>\n      <td>False</td>\n      <td>False</td>\n      <td>0.0</td>\n      <td>0.0</td>\n      <td>0.0</td>\n    </tr>\n    <tr>\n      <th>94</th>\n      <td>97</td>\n      <td>[10613751808, 10611290112, 10609831936, 106100...</td>\n      <td>[28.6, 12.5, 12.5, 12.9, 12.5, 12.5, 13.3, 12....</td>\n      <td>[62.4, 62.4, 62.4, 62.4, 62.3, 62.3, 62.3, 62....</td>\n      <td>1596.758463</td>\n      <td>brute_force_lib_python_tsp</td>\n      <td>TSP_CITIES_SET_5_N_12.json</td>\n      <td>375.872813</td>\n      <td>5712.007995</td>\n      <td>[0, 2, 5, 7, 8, 6, 3, 1, 10, 11, 9, 4, 0]</td>\n      <td>...</td>\n      <td>8142</td>\n      <td>8142</td>\n      <td>8142</td>\n      <td>False</td>\n      <td>False</td>\n      <td>False</td>\n      <td>False</td>\n      <td>0.0</td>\n      <td>0.0</td>\n      <td>0.0</td>\n    </tr>\n    <tr>\n      <th>95</th>\n      <td>98</td>\n      <td>[10833117184, 10833166336, 10809298944, 108121...</td>\n      <td>[26.4, 25.0, 26.6, 25.0, 19.6, 14.3, 12.5, 12....</td>\n      <td>[63.7, 63.7, 63.6, 63.6, 63.6, 63.6, 63.6, 63....</td>\n      <td>1263.191346</td>\n      <td>brute_force_lib_python_tsp</td>\n      <td>TSP_CITIES_SET_6_N_12.json</td>\n      <td>348.112917</td>\n      <td>6375.666663</td>\n      <td>[0, 5, 8, 3, 10, 11, 4, 2, 9, 7, 6, 1, 0]</td>\n      <td>...</td>\n      <td>8142</td>\n      <td>8142</td>\n      <td>8142</td>\n      <td>False</td>\n      <td>False</td>\n      <td>False</td>\n      <td>False</td>\n      <td>0.0</td>\n      <td>0.0</td>\n      <td>0.0</td>\n    </tr>\n    <tr>\n      <th>96</th>\n      <td>99</td>\n      <td>[10651512832, 10647179264, 10647179264, 106471...</td>\n      <td>[12.5, 24.6, 12.5, 12.3, 12.5, 11.3, 12.5, 12....</td>\n      <td>[62.7, 62.6, 62.6, 62.6, 62.6, 62.5, 62.5, 62....</td>\n      <td>2567.380877</td>\n      <td>brute_force_lib_python_tsp</td>\n      <td>TSP_CITIES_SET_7_N_12.json</td>\n      <td>348.003972</td>\n      <td>7082.095265</td>\n      <td>[0, 3, 7, 10, 4, 9, 5, 11, 6, 2, 1, 8, 0]</td>\n      <td>...</td>\n      <td>8142</td>\n      <td>8142</td>\n      <td>8142</td>\n      <td>False</td>\n      <td>False</td>\n      <td>False</td>\n      <td>False</td>\n      <td>0.0</td>\n      <td>0.0</td>\n      <td>0.0</td>\n    </tr>\n  </tbody>\n</table>\n<p>97 rows × 24 columns</p>\n</div>"
     },
     "execution_count": 201,
     "metadata": {},
     "output_type": "execute_result"
    }
   ],
   "source": [
    "subset_for_brute_force"
   ],
   "metadata": {
    "collapsed": false,
    "pycharm": {
     "name": "#%%\n"
    }
   }
  },
  {
   "cell_type": "code",
   "execution_count": 202,
   "outputs": [
    {
     "data": {
      "text/plain": "Series([], Name: used_algorithm, dtype: int64)"
     },
     "execution_count": 202,
     "metadata": {},
     "output_type": "execute_result"
    }
   ],
   "source": [
    "df[\"is_optimal_way\"].value_counts()\n",
    "condition = (df[\"is_optimal_way\"] != df[\"is_optimal_cost\"])\n",
    "subset= df[condition]\n",
    "subset[USED_ALGORITHM].value_counts()"
   ],
   "metadata": {
    "collapsed": false,
    "pycharm": {
     "name": "#%%\n"
    }
   }
  },
  {
   "cell_type": "code",
   "execution_count": 203,
   "outputs": [
    {
     "data": {
      "text/plain": "Series([], Name: name_of_src_file, dtype: int64)"
     },
     "execution_count": 203,
     "metadata": {},
     "output_type": "execute_result"
    }
   ],
   "source": [
    "subset[NAME_OF_SRC_FILE].value_counts()"
   ],
   "metadata": {
    "collapsed": false,
    "pycharm": {
     "name": "#%%\n"
    }
   }
  },
  {
   "cell_type": "code",
   "execution_count": 204,
   "outputs": [
    {
     "data": {
      "text/plain": "Series([], Name: used_algorithm, dtype: int64)"
     },
     "execution_count": 204,
     "metadata": {},
     "output_type": "execute_result"
    }
   ],
   "source": [
    "# Przypadki gdy trasa jest optymalna ale jej koszt jest inny od optymalnego\n",
    "condition = (df[\"is_optimal_way\"] > df[\"is_optimal_cost\"])\n",
    "subset= df[condition]\n",
    "subset[USED_ALGORITHM].value_counts()"
   ],
   "metadata": {
    "collapsed": false,
    "pycharm": {
     "name": "#%%\n"
    }
   }
  },
  {
   "cell_type": "code",
   "execution_count": 205,
   "outputs": [
    {
     "data": {
      "text/plain": "Series([], Name: used_algorithm, dtype: int64)"
     },
     "execution_count": 205,
     "metadata": {},
     "output_type": "execute_result"
    }
   ],
   "source": [
    "# Przypadki gdy koszt jest optymaln ale trasa jest inna niż optymalna\n",
    "condition = (df[\"is_optimal_way\"] < df[\"is_optimal_cost\"])\n",
    "subset= df[condition]\n",
    "subset[USED_ALGORITHM].value_counts()"
   ],
   "metadata": {
    "collapsed": false,
    "pycharm": {
     "name": "#%%\n"
    }
   }
  },
  {
   "cell_type": "code",
   "execution_count": 206,
   "outputs": [
    {
     "data": {
      "text/plain": "Empty DataFrame\nColumns: [Unnamed: 0, used_read_access_memory_in_bytes, utilization_of_cpu, used_read_access_memory_in_percentage, time_duration_with_cpu_profiler_in_sec, used_algorithm, name_of_src_file, time_duration_without_malloc_in_sec, full_cost, best_way, time_duration_with_malloc_in_sec, used_memory_before_measurement_in_bytes, used_memory_peak_before_measurement_in_bytes, used_memory_after_measurement_in_bytes, used_memory_peak_after_measurement_in_bytes, used_memory_diff_before_after_measurement_in_bytes, used_memory_peak_diff_before_after_measurement_in_bytes, is_valid_way, is_optimal_cost, is_optimal_way, is_best_and_optimal, distance_error, optimal_error_percentage, average_cpu_utilization]\nIndex: []\n\n[0 rows x 24 columns]",
      "text/html": "<div>\n<style scoped>\n    .dataframe tbody tr th:only-of-type {\n        vertical-align: middle;\n    }\n\n    .dataframe tbody tr th {\n        vertical-align: top;\n    }\n\n    .dataframe thead th {\n        text-align: right;\n    }\n</style>\n<table border=\"1\" class=\"dataframe\">\n  <thead>\n    <tr style=\"text-align: right;\">\n      <th></th>\n      <th>Unnamed: 0</th>\n      <th>used_read_access_memory_in_bytes</th>\n      <th>utilization_of_cpu</th>\n      <th>used_read_access_memory_in_percentage</th>\n      <th>time_duration_with_cpu_profiler_in_sec</th>\n      <th>used_algorithm</th>\n      <th>name_of_src_file</th>\n      <th>time_duration_without_malloc_in_sec</th>\n      <th>full_cost</th>\n      <th>best_way</th>\n      <th>...</th>\n      <th>used_memory_peak_after_measurement_in_bytes</th>\n      <th>used_memory_diff_before_after_measurement_in_bytes</th>\n      <th>used_memory_peak_diff_before_after_measurement_in_bytes</th>\n      <th>is_valid_way</th>\n      <th>is_optimal_cost</th>\n      <th>is_optimal_way</th>\n      <th>is_best_and_optimal</th>\n      <th>distance_error</th>\n      <th>optimal_error_percentage</th>\n      <th>average_cpu_utilization</th>\n    </tr>\n  </thead>\n  <tbody>\n  </tbody>\n</table>\n<p>0 rows × 24 columns</p>\n</div>"
     },
     "execution_count": 206,
     "metadata": {},
     "output_type": "execute_result"
    }
   ],
   "source": [
    "condition = (df[USED_ALGORITHM] == ANT_COLONY_TSP_SCIKIT_OPT_DIR)\n",
    "sub = df[condition]\n",
    "sub"
   ],
   "metadata": {
    "collapsed": false,
    "pycharm": {
     "name": "#%%\n"
    }
   }
  },
  {
   "cell_type": "code",
   "execution_count": null,
   "outputs": [],
   "source": [],
   "metadata": {
    "collapsed": false,
    "pycharm": {
     "name": "#%%\n"
    }
   }
  }
 ],
 "metadata": {
  "kernelspec": {
   "name": "pycharm-ac97db8",
   "language": "python",
   "display_name": "PyCharm (TSP_magistery_pl_job)"
  },
  "language_info": {
   "codemirror_mode": {
    "name": "ipython",
    "version": 2
   },
   "file_extension": ".py",
   "mimetype": "text/x-python",
   "name": "python",
   "nbconvert_exporter": "python",
   "pygments_lexer": "ipython2",
   "version": "2.7.6"
  }
 },
 "nbformat": 4,
 "nbformat_minor": 0
}